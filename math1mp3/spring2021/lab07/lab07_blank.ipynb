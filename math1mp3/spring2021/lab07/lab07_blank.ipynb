{
 "cells": [
  {
   "cell_type": "markdown",
   "metadata": {},
   "source": [
    "# Lab 7: Monday, May 31\n",
    "\n",
    "Reminders\n",
    "  * Assignment 3 due Tuesday -- remember to name files correctly!\n",
    "  * Test 2 on Wednesday on Avenue\n",
    "\n",
    "Today's Lab Topics\n",
    "  * `input()`\n",
    "  * File I/O\n",
    "  * NumPy\n",
    "  * MatPlotLib"
   ]
  },
  {
   "cell_type": "markdown",
   "metadata": {},
   "source": [
    "## Questions?"
   ]
  },
  {
   "cell_type": "markdown",
   "metadata": {},
   "source": [
    "## 1. Integer Input\n",
    "\n",
    "Write a function, which we'll use in the next question, which takes a single parameter, and asks for input using `input()`.\n",
    "The parameter should be a string, which is then used as the parameter when you call `input()`.\n",
    "\n",
    "The function should then cast the input to an integer (using `int()`) and return the integer, if the input is a nonnegative integer.\n",
    "If the input is not a nonnegative integer, then you should print a descriptive error message and ask for input again. \n",
    "(Your function should return the first integer value it receives.)"
   ]
  },
  {
   "cell_type": "code",
   "execution_count": null,
   "metadata": {},
   "outputs": [],
   "source": [
    "def get_int(prompt):"
   ]
  },
  {
   "cell_type": "code",
   "execution_count": null,
   "metadata": {},
   "outputs": [],
   "source": [
    "# try it yourself...\n",
    "print(get_int('Enter a nonnegative integer: '))"
   ]
  },
  {
   "cell_type": "markdown",
   "metadata": {},
   "source": [
    "## 2. Writing to file\n",
    "\n",
    "Write a function `text_nums()` which does not take any parameters, then using `input()` gets the following input from the user:\n",
    "1. `start`,\n",
    "2. `stop`,\n",
    "3. `step`,\n",
    "4. `file_name`.\n",
    "\n",
    "The first three should be integers, so you should use your previous function.\n",
    "The fourth input should be a string, you may assume this input is valid.\n",
    "\n",
    "The output of the function should be written to the file `file_name`. \n",
    "This output should be a list of numbers, each on a new line, starting at `start`, going up to _and including_ `stop`, with a step size `step`.\n",
    "\n",
    "So, if the inputs are `start = 2`, `stop = 20`, `step = 3`, and `file_name = 'num_doc.txt'`, your function should open the text document `num_doc.txt` and write the following list:\n",
    "\n",
    "```\n",
    "2\n",
    "5\n",
    "8\n",
    "11\n",
    "14\n",
    "17\n",
    "20\n",
    "```"
   ]
  },
  {
   "cell_type": "code",
   "execution_count": null,
   "metadata": {},
   "outputs": [],
   "source": [
    "def text_nums():"
   ]
  },
  {
   "cell_type": "markdown",
   "metadata": {},
   "source": [
    "Use the following inputs with your function, and check you get the output you expect:\n",
    "1. `start = 2`, `stop = 20`, `step = 3`, `file_name = Assets/question2_output.txt`,\n",
    "2. `start = 0`, `stop = 20`, `step = 1`, `file_name = Assets/linspace.txt`.\n",
    "\n",
    "(You may want to adjust the file names to suit the storage on your computer.)"
   ]
  },
  {
   "cell_type": "code",
   "execution_count": null,
   "metadata": {
    "scrolled": true
   },
   "outputs": [],
   "source": [
    "text_nums()"
   ]
  },
  {
   "cell_type": "code",
   "execution_count": null,
   "metadata": {},
   "outputs": [],
   "source": [
    "text_nums()"
   ]
  },
  {
   "cell_type": "markdown",
   "metadata": {},
   "source": [
    "## 3. Reading a file\n",
    "\n",
    "Now write a function `compute` which takes three parameters:\n",
    "1. `x_file`,\n",
    "2. `fct`,\n",
    "3. `y_file`.\n",
    "\n",
    "Now `x_file` should be a file as in question 2, consisting of the $x$-values we'll use to create a file of $y$-values, which we'll output in `y_file`.\n",
    "For each $x$-value, the $y$-value should be computed with the function `fct`.\n",
    "\n",
    "The output in `y_file` should be formatted the same as in the previous question."
   ]
  },
  {
   "cell_type": "code",
   "execution_count": null,
   "metadata": {},
   "outputs": [],
   "source": [
    "def compute(x_file, fct, y_file):"
   ]
  },
  {
   "cell_type": "code",
   "execution_count": null,
   "metadata": {},
   "outputs": [],
   "source": [
    "compute('Assets/question2_output.txt', lambda x: x*x/10, 'Assets/question3_output.txt')"
   ]
  },
  {
   "cell_type": "code",
   "execution_count": null,
   "metadata": {},
   "outputs": [],
   "source": [
    "compute('Assets/linspace.txt', lambda x: x if x%2==0 else x-1, 'Assets/fct1.txt')"
   ]
  },
  {
   "cell_type": "code",
   "execution_count": null,
   "metadata": {},
   "outputs": [],
   "source": [
    "from math import sin\n",
    "compute('Assets/linspace.txt', lambda x: sin(x), 'Assets/fct2.txt')"
   ]
  },
  {
   "cell_type": "markdown",
   "metadata": {},
   "source": [
    "## 4. Putting it together & plotting\n",
    "\n",
    "Write a function `create_plot` which takes as parameters `x_file` and `y_file`.\n",
    "The function should create a plot using the $x$-values from `x_file` and $y$-values from `y_file`."
   ]
  },
  {
   "cell_type": "code",
   "execution_count": null,
   "metadata": {},
   "outputs": [],
   "source": [
    "import matplotlib.pyplot as plt\n",
    "\n",
    "def create_plot(x_file, y_file):"
   ]
  },
  {
   "cell_type": "code",
   "execution_count": null,
   "metadata": {},
   "outputs": [],
   "source": [
    "create_plot('Assets/question2_output.txt', 'Assets/question3_output.txt')"
   ]
  },
  {
   "cell_type": "code",
   "execution_count": null,
   "metadata": {
    "scrolled": true
   },
   "outputs": [],
   "source": [
    "create_plot('Assets/linspace.txt', 'Assets/fct1.txt')"
   ]
  },
  {
   "cell_type": "code",
   "execution_count": null,
   "metadata": {
    "scrolled": true
   },
   "outputs": [],
   "source": [
    "create_plot('Assets/linspace.txt', 'Assets/fct2.txt')"
   ]
  },
  {
   "cell_type": "markdown",
   "metadata": {},
   "source": [
    "## 5. Improvements with NumPy\n",
    "\n",
    "Now, the plots above aren't smooth. \n",
    "We can improve them using the `numpy` method `linspace()`.\n",
    "\n",
    "Write a function `better_plot()` which takes the following parameters:\n",
    "  * `start`\n",
    "  * `stop`\n",
    "  * `steps`\n",
    "  * `fct`\n",
    "\n",
    "Here, `steps` is the number of points in the interval from `start` to `stop`.\n",
    "Further, `start` and `stop` may be any float now (not just nonnegative integers).\n",
    "The last parameter `fct` is again some function.\n",
    "\n",
    "Your function should plot the function `fct` on the interval (of $x$-values) from `start` up to (and including) `stop`, with step size `step`."
   ]
  },
  {
   "cell_type": "code",
   "execution_count": null,
   "metadata": {},
   "outputs": [],
   "source": [
    "import numpy as np\n",
    "import matplotlib.pyplot as plt\n",
    "\n",
    "def better_plot(start, stop, steps, fct):"
   ]
  },
  {
   "cell_type": "code",
   "execution_count": null,
   "metadata": {},
   "outputs": [],
   "source": [
    "better_plot(-5, 5, 100, lambda x: x**2)"
   ]
  },
  {
   "cell_type": "code",
   "execution_count": null,
   "metadata": {},
   "outputs": [],
   "source": [
    "better_plot(-3*np.pi, 3*np.pi, 500, lambda x: np.sin(x))"
   ]
  },
  {
   "cell_type": "code",
   "execution_count": null,
   "metadata": {},
   "outputs": [],
   "source": [
    "better_plot(0, 10, 50, lambda x: np.floor(x))"
   ]
  },
  {
   "cell_type": "code",
   "execution_count": null,
   "metadata": {},
   "outputs": [],
   "source": [
    "better_plot(0, 10, 100, lambda x: np.floor(x))"
   ]
  },
  {
   "cell_type": "code",
   "execution_count": null,
   "metadata": {},
   "outputs": [],
   "source": [
    "better_plot(0, 10, 1000, lambda x: np.floor(x))"
   ]
  },
  {
   "cell_type": "code",
   "execution_count": null,
   "metadata": {},
   "outputs": [],
   "source": []
  }
 ],
 "metadata": {
  "kernelspec": {
   "display_name": "Python 3",
   "language": "python",
   "name": "python3"
  },
  "language_info": {
   "codemirror_mode": {
    "name": "ipython",
    "version": 3
   },
   "file_extension": ".py",
   "mimetype": "text/x-python",
   "name": "python",
   "nbconvert_exporter": "python",
   "pygments_lexer": "ipython3",
   "version": "3.7.7"
  }
 },
 "nbformat": 4,
 "nbformat_minor": 4
}
