{
 "cells": [
  {
   "cell_type": "markdown",
   "metadata": {},
   "source": [
    "# Lab 8: Wednesday, June 2\n",
    "\n",
    "Topics\n",
    "  * NumPy\n",
    "  * Matrices\n",
    "  * Definiteness of matrices\n",
    "  * Least squares"
   ]
  },
  {
   "cell_type": "markdown",
   "metadata": {},
   "source": [
    "## Questions?"
   ]
  },
  {
   "cell_type": "markdown",
   "metadata": {},
   "source": [
    "## 1. Proportions\n",
    "\n",
    "This exercise is going to consider functions which take as input a numpy array.\n",
    "Throughout this exercise, we'll assume the entries in this array are the final grades for a class (each entry is the final grade of a student.)\n",
    "\n",
    "Write a function which takes one of these arrays and returns the proportion (a number between 0 and 1) of students who passed the course (the grades that are 50% or greater).\n",
    "Round the proportion to 4 decimal places."
   ]
  },
  {
   "cell_type": "code",
   "execution_count": null,
   "metadata": {},
   "outputs": [],
   "source": [
    "import numpy as np"
   ]
  },
  {
   "cell_type": "code",
   "execution_count": null,
   "metadata": {},
   "outputs": [],
   "source": [
    "grades = np.array([65, 69, 67, 68, 56, 77, 69, 73, 55, 73, 76, 66, 52, 77, 93, 73, 65, 67, 69, 64, 79, 57, 77, 63, 66, 62, 83, 89, 100, 76, 88, 70, 61, 53, 75, 88, 77, 75, 80, 86, 83, 34, 74, 67, 60, 82, 59, 81, 56, 68, 72, 81, 60, 60, 60, 73, 46, 56, 56, 80, 68, 49, 76, 48, 66, 54, 73, 87, 73, 70, 66, 48, 55, 79, 45, 61, 70, 91, 83, 66, 63, 58, 85, 43, 83, 79, 60, 64, 63, 78, 50, 88, 71, 58, 69, 68, 68, 73, 62, 81, 77, 49, 64, 74, 55, 61, 86, 82, 31, 59, 51, 70, 51, 59, 49, 83, 70, 82, 66, 75, 49, 50, 71, 75, 46, 67, 54, 73, 76, 44, 57, 57, 59, 51, 93, 47, 83, 88, 50, 74, 84, 69, 48, 91, 62, 73, 65, 58, 47, 86, 51, 56, 52, 62, 46, 72, 66, 79, 77, 65, 59, 79, 64, 64, 72, 80, 79, 82, 70, 85, 98, 68, 62, 100, 49, 72, 83, 83, 80, 74, 56, 76, 53, 58, 58, 76, 73, 69, 76, 70, 61, 47, 72, 82, 58, 41, 83, 55, 80, 63, 66, 69, 69, 52, 51, 74, 76, 89, 66, 63, 82, 64, 70, 91, 72, 71, 63, 87, 57, 51, 67, 67, 65, 82, 90, 90, 43, 73, 44, 38, 65, 67, 70, 71, 80, 58, 37, 78, 62, 50, 49, 64, 69, 84, 50, 64, 63, 49, 90, 69, 55, 82, 80, 85, 100, 59, 68, 35, 81, 40, 80, 72, 50, 86, 76, 64, 59, 48, 77, 71, 68, 64, 75, 64, 84, 70, 86, 70, 76, 71, 82, 99, 70, 100, 67, 60, 42, 58, 65, 70, 84, 72, 60, 74, 74, 81, 62, 61, 64, 68, 65, 72, 75, 60, 60, 79, 74, 55, 82, 62, 45, 68, 91, 77, 62, 63, 63, 34, 74, 76, 71, 68, 57, 85, 63, 77, 70, 82, 73, 59, 96, 60, 67, 67, 82, 33, 82, 65, 64, 69, 52, 74, 88, 92, 86, 54, 75, 61, 91, 54, 91, 77, 70, 65, 80, 77, 67, 92, 57, 84, 69, 60, 47, 78, 69, 34, 65, 70, 87, 67, 72, 55, 75, 73, 61, 65, 85, 55, 93, 49, 66, 60, 61, 64, 69, 74, 96, 54, 78, 51, 61, 66, 55, 62, 51, 50, 60, 85, 72, 66, 81, 73, 50, 84, 61, 72, 25, 51, 69, 69, 63, 77, 86, 77, 45, 81, 47, 90, 88, 59, 85, 72, 61, 81, 65, 63, 68, 83, 71, 68, 86, 68, 80, 50, 71, 52, 67, 94, 66, 59, 88, 53, 62, 53, 74, 65, 64, 59, 52, 63, 58, 90, 83, 71, 74, 89, 60, 86, 84, 100, 67, 54, 72, 75, 86, 69, 55, 64, 92, 76, 94, 68, 49, 72, 73, 69, 81, 97, 66, 76, 90, 73, 75, 48, 68, 67, 63, 59, 70, 61, 53, 73, 67, 66, 56, 56, 69, 52, 54, 86, 71, 64, 41, 93, 79, 42, 88, 70, 40, 84, 63, 85, 58, 42, 67, 88, 66, 56, 78, 69, 77, 60, 73, 86, 74, 67, 64, 84, 45, 82, 76, 64, 82, 55, 64, 51, 56, 96, 70, 88, 66, 79, 67, 72, 68, 78, 61, 68, 56, 83, 60, 73, 49, 63, 71, 69, 51, 64, 66, 71, 61, 89, 59, 65, 55, 50, 41, 50, 61, 50, 65, 77, 68, 68, 71, 63, 43, 68, 78, 94, 56, 90, 64, 51, 74, 81, 91, 79, 72, 55, 72, 62, 78, 70, 80, 65, 53, 74, 61, 74, 56, 75, 56, 53, 84, 88, 63, 75, 59, 77, 82, 66, 100, 92, 70, 59, 49, 63, 78, 53, 67, 57, 73, 52, 52, 86, 82, 65, 64, 55, 50, 55, 61, 58, 96, 58, 52, 66, 59, 76, 43, 69, 62, 75, 97, 31, 47, 77, 44, 94, 79, 55, 54, 68, 76, 74, 45, 44, 55, 73, 60, 68, 68, 76, 68, 67, 66, 63, 70, 77, 46, 63, 49, 69, 81, 45, 72, 56, 61, 65, 88, 52, 57, 61, 87, 65, 73, 52, 83, 62, 79, 69, 73, 78, 51, 73, 86, 67, 59, 71, 80, 44, 83, 68, 67, 68, 59, 66, 88, 84, 53, 73, 60, 69, 74, 73, 63, 72, 70, 73, 79, 42, 76, 55, 66, 63, 68, 62, 76, 53, 65, 79, 46, 39, 65, 84, 68, 33, 76, 72, 74, 80, 68, 40, 68, 50, 50, 50, 65, 60, 69, 82, 43, 62, 56, 41, 71, 78, 61, 43, 53, 58, 70, 67, 58, 70, 83, 56, 60, 56, 53, 30, 99, 92, 59, 57, 78, 64, 61, 54, 58, 72, 38, 72, 61, 45, 62, 83, 72, 73, 76, 79, 72, 80, 73, 74, 67, 57, 72, 62, 73, 89, 75, 33, 67, 58, 79, 64, 62, 61, 62, 64, 77, 63, 71, 75, 78, 59, 69, 79, 65, 68, 77, 42, 78, 78, 77, 51, 51, 69, 93, 53, 78, 61, 73, 48, 96, 76, 60, 64])"
   ]
  },
  {
   "cell_type": "code",
   "execution_count": null,
   "metadata": {},
   "outputs": [],
   "source": [
    "def pass_prop(grade_array):\n",
    "    "
   ]
  },
  {
   "cell_type": "code",
   "execution_count": null,
   "metadata": {},
   "outputs": [],
   "source": [
    "print(pass_prop(np.array([49, 50, 51])))  # should print 0.6667\n",
    "print(pass_prop(grades))  # should print 0.9119"
   ]
  },
  {
   "cell_type": "markdown",
   "metadata": {},
   "source": [
    "Write another function which returns the proportion of students who received a grade above 90% (but not including 90%) in the course.\n",
    "Again, round the proportion to 4 decimal places."
   ]
  },
  {
   "cell_type": "code",
   "execution_count": null,
   "metadata": {},
   "outputs": [],
   "source": [
    "def prop90(grade_array):\n",
    "    "
   ]
  },
  {
   "cell_type": "code",
   "execution_count": null,
   "metadata": {
    "scrolled": true
   },
   "outputs": [],
   "source": [
    "print(prop90(np.array([89, 90, 91])))  # should print 0.3333\n",
    "print(prop90(grades))  # should print 0.044"
   ]
  },
  {
   "cell_type": "markdown",
   "metadata": {},
   "source": [
    "## 2. Matrix Definiteness\n",
    "\n",
    "This question is about the **definiteness** of _symmetric_ matrices.\n",
    "A symmetric matrix is \n",
    "\n",
    "  * **positive semi-definite** if its eigenvalues are nonnegative (greater than or equal to zero),\n",
    "  * **positive definite** if its eigenvalues are strictly positive\n",
    "  \n",
    "  * **negative semi-definite** if its eigenvalues are nonpositive (less than or equal to zero)\n",
    "  * **negative definite** if its eigenvalues are strictly negative\n",
    "  \n",
    "  * **indefinite** if it has both positive and negative eigenvalues.\n",
    "  \n",
    "Write a function `definite(A)` which takes a symmetric matrix as its argument.\n",
    "The function should return the type of definiteness as a string.\n",
    "\n",
    "Note that if all the eigenvalues are zero, the matrix is both positive semi-definite and negative semi-definite."
   ]
  },
  {
   "cell_type": "code",
   "execution_count": null,
   "metadata": {},
   "outputs": [],
   "source": [
    "from numpy.linalg import eig"
   ]
  },
  {
   "cell_type": "markdown",
   "metadata": {},
   "source": [
    "With the above import statement, you can use `eig(A)`.\n",
    "The usage is `e, v = eig(A)`, which will yield `e`, a numpy array of eigenvalues, and `v`, a numpy matrix where each column is an eigenvector."
   ]
  },
  {
   "cell_type": "code",
   "execution_count": null,
   "metadata": {},
   "outputs": [],
   "source": [
    "def definite(A):\n",
    "    "
   ]
  },
  {
   "cell_type": "markdown",
   "metadata": {},
   "source": [
    "Some matrices to check:\n",
    "\n",
    "$$\n",
    "A = \\begin{pmatrix} 2 & 6 \\\\ 6 & 18 \\end{pmatrix}, \\quad\n",
    "B = \\begin{pmatrix} -3 & 0 \\\\ 0 & -4 \\end{pmatrix}, \\quad\n",
    "C = \\begin{pmatrix} 1 & 0 \\\\ 0 & -1 \\end{pmatrix}, \\quad\n",
    "D = \\begin{pmatrix} 0 & 0 \\\\ 0 & 0 \\end{pmatrix}.\n",
    "$$"
   ]
  },
  {
   "cell_type": "code",
   "execution_count": null,
   "metadata": {},
   "outputs": [],
   "source": [
    "A = np.matrix([[2, 6], [6, 18]])\n",
    "B = np.matrix([[-3, 0], [0, -4]])\n",
    "C = np.matrix([[1, 0], [0, -1]])\n",
    "D = np.zeros((2,2))"
   ]
  },
  {
   "cell_type": "code",
   "execution_count": null,
   "metadata": {},
   "outputs": [],
   "source": [
    "print(definite(A))  # should print 'Positive semi-definite'\n",
    "print(definite(B))  # should print 'Negative definite'\n",
    "print(definite(C))  # should print 'Indefinite'\n",
    "print(definite(D))  # should print 'Positive semi-definite and negative semi-definite'"
   ]
  },
  {
   "cell_type": "markdown",
   "metadata": {},
   "source": [
    "## 3. Hilbert Matrices\n",
    "\n",
    "A **Hilbert matrix** is a square ($n \\times n$) matrix, typically denoted $H(n)$, whose entries are given by the formula $$H_{ij}(n) = \\frac{1}{i+j-1}.$$\n",
    "That is, the entry in the $i^\\text{th}$ row and $j^\\text{th}$ column is given by $\\frac{1}{i+j-1}$.\n",
    "The Hilbert matrix is often of interest as it behaves poorly with floating point number systems.\n",
    "\n",
    "Write a function `hilb(n)` which returns a $n\\times n$ Hilbert (numpy) matrix. (Hint: it may be easier to use arrays to create the matrix, then cast the arrays to a matrix using `np.matrix()` at the end.)"
   ]
  },
  {
   "cell_type": "code",
   "execution_count": null,
   "metadata": {},
   "outputs": [],
   "source": [
    "def hilb(n):\n",
    "    "
   ]
  },
  {
   "cell_type": "code",
   "execution_count": null,
   "metadata": {
    "scrolled": true
   },
   "outputs": [],
   "source": [
    "hilb(3)\n",
    "\n",
    "# should print\n",
    "# matrix([[1.        , 0.5       , 0.33333333],\n",
    "#         [0.5       , 0.33333333, 0.25      ],\n",
    "#         [0.33333333, 0.25      , 0.2       ]])"
   ]
  },
  {
   "cell_type": "code",
   "execution_count": null,
   "metadata": {},
   "outputs": [],
   "source": [
    "hilb(5)\n",
    "\n",
    "# should print\n",
    "# matrix([[1.        , 0.5       , 0.33333333, 0.25      , 0.2       ],\n",
    "#         [0.5       , 0.33333333, 0.25      , 0.2       , 0.16666667],\n",
    "#         [0.33333333, 0.25      , 0.2       , 0.16666667, 0.14285714],\n",
    "#         [0.25      , 0.2       , 0.16666667, 0.14285714, 0.125     ],\n",
    "#         [0.2       , 0.16666667, 0.14285714, 0.125     , 0.11111111]])"
   ]
  },
  {
   "cell_type": "markdown",
   "metadata": {},
   "source": [
    "## 4. Repmat\n",
    "\n",
    "Write a function `repmat(A, m, n)` which takes a numpy matrix `A` and two positive integers `m` and `n`.\n",
    "The output of the function should be a new matrix which 'repeats' the matrix $A$.\n",
    "The easiest way to understand the desired output is by example.\n",
    "\n",
    "Consider the matrix $A = \\begin{pmatrix} 1 & 2 \\\\ 3 & 4 \\end{pmatrix}$.\n",
    "Then, calling `repmat(A, 3, 2)` yields the following output. $$ \\begin{pmatrix} 1 & 2 & 1 & 2 & 1 & 2 \\\\ 3 & 4 & 3 & 4 & 3 & 4 \\\\ 1 & 2 & 1 & 2 & 1 & 2 \\\\ 3 & 4 & 3 & 4 & 3 & 4 \\end{pmatrix} $$\n",
    "\n",
    "We can see the original matrix $A$ has been repeated several times: three ($m$) times across and two ($n$) times down.\n",
    "\n",
    "Similarly, if we have $B = \\begin{pmatrix} 1 & 0 \\end{pmatrix}$ and called `repmat(B, 1, 5)`, we would get the following output. $$\\begin{pmatrix} 1 & 0 \\\\ 1 & 0 \\\\ 1 & 0 \\\\ 1 & 0 \\\\ 1 & 0 \\end{pmatrix}$$"
   ]
  },
  {
   "cell_type": "code",
   "execution_count": null,
   "metadata": {},
   "outputs": [],
   "source": [
    "def repmat(A, m, n):\n",
    "    "
   ]
  },
  {
   "cell_type": "code",
   "execution_count": null,
   "metadata": {},
   "outputs": [],
   "source": [
    "# here are the matrices from above\n",
    "A = np.matrix([[1, 2], [3, 4]])\n",
    "B = np.matrix([[1, 0]])"
   ]
  },
  {
   "cell_type": "code",
   "execution_count": null,
   "metadata": {},
   "outputs": [],
   "source": [
    "# should get outputs as above\n",
    "print(repmat(A, 3, 2))\n",
    "print()\n",
    "print(repmat(B, 1, 5))"
   ]
  },
  {
   "cell_type": "code",
   "execution_count": null,
   "metadata": {},
   "outputs": [],
   "source": [
    "print(repmat(hilb(3), 3, 3))\n",
    "\n",
    "# should print\n",
    "# [[1.         0.5        0.33333333 1.         0.5        0.33333333 1.         0.5        0.33333333]\n",
    "#  [0.5        0.33333333 0.25       0.5        0.33333333 0.25       0.5        0.33333333 0.25      ]\n",
    "#  [0.33333333 0.25       0.2        0.33333333 0.25       0.2        0.33333333 0.25       0.2       ]\n",
    "#  [1.         0.5        0.33333333 1.         0.5        0.33333333 1.         0.5        0.33333333]\n",
    "#  [0.5        0.33333333 0.25       0.5        0.33333333 0.25       0.5        0.33333333 0.25      ]\n",
    "#  [0.33333333 0.25       0.2        0.33333333 0.25       0.2        0.33333333 0.25       0.2       ]\n",
    "#  [1.         0.5        0.33333333 1.         0.5        0.33333333 1.         0.5        0.33333333]\n",
    "#  [0.5        0.33333333 0.25       0.5        0.33333333 0.25       0.5        0.33333333 0.25      ]\n",
    "#  [0.33333333 0.25       0.2        0.33333333 0.25       0.2        0.33333333 0.25       0.2       ]]"
   ]
  },
  {
   "cell_type": "code",
   "execution_count": null,
   "metadata": {},
   "outputs": [],
   "source": [
    "print(repmat(np.eye(3), 3, 3))\n",
    "\n",
    "# should print\n",
    "# [[1. 0. 0. 1. 0. 0. 1. 0. 0.]\n",
    "#  [0. 1. 0. 0. 1. 0. 0. 1. 0.]\n",
    "#  [0. 0. 1. 0. 0. 1. 0. 0. 1.]\n",
    "#  [1. 0. 0. 1. 0. 0. 1. 0. 0.]\n",
    "#  [0. 1. 0. 0. 1. 0. 0. 1. 0.]\n",
    "#  [0. 0. 1. 0. 0. 1. 0. 0. 1.]\n",
    "#  [1. 0. 0. 1. 0. 0. 1. 0. 0.]\n",
    "#  [0. 1. 0. 0. 1. 0. 0. 1. 0.]\n",
    "#  [0. 0. 1. 0. 0. 1. 0. 0. 1.]]"
   ]
  },
  {
   "cell_type": "markdown",
   "metadata": {},
   "source": [
    "## 5. Least Squares\n",
    "\n",
    "The least squares method is an approach for \"solving\" a linear system $Az=b$ when the system is inconsistent, meaning that, although there is no exact solution, least squares will find the $z$-vector such that $Az$ is closest to $b$.\n",
    "(So, instead of solving $Az=b$, we're finding the $z$ such that $Az \\approx b$.)\n",
    "\n",
    "There is, of course, a numpy method for this, and it's imported below.\n",
    "Its usage is `z, res, rank, sing = lstsq(A, b, rcond=-1)` for the linear system $Az=b$.\n",
    "The variable `z` will store what we want and for the scope of this question, we can disregard the other variables `res`, `rank`, and `sing`."
   ]
  },
  {
   "cell_type": "code",
   "execution_count": null,
   "metadata": {},
   "outputs": [],
   "source": [
    "from numpy.linalg import lstsq"
   ]
  },
  {
   "cell_type": "markdown",
   "metadata": {},
   "source": [
    "A planet's orbit is in the path of an ellipse, which can be modelled by the equation $$ay^2 + bxy + cx + dy + e = x^2.$$\n",
    "\n",
    "Suppose we have the following 8 observations for the path of a planet, \n",
    "\n",
    "|  x  |  y  | \n",
    "|:---:|:---:|\n",
    "| 1.02 | 0.39 |\n",
    "| 0.95 | 0.32 | \n",
    "| 0.87 | 0.27 | \n",
    "| 0.67 | 0.18 |\n",
    "| 0.56 | 0.15 |\n",
    "| 0.30 | 0.12 |\n",
    "| 0.16 | 0.13 |\n",
    "| 0.01 | 0.15 |\n",
    "\n",
    "Write code which calculates using the least squares method the values of the coefficients $a, b, c, d, e$ that best models the orbit of this planet."
   ]
  },
  {
   "cell_type": "code",
   "execution_count": null,
   "metadata": {},
   "outputs": [],
   "source": [
    "x_obs = np.array([1.02, 0.95, 0.87, 0.67, 0.56, 0.3 , 0.16, 0.01])\n",
    "y_obs = np.array([0.39, 0.32, 0.27, 0.18, 0.15, 0.12, 0.13, 0.15])"
   ]
  },
  {
   "cell_type": "code",
   "execution_count": null,
   "metadata": {
    "scrolled": true
   },
   "outputs": [],
   "source": []
  },
  {
   "cell_type": "markdown",
   "metadata": {},
   "source": [
    "Using the coefficients you've found, replace 'a', 'b', 'c', 'd', and 'e' in the string below.\n",
    "(For example, if you found `a=b=c=d=e=2`, you'd have `equation = '2y^2 + 2xy + 2x + 2y + 2 = x^2'`.)"
   ]
  },
  {
   "cell_type": "code",
   "execution_count": null,
   "metadata": {},
   "outputs": [],
   "source": [
    "equation = 'a*y^2 + b*x*y + c*x + d*y + e = x^2'"
   ]
  },
  {
   "cell_type": "markdown",
   "metadata": {},
   "source": [
    "Now, running the cell below will produce a plot of the ellipse you've found! ([Code source](https://stackoverflow.com/questions/34638040/plot-arbitrary-2-d-function-in-python-pyplot-like-matlabs-ezplot).)"
   ]
  },
  {
   "cell_type": "code",
   "execution_count": null,
   "metadata": {},
   "outputs": [],
   "source": [
    "from sympy.plotting import plot_implicit\n",
    "from sympy.parsing.sympy_parser import parse_expr\n",
    "\n",
    "def ezplot(s):\n",
    "    lhs, rhs = s.replace(\"^\",\"**\").split(\"=\")\n",
    "    eqn_lhs = parse_expr(lhs)\n",
    "    eqn_rhs = parse_expr(rhs)\n",
    "\n",
    "    plot_implicit(eqn_lhs-eqn_rhs)\n",
    "\n",
    "ezplot(equation)"
   ]
  },
  {
   "cell_type": "code",
   "execution_count": null,
   "metadata": {},
   "outputs": [],
   "source": []
  }
 ],
 "metadata": {
  "kernelspec": {
   "display_name": "Python 3",
   "language": "python",
   "name": "python3"
  },
  "language_info": {
   "codemirror_mode": {
    "name": "ipython",
    "version": 3
   },
   "file_extension": ".py",
   "mimetype": "text/x-python",
   "name": "python",
   "nbconvert_exporter": "python",
   "pygments_lexer": "ipython3",
   "version": "3.7.7"
  }
 },
 "nbformat": 4,
 "nbformat_minor": 4
}
