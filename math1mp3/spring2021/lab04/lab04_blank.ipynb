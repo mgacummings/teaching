{
 "cells": [
  {
   "cell_type": "markdown",
   "metadata": {},
   "source": [
    "# Lab 4: Monday, May 17"
   ]
  },
  {
   "cell_type": "markdown",
   "metadata": {},
   "source": [
    "## Questions?"
   ]
  },
  {
   "cell_type": "markdown",
   "metadata": {},
   "source": [
    "## 1. Flattening Lists\n",
    "\n",
    "Write a function `flatten` which takes a list as its parameter, and returns a \"flattened\" version of this list. \n",
    "That is, it returns a list with all the original entries of the list, but with nested lists removed.\n",
    "For example, $$[1,2,[3,4],[5,[6]]] \\mapsto [1,2,3,4,5,6]. $$\n",
    "\n",
    "(The difficulty here is that you do not know how may \"layers\" of nested lists there are -- there could be arbitrarily-many. As such, this problem is best approached using _recursion_.)"
   ]
  },
  {
   "cell_type": "code",
   "execution_count": null,
   "metadata": {},
   "outputs": [],
   "source": [
    "def flatten(not_flat):\n",
    "    \"\"\"Returns a flattened list\"\"\""
   ]
  },
  {
   "cell_type": "code",
   "execution_count": null,
   "metadata": {},
   "outputs": [],
   "source": [
    "print(flatten([1, 2,[3,4],[5,[6]]]))  # should print [1,2,3,4,5,6]\n",
    "print(flatten([[1,0],[0,1]]))  # should print [1,0,0,1]\n",
    "print(flatten([[], [], []]))  # should print [] -- the empty list\n",
    "print(flatten([[], [], ['a']]))  # should print ['a']"
   ]
  },
  {
   "cell_type": "markdown",
   "metadata": {},
   "source": [
    "## 2. Largest Entry in List\n",
    "\n",
    "Write a function which finds the largest entry in the list. \n",
    "The lists will have entries that are either integers or floats, and you may assume the list is nonempty.\n",
    "\n",
    "The function should return a list containing the largest entry and the index where this entry occurs.\n",
    "If the maximum entry occurs more than once, the index should correspond to the first instance.\n",
    "\n",
    "Write this function three different ways: \n",
    "1. Using a `for` loop, using `for i in range(len(num_list))`,\n",
    "2. Using a `for` loop, using `for elt in num_list`.\n",
    "\n",
    "For the second function, you may want to make use of the `.index()` and `max()` methods."
   ]
  },
  {
   "cell_type": "code",
   "execution_count": null,
   "metadata": {},
   "outputs": [],
   "source": [
    "def max_list_1(num_list):\n",
    "    \"\"\"Finds max value in list, using `for i in range(len(num_list))`\"\"\""
   ]
  },
  {
   "cell_type": "code",
   "execution_count": null,
   "metadata": {},
   "outputs": [],
   "source": [
    "def max_list_2(num_list):\n",
    "    \"\"\"Finds max value in list, using `for elt in num_list`\"\"\""
   ]
  },
  {
   "cell_type": "code",
   "execution_count": null,
   "metadata": {},
   "outputs": [],
   "source": [
    "num_list_1 = [1, 2, 3, 4, 5]\n",
    "\n",
    "print(max_list_1(num_list_1))\n",
    "print(max_list_2(num_list_1))  # both should print [5, 4]"
   ]
  },
  {
   "cell_type": "code",
   "execution_count": null,
   "metadata": {},
   "outputs": [],
   "source": [
    "num_list_2 = [-5, -3, -1, -4, -2, -1]\n",
    "\n",
    "print(max_list_1(num_list_2))\n",
    "print(max_list_2(num_list_2))  # both should print [-1, 2]"
   ]
  },
  {
   "cell_type": "code",
   "execution_count": null,
   "metadata": {},
   "outputs": [],
   "source": [
    "import numpy.random as rand\n",
    "rand.seed(11)\n",
    "num_list_3 = rand.randint(-1000, 1000, 100, dtype='int16').tolist()\n",
    "# creates a large list of large numbers\n",
    "# print(num_list)\n",
    "\n",
    "print(max_list_1(num_list_3))\n",
    "print(max_list_2(num_list_3))  # both should print [986, 35]"
   ]
  },
  {
   "cell_type": "markdown",
   "metadata": {},
   "source": [
    "This can also be done recursively, but it's difficult to do using just one function.\n",
    "Instead, write one function `get_max` to recursively find the maximum.\n",
    "The function `max_list_r` should then return the maximum (which it finds by calling `get_max`) and finds and returns the index as well."
   ]
  },
  {
   "cell_type": "code",
   "execution_count": null,
   "metadata": {},
   "outputs": [],
   "source": [
    "def get_max(number_list):\n",
    "    \"\"\"Recursively find the maximum\"\"\"\n",
    "\n",
    "def max_list_r(num_list):\n",
    "    \"\"\"Return max & corresponding index.\n",
    "    Finds max by calling `get_max`\"\"\""
   ]
  },
  {
   "cell_type": "code",
   "execution_count": null,
   "metadata": {},
   "outputs": [],
   "source": [
    "print(max_list_r(num_list_1))  # [5, 4]\n",
    "print(max_list_r(num_list_2))  # [-1, 2]\n",
    "print(max_list_r(num_list_3))  # [986, 35]"
   ]
  },
  {
   "cell_type": "markdown",
   "metadata": {},
   "source": [
    "## 3. Valid Parentheses\n",
    "\n",
    "Write a recursive function whose parameter is a string of parentheses, such as `'()'`, `'(())'`, or `'(()())'`.\n",
    "The function should return `True` if the string of parentheses is valid (such as those already listed), and return `False` otherwise (such as the strings `''`, `'('`, `')'`, `')('`, `'(()'`, etc)."
   ]
  },
  {
   "cell_type": "code",
   "execution_count": null,
   "metadata": {},
   "outputs": [],
   "source": [
    "def valid_paren(string):\n",
    "    \"\"\"Checks if string of parentheses is valid\"\"\""
   ]
  },
  {
   "cell_type": "code",
   "execution_count": null,
   "metadata": {},
   "outputs": [],
   "source": [
    "print(valid_paren(''))  # should print False\n",
    "print(valid_paren(')('))  # should print False\n",
    "print(valid_paren('((((((())))))'))  # should print False\n",
    "print(valid_paren('((((((()))))))'))  # should print True"
   ]
  },
  {
   "cell_type": "markdown",
   "metadata": {},
   "source": [
    "Technically, this can be done with a while loop as well.\n",
    "Try that here:"
   ]
  },
  {
   "cell_type": "code",
   "execution_count": null,
   "metadata": {},
   "outputs": [],
   "source": [
    "def valid_paren_2(string):\n",
    "    \"\"\"Checks if string of parentheses is valid\"\"\""
   ]
  },
  {
   "cell_type": "code",
   "execution_count": null,
   "metadata": {},
   "outputs": [],
   "source": [
    "print(valid_paren_2(''))  # should print False\n",
    "print(valid_paren_2(')('))  # should print False\n",
    "print(valid_paren_2('((((((())))))'))  # should print False\n",
    "print(valid_paren_2('((((((()))))))'))  # should print True"
   ]
  },
  {
   "cell_type": "markdown",
   "metadata": {},
   "source": [
    "## 4. Caesar Ciphers\n",
    "\n",
    "You're given the following functions.\n",
    "The first takes a character of the alphabet and returns its index (that is, it maps `'a'` to `0`, `'b'` to `1`, and so on).\n",
    "The second function goes the other way, mapping `0` to `'a'`, etc.\n",
    "\n",
    "(Note: don't worry about understanding how these work, just make sure you're comfortable with calling each function and getting its output.)"
   ]
  },
  {
   "cell_type": "code",
   "execution_count": null,
   "metadata": {},
   "outputs": [],
   "source": [
    "def char_to_index(char): return ord(char)-97\n",
    "def index_to_char(ind): return chr(ind+97)"
   ]
  },
  {
   "cell_type": "code",
   "execution_count": null,
   "metadata": {},
   "outputs": [],
   "source": [
    "# some examples:\n",
    "print(char_to_index('a'))\n",
    "print(index_to_char(0))\n",
    "\n",
    "print(char_to_index('l'))\n",
    "print(index_to_char(20))"
   ]
  },
  {
   "cell_type": "markdown",
   "metadata": {},
   "source": [
    "Here's a conversion table:\n",
    "\n",
    "| a | b | c | d | e | f | g | h | i | j | k | l | m | n | o | p | q | r | s | t | u | v | w | x | y | z |\n",
    "|:-:|:-:|:-:|:-:|:-:|:-:|:-:|:-:|:-:|:-:|:-:|:-:|:-:|:-:|:-:|:-:|:-:|:-:|:-:|:-:|:-:|:-:|:-:|:-:|:-:|:-:|\n",
    "| 0 | 1 | 2 | 3 | 4 | 5 | 6 | 7 | 8 | 9 | 10| 11| 12| 13| 14| 15| 16| 17| 18| 19| 20| 21| 22| 23| 24| 25|\n",
    "\n",
    "So, `char_to_index` maps the first row to the second, and `index_to_char` maps the second to the first.\n",
    "\n",
    "A **Caesar cipher** is a cyptographic protocol which applies a \"shift\" to a word.\n",
    "For example, using a *shift length* of 1, 'me' becomes 'nf', as the characters have been shifted over by 1: `m` becomes `n` and `e` becomes `f`.\n",
    "\n",
    "To calculate the value of the index of a character after a shift, we use the formula $$\\text{new index = (old index + shift) mod 26}.$$\n",
    "We use 'mod 26', to \"wrap around\" the alphabet.\n",
    "For instance, to shift `'z'` by 1, we use 25 + 1 = 26 = 0 mod 26.\n",
    "Recall that in python, the `%` operator implements the modulo.\n",
    "\n",
    "Write a function which takes a regular english string (`plaintext`), and applies a shift (`shift`) to encrypt the string (and return this `ciphertext`)."
   ]
  },
  {
   "cell_type": "code",
   "execution_count": null,
   "metadata": {},
   "outputs": [],
   "source": [
    "def encrypt(plaintext, shift):\n",
    "    \"\"\"Encrypts `plaintext` with shift size `shift`\"\"\""
   ]
  },
  {
   "cell_type": "code",
   "execution_count": null,
   "metadata": {},
   "outputs": [],
   "source": [
    "print(encrypt('me', 1))  # should print 'nf'\n",
    "print(encrypt('TheQuickBrownFox'.lower(),9))  # should print 'cqnzdrltkaxfwoxg'"
   ]
  },
  {
   "cell_type": "markdown",
   "metadata": {},
   "source": [
    "Here are two ciphers that have already been encoded. \n",
    "The first, `cipher_1` was encoded with a shift of 11. \n",
    "Using your encryption function, can you decrypt it?\n",
    "(What would you change about the shift parameter to go backwards?)"
   ]
  },
  {
   "cell_type": "code",
   "execution_count": null,
   "metadata": {},
   "outputs": [],
   "source": [
    "cipher_1 = 'tqespnzoplyoespnzxxpyedotdlrcppespymzeslcpaczmlmwjhczyr'\n",
    "cipher_2 = 'jgmfvafywjjgjksjwgcglzwjoakwlzwqvtwusddwvsulmsdwjjgjk'"
   ]
  },
  {
   "cell_type": "code",
   "execution_count": null,
   "metadata": {},
   "outputs": [],
   "source": [
    "encrypt(cipher_1, ?)  # replace the ? with the appropriate shift length"
   ]
  },
  {
   "cell_type": "markdown",
   "metadata": {},
   "source": [
    "Are you able to decrypt `cipher_2` without knowing the shift length ahead of time? (Hint: use a `for` loop.)"
   ]
  },
  {
   "cell_type": "code",
   "execution_count": null,
   "metadata": {},
   "outputs": [],
   "source": []
  }
 ],
 "metadata": {
  "kernelspec": {
   "display_name": "Python 3",
   "language": "python",
   "name": "python3"
  },
  "language_info": {
   "codemirror_mode": {
    "name": "ipython",
    "version": 3
   },
   "file_extension": ".py",
   "mimetype": "text/x-python",
   "name": "python",
   "nbconvert_exporter": "python",
   "pygments_lexer": "ipython3",
   "version": "3.7.7"
  }
 },
 "nbformat": 4,
 "nbformat_minor": 4
}
