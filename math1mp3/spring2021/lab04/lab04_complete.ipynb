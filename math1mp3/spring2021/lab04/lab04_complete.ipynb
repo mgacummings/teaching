{
 "cells": [
  {
   "cell_type": "markdown",
   "metadata": {},
   "source": [
    "# Lab 4: Monday, May 17"
   ]
  },
  {
   "cell_type": "markdown",
   "metadata": {},
   "source": [
    "## Questions?"
   ]
  },
  {
   "cell_type": "markdown",
   "metadata": {},
   "source": [
    "## 1. Flattening Lists\n",
    "\n",
    "Write a function `flatten` which takes a list as its parameter, and returns a \"flattened\" version of this list. \n",
    "That is, it returns a list with all the original entries of the list, but with nested lists removed.\n",
    "For example, $$[1,2,[3,4],[5,[6]]] \\mapsto [1,2,3,4,5,6]. $$\n",
    "\n",
    "(The difficulty here is that you do not know how may \"layers\" of nested lists there are -- there could be arbitrarily-many. As such, this problem is best approached using _recursion_.)"
   ]
  },
  {
   "cell_type": "code",
   "execution_count": 1,
   "metadata": {},
   "outputs": [],
   "source": [
    "def flatten(not_flat):\n",
    "    \"\"\"Returns a flattened list\"\"\"\n",
    "    \n",
    "    if not_flat == []:\n",
    "        return []\n",
    "    if type(not_flat[0]) == list:\n",
    "        return flatten(not_flat[0]) + flatten(not_flat[1:])\n",
    "    \n",
    "    return not_flat[:1] + flatten(not_flat[1:])"
   ]
  },
  {
   "cell_type": "code",
   "execution_count": 2,
   "metadata": {},
   "outputs": [
    {
     "name": "stdout",
     "output_type": "stream",
     "text": [
      "[1, 2, 3, 4, 5, 6]\n",
      "[1, 0, 0, 1]\n",
      "[]\n",
      "['a']\n"
     ]
    }
   ],
   "source": [
    "print(flatten([1, 2,[3,4],[5,[6]]]))  # should print [1,2,3,4,5,6]\n",
    "print(flatten([[1,0],[0,1]]))  # should print [1,0,0,1]\n",
    "print(flatten([[], [], []]))  # should print [] -- the empty list\n",
    "print(flatten([[], [], ['a']]))  # should print ['a']"
   ]
  },
  {
   "cell_type": "code",
   "execution_count": 3,
   "metadata": {},
   "outputs": [
    {
     "name": "stdout",
     "output_type": "stream",
     "text": [
      "[]\n"
     ]
    }
   ],
   "source": [
    "print(flatten([[[[[[[[[[[[[[[[[[]]]]]]]]]]]]]]]]]]))  # should print []"
   ]
  },
  {
   "cell_type": "markdown",
   "metadata": {},
   "source": [
    "## 2. Largest Entry in List\n",
    "\n",
    "Write a function which finds the largest entry in the list. \n",
    "The lists will have entries that are either integers or floats, and you may assume the list is nonempty.\n",
    "\n",
    "The function should return a list containing the largest entry and the index where this entry occurs.\n",
    "If the maximum entry occurs more than once, the index should correspond to the first instance.\n",
    "\n",
    "Write this function three different ways: \n",
    "1. Using a `for` loop, using `for i in range(len(num_list))`,\n",
    "2. Using a `for` loop, using `for elt in num_list`.\n",
    "\n",
    "For the second function, you may want to make use of the `.index()` and `max()` methods."
   ]
  },
  {
   "cell_type": "code",
   "execution_count": 4,
   "metadata": {},
   "outputs": [],
   "source": [
    "def max_list_1(num_list):\n",
    "    \"\"\"Finds max value in list, using `for i in range(len(num_list))`\"\"\"\n",
    "    \n",
    "    maximum = num_list[0]\n",
    "    index = 0\n",
    "    \n",
    "    for i in range(len(num_list)):\n",
    "        current_entry = num_list[i]\n",
    "        \n",
    "        if current_entry > maximum:\n",
    "            maximum = current_entry\n",
    "            index = i\n",
    "    \n",
    "    return [maximum, index]"
   ]
  },
  {
   "cell_type": "code",
   "execution_count": 5,
   "metadata": {},
   "outputs": [],
   "source": [
    "def max_list_2(num_list):\n",
    "    \"\"\"Finds max value in list, using `for elt in num_list`\"\"\"\n",
    "    \n",
    "    maximum = num_list[0]\n",
    "    \n",
    "    for elt in num_list:\n",
    "        maximum = max(maximum, elt)\n",
    "    \n",
    "    index = num_list.index(maximum)\n",
    "    \n",
    "    return [maximum, index]"
   ]
  },
  {
   "cell_type": "code",
   "execution_count": 6,
   "metadata": {},
   "outputs": [
    {
     "name": "stdout",
     "output_type": "stream",
     "text": [
      "[5, 4]\n",
      "[5, 4]\n"
     ]
    }
   ],
   "source": [
    "num_list_1 = [1, 2, 3, 4, 5]\n",
    "\n",
    "print(max_list_1(num_list_1))\n",
    "print(max_list_2(num_list_1))  # both should print [5, 4]"
   ]
  },
  {
   "cell_type": "code",
   "execution_count": 7,
   "metadata": {},
   "outputs": [
    {
     "name": "stdout",
     "output_type": "stream",
     "text": [
      "[-1, 2]\n",
      "[-1, 2]\n"
     ]
    }
   ],
   "source": [
    "num_list_2 = [-5, -3, -1, -4, -2, -1]\n",
    "\n",
    "print(max_list_1(num_list_2))\n",
    "print(max_list_2(num_list_2))  # both should print [-1, 2]"
   ]
  },
  {
   "cell_type": "code",
   "execution_count": 8,
   "metadata": {},
   "outputs": [
    {
     "name": "stdout",
     "output_type": "stream",
     "text": [
      "[986, 35]\n",
      "[986, 35]\n"
     ]
    }
   ],
   "source": [
    "import numpy.random as rand\n",
    "rand.seed(11)\n",
    "num_list_3 = rand.randint(-1000, 1000, 100, dtype='int16').tolist()\n",
    "# creates a large list of large numbers\n",
    "# print(num_list)\n",
    "\n",
    "print(max_list_1(num_list_3))\n",
    "print(max_list_2(num_list_3))  # both should print [986, 35]"
   ]
  },
  {
   "cell_type": "markdown",
   "metadata": {},
   "source": [
    "This can also be done recursively, but it's difficult to do using just one function.\n",
    "Instead, write one function `get_max` to recursively find the maximum.\n",
    "The function `max_list_r` should then return the maximum (which it finds by calling `get_max`) and finds and returns the index as well."
   ]
  },
  {
   "cell_type": "code",
   "execution_count": 9,
   "metadata": {},
   "outputs": [],
   "source": [
    "def get_max(number_list):\n",
    "    \"\"\"Recursively find the maximum\"\"\"\n",
    "    if len(number_list) == 1:\n",
    "        return number_list[0]\n",
    "    else:\n",
    "        return max(number_list[0], get_max(number_list[1:]))\n",
    "\n",
    "def max_list_r(num_list):\n",
    "    \"\"\"Return max & corresponding index.\n",
    "    Finds max by calling `get_max`\"\"\"\n",
    "    maximum = get_max(num_list)\n",
    "    return [maximum, num_list.index(maximum)]"
   ]
  },
  {
   "cell_type": "code",
   "execution_count": 10,
   "metadata": {},
   "outputs": [
    {
     "name": "stdout",
     "output_type": "stream",
     "text": [
      "[5, 4]\n",
      "[-1, 2]\n",
      "[986, 35]\n"
     ]
    }
   ],
   "source": [
    "print(max_list_r(num_list_1))  # [5, 4]\n",
    "print(max_list_r(num_list_2))  # [-1, 2]\n",
    "print(max_list_r(num_list_3))  # [986, 35]"
   ]
  },
  {
   "cell_type": "markdown",
   "metadata": {},
   "source": [
    "## 3. Valid Parentheses\n",
    "\n",
    "Write a recursive function whose parameter is a string of parentheses, such as `'()'`, `'(())'`, or `'(()())'`.\n",
    "The function should return `True` if the string of parentheses is valid (such as those already listed), and return `False` otherwise (such as the strings `''`, `'('`, `')'`, `')('`, `'(()'`, etc)."
   ]
  },
  {
   "cell_type": "code",
   "execution_count": 11,
   "metadata": {},
   "outputs": [],
   "source": [
    "def valid_paren(string):\n",
    "    \"\"\"Checks if string of parentheses is valid\"\"\"\n",
    "    if len(string) <= 2:\n",
    "        return string == '()'\n",
    "    else:\n",
    "        return string[0] == '(' and string[-1] == ')' and valid_paren(string[1:-1])"
   ]
  },
  {
   "cell_type": "code",
   "execution_count": 12,
   "metadata": {},
   "outputs": [
    {
     "name": "stdout",
     "output_type": "stream",
     "text": [
      "False\n",
      "False\n",
      "False\n",
      "True\n"
     ]
    }
   ],
   "source": [
    "print(valid_paren(''))  # should print False\n",
    "print(valid_paren(')('))  # should print False\n",
    "print(valid_paren('((((((())))))'))  # should print False\n",
    "print(valid_paren('((((((()))))))'))  # should print True"
   ]
  },
  {
   "cell_type": "markdown",
   "metadata": {},
   "source": [
    "Technically, this can be done with a while loop as well.\n",
    "Try that here:"
   ]
  },
  {
   "cell_type": "code",
   "execution_count": 13,
   "metadata": {},
   "outputs": [],
   "source": [
    "def valid_paren_2(string):\n",
    "    \"\"\"Checks if string of parentheses is valid\"\"\"\n",
    "    while len(string) > 2:\n",
    "        if string[0] == '(' and string[-1] == ')':\n",
    "            string = string[1:-1]\n",
    "        else:\n",
    "            break\n",
    "            \n",
    "    return string == '()'"
   ]
  },
  {
   "cell_type": "code",
   "execution_count": 14,
   "metadata": {},
   "outputs": [
    {
     "name": "stdout",
     "output_type": "stream",
     "text": [
      "False\n",
      "False\n",
      "False\n",
      "True\n"
     ]
    }
   ],
   "source": [
    "print(valid_paren_2(''))  # should print False\n",
    "print(valid_paren_2(')('))  # should print False\n",
    "print(valid_paren_2('((((((())))))'))  # should print False\n",
    "print(valid_paren_2('((((((()))))))'))  # should print True"
   ]
  },
  {
   "cell_type": "markdown",
   "metadata": {},
   "source": [
    "## 4. Caesar Ciphers\n",
    "\n",
    "You're given the following functions.\n",
    "The first takes a character of the alphabet and returns its index (that is, it maps `'a'` to `0`, `'b'` to `1`, and so on).\n",
    "The second function goes the other way, mapping `0` to `'a'`, etc.\n",
    "\n",
    "(Note: don't worry about understanding how these work, just make sure you're comfortable with calling each function and getting its output.)"
   ]
  },
  {
   "cell_type": "code",
   "execution_count": 15,
   "metadata": {},
   "outputs": [],
   "source": [
    "def char_to_index(char): return ord(char)-97\n",
    "def index_to_char(ind): return chr(ind+97)"
   ]
  },
  {
   "cell_type": "code",
   "execution_count": 16,
   "metadata": {},
   "outputs": [
    {
     "name": "stdout",
     "output_type": "stream",
     "text": [
      "0\n",
      "a\n",
      "11\n",
      "u\n"
     ]
    }
   ],
   "source": [
    "# some examples:\n",
    "print(char_to_index('a'))\n",
    "print(index_to_char(0))\n",
    "\n",
    "print(char_to_index('l'))\n",
    "print(index_to_char(20))"
   ]
  },
  {
   "cell_type": "markdown",
   "metadata": {},
   "source": [
    "Here's a conversion table:\n",
    "\n",
    "| a | b | c | d | e | f | g | h | i | j | k | l | m | n | o | p | q | r | s | t | u | v | w | x | y | z |\n",
    "|:-:|:-:|:-:|:-:|:-:|:-:|:-:|:-:|:-:|:-:|:-:|:-:|:-:|:-:|:-:|:-:|:-:|:-:|:-:|:-:|:-:|:-:|:-:|:-:|:-:|:-:|\n",
    "| 0 | 1 | 2 | 3 | 4 | 5 | 6 | 7 | 8 | 9 | 10| 11| 12| 13| 14| 15| 16| 17| 18| 19| 20| 21| 22| 23| 24| 25|\n",
    "\n",
    "So, `char_to_index` maps the first row to the second, and `index_to_char` maps the second to the first.\n",
    "\n",
    "A **Caesar cipher** is a cyptographic protocol which applies a \"shift\" to a word.\n",
    "For example, using a *shift length* of 1, 'me' becomes 'nf', as the characters have been shifted over by 1: `m` becomes `n` and `e` becomes `f`.\n",
    "\n",
    "To calculate the value of the index of a character after a shift, we use the formula $$\\text{new index = (old index + shift) mod 26}.$$\n",
    "We use 'mod 26', to \"wrap around\" the alphabet.\n",
    "For instance, to shift `'z'` by 1, we use 25 + 1 = 26 = 0 mod 26.\n",
    "Recall that in python, the `%` operator implements the modulo.\n",
    "\n",
    "Write a function which takes a regular english string (`plaintext`), and applies a shift (`shift`) to encrypt the string (and return this `ciphertext`)."
   ]
  },
  {
   "cell_type": "code",
   "execution_count": 17,
   "metadata": {},
   "outputs": [],
   "source": [
    "def encrypt(plaintext, shift):\n",
    "    \"\"\"Encrypts `plaintext` with shift size `shift`\"\"\"\n",
    "    \n",
    "    cipher = ''\n",
    "    \n",
    "    for char in plaintext:\n",
    "        char_ind = char_to_index(char)\n",
    "        new_ind = (char_ind + shift) % 26\n",
    "        cipher_char = index_to_char(new_ind)\n",
    "        cipher += cipher_char\n",
    "    \n",
    "    return cipher"
   ]
  },
  {
   "cell_type": "code",
   "execution_count": 18,
   "metadata": {},
   "outputs": [
    {
     "name": "stdout",
     "output_type": "stream",
     "text": [
      "nf\n",
      "cqnzdrltkaxfwoxg\n"
     ]
    }
   ],
   "source": [
    "print(encrypt('me', 1))  # should print 'nf'\n",
    "print(encrypt('TheQuickBrownFox'.lower(),9))  # should print 'cqnzdrltkaxfwoxg'"
   ]
  },
  {
   "cell_type": "markdown",
   "metadata": {},
   "source": [
    "Here are two ciphers that have already been encoded. \n",
    "The first, `cipher_1` was encoded with a shift of 11. \n",
    "Using your encryption function, can you decrypt it?\n",
    "(What would you change about the shift parameter to go backwards?)"
   ]
  },
  {
   "cell_type": "code",
   "execution_count": 19,
   "metadata": {},
   "outputs": [],
   "source": [
    "cipher_1 = 'tqespnzoplyoespnzxxpyedotdlrcppespymzeslcpaczmlmwjhczyr'\n",
    "cipher_2 = 'jgmfvafywjjgjksjwgcglzwjoakwlzwqvtwusddwvsulmsdwjjgjk'"
   ]
  },
  {
   "cell_type": "code",
   "execution_count": 20,
   "metadata": {},
   "outputs": [
    {
     "data": {
      "text/plain": [
       "'ifthecodeandthecommentsdisagreethenbothareprobablywrong'"
      ]
     },
     "execution_count": 20,
     "metadata": {},
     "output_type": "execute_result"
    }
   ],
   "source": [
    "encrypt(cipher_1, -11)"
   ]
  },
  {
   "cell_type": "markdown",
   "metadata": {},
   "source": [
    "With spaces and punctuation added, this reads, \"If the code and the comments disagree, then both are probably wrong.\""
   ]
  },
  {
   "cell_type": "markdown",
   "metadata": {},
   "source": [
    "Are you able to decrypt `cipher_2` without knowing the shift length ahead of time? (Hint: use a `for` loop.)"
   ]
  },
  {
   "cell_type": "code",
   "execution_count": 21,
   "metadata": {},
   "outputs": [
    {
     "name": "stdout",
     "output_type": "stream",
     "text": [
      "0 jgmfvafywjjgjksjwgcglzwjoakwlzwqvtwusddwvsulmsdwjjgjk\n",
      "1 ifleuzexviifijrivfbfkyvinzjvkyvpusvtrccvurtklrcviifij\n",
      "2 hekdtydwuhhehiqhueaejxuhmyiujxuotrusqbbutqsjkqbuhhehi\n",
      "3 gdjcsxcvtggdghpgtdzdiwtglxhtiwtnsqtrpaatsprijpatggdgh\n",
      "4 fcibrwbusffcfgofscychvsfkwgshvsmrpsqozzsroqhiozsffcfg\n",
      "5 ebhaqvatreebefnerbxbgurejvfrgurlqorpnyyrqnpghnyreebef\n",
      "6 dagzpuzsqddademdqawaftqdiueqftqkpnqomxxqpmofgmxqddade\n",
      "7 czfyotyrpcczcdlcpzvzespchtdpespjompnlwwpolneflwpcczcd\n",
      "8 byexnsxqobbybckboyuydrobgscodroinlomkvvonkmdekvobbybc\n",
      "9 axdwmrwpnaaxabjanxtxcqnafrbncqnhmknljuunmjlcdjunaaxab\n",
      "10 zwcvlqvomzzwzaizmwswbpmzeqambpmgljmkittmlikbcitmzzwza\n",
      "11 yvbukpunlyyvyzhylvrvaolydpzlaolfkiljhsslkhjabhslyyvyz\n",
      "12 xuatjotmkxxuxygxkuquznkxcoykznkejhkigrrkjgizagrkxxuxy\n",
      "13 wtzsinsljwwtwxfwjtptymjwbnxjymjdigjhfqqjifhyzfqjwwtwx\n",
      "14 vsyrhmrkivvsvwevisosxlivamwixlichfigeppihegxyepivvsvw\n",
      "15 urxqglqjhuuruvduhrnrwkhuzlvhwkhbgehfdoohgdfwxdohuuruv\n",
      "16 tqwpfkpigttqtuctgqmqvjgtykugvjgafdgecnngfcevwcngttqtu\n",
      "17 spvoejohfsspstbsfplpuifsxjtfuifzecfdbmmfebduvbmfsspst\n",
      "18 roundingerrorsareokotherwisetheydbecalledactualerrors\n",
      "19 qntmchmfdqqnqrzqdnjnsgdqvhrdsgdxcadbzkkdczbstzkdqqnqr\n",
      "20 pmslbglecppmpqypcmimrfcpugqcrfcwbzcayjjcbyarsyjcppmpq\n",
      "21 olrkafkdboolopxoblhlqebotfpbqebvaybzxiibaxzqrxiboolop\n",
      "22 nkqjzejcannknownakgkpdanseoapdauzxaywhhazwypqwhannkno\n",
      "23 mjpiydibzmmjmnvmzjfjoczmrdnzocztywzxvggzyvxopvgzmmjmn\n",
      "24 liohxchayllilmulyieinbylqcmynbysxvywuffyxuwnoufyllilm\n",
      "25 khngwbgzxkkhkltkxhdhmaxkpblxmaxrwuxvteexwtvmntexkkhkl\n"
     ]
    }
   ],
   "source": [
    "for i in range(26):\n",
    "    print(i, encrypt(cipher_2, -i))"
   ]
  },
  {
   "cell_type": "markdown",
   "metadata": {},
   "source": [
    "By inspection, the only non-nonsense string corresponds to a shift of 18, reading, \"Rounding Errors are ok. Otherwise, they'd be called actual errors.\""
   ]
  },
  {
   "cell_type": "code",
   "execution_count": null,
   "metadata": {},
   "outputs": [],
   "source": []
  }
 ],
 "metadata": {
  "kernelspec": {
   "display_name": "Python 3",
   "language": "python",
   "name": "python3"
  },
  "language_info": {
   "codemirror_mode": {
    "name": "ipython",
    "version": 3
   },
   "file_extension": ".py",
   "mimetype": "text/x-python",
   "name": "python",
   "nbconvert_exporter": "python",
   "pygments_lexer": "ipython3",
   "version": "3.7.7"
  }
 },
 "nbformat": 4,
 "nbformat_minor": 4
}
