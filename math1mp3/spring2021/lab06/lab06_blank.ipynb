{
 "cells": [
  {
   "cell_type": "markdown",
   "metadata": {},
   "source": [
    "# Lab 6: Wednesday, May 26\n",
    "\n",
    "Topics\n",
    "  * Tuples\n",
    "  * Dictionaries\n",
    "  * Sets\n",
    "  "
   ]
  },
  {
   "cell_type": "markdown",
   "metadata": {},
   "source": [
    "## Questions?"
   ]
  },
  {
   "cell_type": "markdown",
   "metadata": {},
   "source": [
    "## 1. Frequency Dictionary\n",
    "\n",
    "Write a function which takes as input a string, which you may assume is a single word (no spaces, punctuation, apostrophes, etc). \n",
    "You should, however, count uppercase and lowercase characters the same, and store only lowercase characters in the dictionary.\n",
    "\n",
    "The function should return a dictionary whose keys are the characters of the input string, and whose values are the number of times each character appears in the word."
   ]
  },
  {
   "cell_type": "code",
   "execution_count": null,
   "metadata": {},
   "outputs": [],
   "source": [
    "def char_frequency(word):"
   ]
  },
  {
   "cell_type": "code",
   "execution_count": null,
   "metadata": {},
   "outputs": [],
   "source": [
    "print(char_frequency('hello'))  # {'h': 1, 'e': 1, 'l': 2, 'o': 1}\n",
    "print(char_frequency(''))  # {}, the empty dictionary\n",
    "print(char_frequency('Racecar'))  # {'r': 2, 'a': 2, 'c': 2, 'e': 1}"
   ]
  },
  {
   "cell_type": "markdown",
   "metadata": {},
   "source": [
    "Modify your function to now take as input a sentence, which may contain both uppercase and lowercase letters, as well as periods `'.'` and commas `','`.\n",
    "\n",
    "The dictionary should now have whole words as keys and the number of times they appear in the sentence as the values.\n",
    "To be able to approach this question, you will need to remove all punctuation."
   ]
  },
  {
   "cell_type": "code",
   "execution_count": null,
   "metadata": {},
   "outputs": [],
   "source": [
    "def word_frequency(sentence):"
   ]
  },
  {
   "cell_type": "code",
   "execution_count": null,
   "metadata": {},
   "outputs": [],
   "source": [
    "string_1 = 'Hello, there.'\n",
    "string_2 = \"The quick brown fox jumped over the lazy dog.\"\n",
    "string_3 = \"Two paths diverged in a wood, and I, I took the one less travelled by, and that has made all the difference.\""
   ]
  },
  {
   "cell_type": "code",
   "execution_count": null,
   "metadata": {},
   "outputs": [],
   "source": [
    "print(word_frequency(string_1))  # {'hello': 1, 'there': 1}\n",
    "print(word_frequency(string_2))  # {'the': 2, 'quick': 1, 'brown': 1, 'fox': 1, 'jumped': 1, 'over': 1, 'lazy': 1, 'dog': 1}\n",
    "print(word_frequency(string_3))  # {'two': 1, 'paths': 1, 'diverged': 1, 'in': 1, 'a': 1, 'wood': 1, 'and': 2, 'i': 2, 'took': 1, 'the': 2, 'one': 1, 'less': 1, 'travelled': 1, 'by': 1, 'that': 1, 'has': 1, 'made': 1, 'all': 1, 'difference': 1}"
   ]
  },
  {
   "cell_type": "markdown",
   "metadata": {},
   "source": [
    "## 2. Dice Probabilities\n",
    "\n",
    "Write a script which creates a dictionary.\n",
    "The keys of the dictionary should be the possible sums from rolling two dice, and the corresponding values should be the probability that each sum occurs.\n",
    "\n",
    "(Note: each probability should be a decimal number between 0 and 1.)"
   ]
  },
  {
   "cell_type": "code",
   "execution_count": null,
   "metadata": {},
   "outputs": [],
   "source": [
    "probs_2 = {}\n",
    "\n"
   ]
  },
  {
   "cell_type": "markdown",
   "metadata": {},
   "source": [
    "The probabilities from all possible outcomes should sum to 1. \n",
    "By iterating over the values in the dictionary you've created, check this is indeed the case."
   ]
  },
  {
   "cell_type": "code",
   "execution_count": null,
   "metadata": {},
   "outputs": [],
   "source": []
  },
  {
   "cell_type": "markdown",
   "metadata": {},
   "source": [
    "Modify your script to create a similar dictionary but for the probabilities corresponding to rolling three dice, instead of two. "
   ]
  },
  {
   "cell_type": "code",
   "execution_count": null,
   "metadata": {},
   "outputs": [],
   "source": [
    "probs_3 = {}\n",
    "\n"
   ]
  },
  {
   "cell_type": "markdown",
   "metadata": {},
   "source": [
    "Again, check that the values sum to 1."
   ]
  },
  {
   "cell_type": "code",
   "execution_count": null,
   "metadata": {},
   "outputs": [],
   "source": []
  },
  {
   "cell_type": "markdown",
   "metadata": {},
   "source": [
    "Write a function now which finds takes one of these probability dictionaries.\n",
    "Return the most likely dice roll.\n",
    "\n",
    "(If more than one roll are equally likely, just return one.)\n",
    "\n",
    "Test the function with your dictionaries from above, and check by inspection."
   ]
  },
  {
   "cell_type": "code",
   "execution_count": null,
   "metadata": {},
   "outputs": [],
   "source": [
    "def most_likely(probs):"
   ]
  },
  {
   "cell_type": "code",
   "execution_count": null,
   "metadata": {},
   "outputs": [],
   "source": [
    "print(most_likely(probs_2))  # 7\n",
    "print(most_likely(probs_3))  # 10 (or one of the other sums with equal probability)"
   ]
  },
  {
   "cell_type": "markdown",
   "metadata": {},
   "source": [
    "## 3. $\\boldsymbol{y=mx+b}$\n",
    "\n",
    "Write a function which takes as input two points on a line, $(x_1, y_1)$ and $(x_2, y_2)$.\n",
    "These points will be given as length-2 tuples.\n",
    "\n",
    "Your function should return a tuple $(m,b)$, consisting of the slope and the $y$-intercept of the line intersecting the two given points.\n",
    "Further, the function should:\n",
    "1. Be able to handle the degenerate cases of either a horizontal or vertical line. In the latter case, your line is of the form $x = k$. In such a case, return the tuple `('x', k)`, where `'x'` is a string and `k` is the value of the constant $k$.\n",
    "2. If the two points are equal, then you should instead return the string `'Error: requires 2 points to define a line'`."
   ]
  },
  {
   "cell_type": "code",
   "execution_count": null,
   "metadata": {},
   "outputs": [],
   "source": [
    "def line_coeffs(point_1, point_2):"
   ]
  },
  {
   "cell_type": "code",
   "execution_count": null,
   "metadata": {},
   "outputs": [],
   "source": [
    "print(line_coeffs((1,1), (1,1)))  # Error: requires 2 points to define a line\n",
    "print(line_coeffs((-1,1), (-1, 11)))  # ('x', -1)\n",
    "print(line_coeffs((0,0), (11,2)))  # (0.18181818181818182, 0.0)"
   ]
  },
  {
   "cell_type": "markdown",
   "metadata": {},
   "source": [
    "## 4. Unique Lists\n",
    "\n",
    "Write a function that returns `True` if every element in a list if unique, and `False` otherwise."
   ]
  },
  {
   "cell_type": "code",
   "execution_count": null,
   "metadata": {},
   "outputs": [],
   "source": [
    "def is_unique(some_list):"
   ]
  },
  {
   "cell_type": "code",
   "execution_count": null,
   "metadata": {},
   "outputs": [],
   "source": [
    "print(is_unique([]))  # True\n",
    "print(is_unique([1,2,3,4,5]))  # True\n",
    "print(is_unique([1,2,3,4,1]))  # False"
   ]
  },
  {
   "cell_type": "markdown",
   "metadata": {},
   "source": [
    "## 5. Roots of Quadratic\n",
    "\n",
    "Write a function which looks at a quadratic function, $ax^2 + bx + c$.\n",
    "Using the quadratic formula, the function should return a list `[x_1, x_2]`, where `x_1` and `x_2` are the roots of the quadratic.\n",
    "The input of the function are the coefficients `a`, `b`, and `c`.\n",
    "\n",
    "If the quadratic has one root (of multiplicity two), then the function should return that root twice in the list.\n",
    "On the other hand, if the quadratic has no roots, then it should return the string `'No real roots'`, and if $a=0$, then the function should return the single root. \n",
    "If both $a=0$ and $b=0$, then the function should return again the string `'No real roots'`, unless it is the zero function ($a=b=c=0$), in which case it should return `'Infinitely many roots'`."
   ]
  },
  {
   "cell_type": "code",
   "execution_count": null,
   "metadata": {},
   "outputs": [],
   "source": [
    "from math import sqrt\n",
    "\n",
    "def roots(a, b, c):"
   ]
  },
  {
   "cell_type": "code",
   "execution_count": null,
   "metadata": {},
   "outputs": [],
   "source": [
    "print(roots(0, 0, 0))  # Infinitely many roots\n",
    "print(roots(0, 0, 1))  # No real roots\n",
    "print(roots(2, 1, 2))  # No real roots\n",
    "\n",
    "print()\n",
    "\n",
    "print(roots(0, 3, 2))  # -0.6666666666666666\n",
    "print(roots(1, 0, -1))  # [-1.0, 1.0]\n",
    "print(roots(-342, 7854, 43253482))  # [367.2970376145484, -344.33212533384665]"
   ]
  },
  {
   "cell_type": "code",
   "execution_count": null,
   "metadata": {},
   "outputs": [],
   "source": []
  }
 ],
 "metadata": {
  "kernelspec": {
   "display_name": "Python 3",
   "language": "python",
   "name": "python3"
  },
  "language_info": {
   "codemirror_mode": {
    "name": "ipython",
    "version": 3
   },
   "file_extension": ".py",
   "mimetype": "text/x-python",
   "name": "python",
   "nbconvert_exporter": "python",
   "pygments_lexer": "ipython3",
   "version": "3.7.7"
  }
 },
 "nbformat": 4,
 "nbformat_minor": 4
}
