{
 "cells": [
  {
   "cell_type": "markdown",
   "metadata": {},
   "source": [
    "# Lab 6: Wednesday, May 26\n",
    "\n",
    "Topics\n",
    "  * Tuples\n",
    "  * Dictionaries\n",
    "  * Sets\n",
    "  "
   ]
  },
  {
   "cell_type": "markdown",
   "metadata": {},
   "source": [
    "## Questions?"
   ]
  },
  {
   "cell_type": "markdown",
   "metadata": {},
   "source": [
    "Regarding Lovric's questions, problem 12: find the sum of all the digits of each of the numbers from one to one million (inclusive)."
   ]
  },
  {
   "cell_type": "code",
   "execution_count": 1,
   "metadata": {},
   "outputs": [
    {
     "name": "stdout",
     "output_type": "stream",
     "text": [
      "27000001\n"
     ]
    }
   ],
   "source": [
    "# using nested for loops\n",
    "\n",
    "total = 0\n",
    "\n",
    "# iterate over the numbers\n",
    "for num in range(1,1_000_001):\n",
    "    num_str = str(num)\n",
    "    num_str_list = list(num_str)\n",
    "    \n",
    "    digits_total = 0\n",
    "    for digit in num_str_list:\n",
    "        digits_total += int(digit)\n",
    "        \n",
    "    total += digits_total\n",
    "\n",
    "print(total)"
   ]
  },
  {
   "cell_type": "code",
   "execution_count": 2,
   "metadata": {},
   "outputs": [
    {
     "name": "stdout",
     "output_type": "stream",
     "text": [
      "27000001\n"
     ]
    }
   ],
   "source": [
    "# using a list comprehension instead\n",
    "\n",
    "total = 0\n",
    "\n",
    "# iterate over the numbers\n",
    "for num in range(1,1_000_001):\n",
    "    num_str = str(num)\n",
    "    num_str_list = list(num_str)    \n",
    "    \n",
    "    digits_total = sum([int(i) for i in num_str_list])\n",
    "    total += digits_total\n",
    "\n",
    "print(total)"
   ]
  },
  {
   "cell_type": "markdown",
   "metadata": {},
   "source": [
    "## 1. Frequency Dictionary\n",
    "\n",
    "Write a function which takes as input a string, which you may assume is a single word (no spaces, punctuation, apostrophes, etc). \n",
    "You should, however, count uppercase and lowercase characters the same, and store only lowercase characters in the dictionary.\n",
    "\n",
    "The function should return a dictionary whose keys are the characters of the input string, and whose values are the number of times each character appears in the word."
   ]
  },
  {
   "cell_type": "code",
   "execution_count": 3,
   "metadata": {},
   "outputs": [],
   "source": [
    "def char_frequency(word):\n",
    "    freq = {}\n",
    "    word = word.lower()\n",
    "    \n",
    "    for char in word:\n",
    "        if not char in freq.keys():\n",
    "            freq[char] = 1\n",
    "        else:\n",
    "            freq[char] += 1\n",
    "    return freq"
   ]
  },
  {
   "cell_type": "code",
   "execution_count": 4,
   "metadata": {},
   "outputs": [
    {
     "name": "stdout",
     "output_type": "stream",
     "text": [
      "{'h': 1, 'e': 1, 'l': 2, 'o': 1}\n",
      "{}\n",
      "{'r': 2, 'a': 2, 'c': 2, 'e': 1}\n"
     ]
    }
   ],
   "source": [
    "print(char_frequency('hello'))  # {'h': 1, 'e': 1, 'l': 2, 'o': 1}\n",
    "print(char_frequency(''))  # {}, the empty dictionary\n",
    "print(char_frequency('Racecar'))  # {'r': 2, 'a': 2, 'c': 2, 'e': 1}"
   ]
  },
  {
   "cell_type": "markdown",
   "metadata": {},
   "source": [
    "Modify your function to now take as input a sentence, which may contain both uppercase and lowercase letters, as well as periods `'.'` and commas `','`.\n",
    "\n",
    "The dictionary should now have whole words as keys and the number of times they appear in the sentence as the values.\n",
    "To be able to approach this question, you will need to remove all punctuation."
   ]
  },
  {
   "cell_type": "code",
   "execution_count": 5,
   "metadata": {},
   "outputs": [],
   "source": [
    "def word_frequency(sentence):\n",
    "    trimmed_sentence = sentence.replace(',','').replace('.','').lower()\n",
    "    word_list = trimmed_sentence.split()\n",
    "    \n",
    "    freq = {}\n",
    "    \n",
    "    for word in word_list:\n",
    "        if not word in freq.keys():\n",
    "            freq[word] = 1\n",
    "        else:\n",
    "            freq[word] += 1\n",
    "    \n",
    "    return freq"
   ]
  },
  {
   "cell_type": "code",
   "execution_count": 6,
   "metadata": {},
   "outputs": [],
   "source": [
    "string_1 = 'Hello, there.'\n",
    "string_2 = \"The quick brown fox jumped over the lazy dog.\"\n",
    "string_3 = \"Two paths diverged in a wood, and I, I took the one less travelled by, and that has made all the difference.\""
   ]
  },
  {
   "cell_type": "code",
   "execution_count": 7,
   "metadata": {},
   "outputs": [
    {
     "name": "stdout",
     "output_type": "stream",
     "text": [
      "{'hello': 1, 'there': 1}\n",
      "{'the': 2, 'quick': 1, 'brown': 1, 'fox': 1, 'jumped': 1, 'over': 1, 'lazy': 1, 'dog': 1}\n",
      "{'two': 1, 'paths': 1, 'diverged': 1, 'in': 1, 'a': 1, 'wood': 1, 'and': 2, 'i': 2, 'took': 1, 'the': 2, 'one': 1, 'less': 1, 'travelled': 1, 'by': 1, 'that': 1, 'has': 1, 'made': 1, 'all': 1, 'difference': 1}\n"
     ]
    }
   ],
   "source": [
    "print(word_frequency(string_1))  # {'hello': 1, 'there': 1}\n",
    "print(word_frequency(string_2))  # {'the': 2, 'quick': 1, 'brown': 1, 'fox': 1, 'jumped': 1, 'over': 1, 'lazy': 1, 'dog': 1}\n",
    "print(word_frequency(string_3))  # {'two': 1, 'paths': 1, 'diverged': 1, 'in': 1, 'a': 1, 'wood': 1, 'and': 2, 'i': 2, 'took': 1, 'the': 2, 'one': 1, 'less': 1, 'travelled': 1, 'by': 1, 'that': 1, 'has': 1, 'made': 1, 'all': 1, 'difference': 1}"
   ]
  },
  {
   "cell_type": "markdown",
   "metadata": {},
   "source": [
    "## 2. Dice Probabilities\n",
    "\n",
    "Write a script which creates a dictionary.\n",
    "The keys of the dictionary should be the possible sums from rolling two dice, and the corresponding values should be the probability that each sum occurs.\n",
    "\n",
    "(Note: each probability should be a decimal number between 0 and 1.)"
   ]
  },
  {
   "cell_type": "code",
   "execution_count": 8,
   "metadata": {},
   "outputs": [
    {
     "name": "stdout",
     "output_type": "stream",
     "text": [
      "{2: 0.027777777777777776, 3: 0.05555555555555555, 4: 0.08333333333333333, 5: 0.1111111111111111, 6: 0.1388888888888889, 7: 0.16666666666666669, 8: 0.1388888888888889, 9: 0.1111111111111111, 10: 0.08333333333333333, 11: 0.05555555555555555, 12: 0.027777777777777776}\n"
     ]
    }
   ],
   "source": [
    "probs_2 = {}\n",
    "\n",
    "for dice_1 in range(1,7):\n",
    "    for dice_2 in range(1,7):\n",
    "        roll_total = dice_1 + dice_2\n",
    "        if not roll_total in probs_2.keys():\n",
    "            probs_2[roll_total] = 1/(6**2)\n",
    "        else:\n",
    "            probs_2[roll_total] += 1/(6**2)\n",
    "\n",
    "print(probs_2)"
   ]
  },
  {
   "cell_type": "markdown",
   "metadata": {},
   "source": [
    "The probabilities from all possible outcomes should sum to 1. \n",
    "By iterating over the values in the dictionary you've created, check this is indeed the case."
   ]
  },
  {
   "cell_type": "code",
   "execution_count": 9,
   "metadata": {},
   "outputs": [
    {
     "data": {
      "text/plain": [
       "1.0000000000000002"
      ]
     },
     "execution_count": 9,
     "metadata": {},
     "output_type": "execute_result"
    }
   ],
   "source": [
    "sum(probs_2.values())"
   ]
  },
  {
   "cell_type": "markdown",
   "metadata": {},
   "source": [
    "Modify your script to create a similar dictionary but for the probabilities corresponding to rolling three dice, instead of two. "
   ]
  },
  {
   "cell_type": "code",
   "execution_count": 10,
   "metadata": {},
   "outputs": [
    {
     "name": "stdout",
     "output_type": "stream",
     "text": [
      "{3: 0.004629629629629629, 4: 0.013888888888888888, 5: 0.027777777777777776, 6: 0.046296296296296294, 7: 0.06944444444444445, 8: 0.09722222222222218, 9: 0.11574074074074067, 10: 0.12499999999999992, 11: 0.12499999999999992, 12: 0.11574074074074067, 13: 0.09722222222222218, 14: 0.06944444444444445, 15: 0.046296296296296294, 16: 0.027777777777777776, 17: 0.013888888888888888, 18: 0.004629629629629629}\n"
     ]
    }
   ],
   "source": [
    "probs_3 = {}\n",
    "\n",
    "for dice_1 in range(1,7):\n",
    "    for dice_2 in range(1,7):\n",
    "        for dice_3 in range(1,7):\n",
    "            roll_total = dice_1 + dice_2 + dice_3\n",
    "            if not roll_total in probs_3.keys():\n",
    "                probs_3[roll_total] = 1/(6**3)\n",
    "            else:\n",
    "                probs_3[roll_total] += 1/(6**3)\n",
    "\n",
    "print(probs_3)"
   ]
  },
  {
   "cell_type": "markdown",
   "metadata": {},
   "source": [
    "Again, check that the values sum to 1."
   ]
  },
  {
   "cell_type": "code",
   "execution_count": 11,
   "metadata": {},
   "outputs": [
    {
     "data": {
      "text/plain": [
       "0.9999999999999996"
      ]
     },
     "execution_count": 11,
     "metadata": {},
     "output_type": "execute_result"
    }
   ],
   "source": [
    "sum(probs_3.values())"
   ]
  },
  {
   "cell_type": "markdown",
   "metadata": {},
   "source": [
    "Write a function now which finds takes one of these probability dictionaries.\n",
    "Return the most likely dice roll.\n",
    "\n",
    "(If more than one roll are equally likely, just return one.)\n",
    "\n",
    "Test the function with your dictionaries from above, and check by inspection."
   ]
  },
  {
   "cell_type": "code",
   "execution_count": 12,
   "metadata": {},
   "outputs": [],
   "source": [
    "def most_likely(probs):\n",
    "    sums = list(probs.keys())\n",
    "    probabilities = list(probs.values())\n",
    "    \n",
    "    highest = max(probabilities)\n",
    "    \n",
    "    index = probabilities.index(highest)\n",
    "    return sums[index]"
   ]
  },
  {
   "cell_type": "code",
   "execution_count": 13,
   "metadata": {},
   "outputs": [
    {
     "name": "stdout",
     "output_type": "stream",
     "text": [
      "7\n",
      "10\n"
     ]
    }
   ],
   "source": [
    "print(most_likely(probs_2))\n",
    "print(most_likely(probs_3))"
   ]
  },
  {
   "cell_type": "markdown",
   "metadata": {},
   "source": [
    "## 3. $\\boldsymbol{y=mx+b}$\n",
    "\n",
    "Write a function which takes as input two points on a line, $(x_1, y_1)$ and $(x_2, y_2)$.\n",
    "These points will be given as length-2 tuples.\n",
    "\n",
    "Your function should return a tuple $(m,b)$, consisting of the slope and the $y$-intercept of the line intersecting the two given points.\n",
    "Further, the function should:\n",
    "1. Be able to handle the degenerate cases of either a horizontal or vertical line. In the latter case, your line is of the form $x = k$. In such a case, return the tuple `('x', k)`, where `'x'` is a string and `k` is the value of the constant $k$.\n",
    "2. If the two points are equal, then you should instead return the string `'Error: requires 2 points to define a line'`."
   ]
  },
  {
   "cell_type": "code",
   "execution_count": 14,
   "metadata": {},
   "outputs": [],
   "source": [
    "def line_coeffs(point_1, point_2):\n",
    "    if point_1 == point_2:\n",
    "        return 'Error: requires 2 points to define a line'\n",
    "    \n",
    "    x_1, y_1 = point_1\n",
    "    x_2, y_2 = point_2\n",
    "    \n",
    "    if x_1 == x_2:\n",
    "        return ('x', x_1)  # or x_2\n",
    "    \n",
    "    m = (y_2 - y_1) / (x_2 - x_1)\n",
    "    b = y_1 - m*x_1\n",
    "    \n",
    "    return (m,b)"
   ]
  },
  {
   "cell_type": "code",
   "execution_count": 15,
   "metadata": {},
   "outputs": [
    {
     "name": "stdout",
     "output_type": "stream",
     "text": [
      "Error: requires 2 points to define a line\n",
      "('x', -1)\n",
      "(0.18181818181818182, 0.0)\n"
     ]
    }
   ],
   "source": [
    "print(line_coeffs((1,1), (1,1)))  # Error: requires 2 points to define a line\n",
    "print(line_coeffs((-1,1), (-1, 11)))  # ('x', -1)\n",
    "print(line_coeffs((0,0), (11,2)))  # (0.18181818181818182, 0.0)"
   ]
  },
  {
   "cell_type": "markdown",
   "metadata": {},
   "source": [
    "## 4. Unique Lists\n",
    "\n",
    "Write a function that returns `True` if every element in a list if unique, and `False` otherwise."
   ]
  },
  {
   "cell_type": "code",
   "execution_count": 16,
   "metadata": {},
   "outputs": [],
   "source": [
    "def is_unique(some_list):\n",
    "    set_list = set(some_list)\n",
    "    return len(set_list) == len(some_list)"
   ]
  },
  {
   "cell_type": "code",
   "execution_count": 17,
   "metadata": {},
   "outputs": [
    {
     "name": "stdout",
     "output_type": "stream",
     "text": [
      "True\n",
      "True\n",
      "False\n"
     ]
    }
   ],
   "source": [
    "print(is_unique([]))  # True\n",
    "print(is_unique([1,2,3,4,5]))  # True\n",
    "print(is_unique([1,2,3,4,1]))  # False"
   ]
  },
  {
   "cell_type": "markdown",
   "metadata": {},
   "source": [
    "## 5. Roots of Quadratic\n",
    "\n",
    "Write a function which looks at a quadratic function, $ax^2 + bx + c$.\n",
    "Using the quadratic formula, the function should return a list `[x_1, x_2]`, where `x_1` and `x_2` are the roots of the quadratic.\n",
    "The input of the function are the coefficients `a`, `b`, and `c`.\n",
    "\n",
    "If the quadratic has one root (of multiplicity two), then the function should return that root twice in the list.\n",
    "On the other hand, if the quadratic has no roots, then it should return the string `'No real roots'`, and if $a=0$, then the function should return the single root. \n",
    "If both $a=0$ and $b=0$, then the function should return again the string `'No real roots'`, unless it is the zero function ($a=b=c=0$), in which case it should return `'Infinitely many roots'`."
   ]
  },
  {
   "cell_type": "markdown",
   "metadata": {},
   "source": [
    "Recall the quadratic formula:\n",
    "$$ x = \\frac{-b \\pm \\sqrt{b^2 - 4ac}}{2a}. $$\n",
    "\n",
    "The quantity under the square root is the *discriminant*.\n",
    "If the discriminant is negative, then there are no real roots!"
   ]
  },
  {
   "cell_type": "code",
   "execution_count": 18,
   "metadata": {},
   "outputs": [],
   "source": [
    "from math import sqrt\n",
    "\n",
    "def roots(a, b, c):\n",
    "    if a == 0:\n",
    "        if b == 0:\n",
    "            if c == 0:\n",
    "                # a = b = c = 0\n",
    "                return 'Infinitely many roots'\n",
    "            else:\n",
    "                # a = b = 0, c != 0\n",
    "                return 'No real roots'\n",
    "        else:\n",
    "            # a = 0, b != 0, c != 0\n",
    "            return -c/b\n",
    "    \n",
    "    discriminant = b**2 - 4*a*c\n",
    "    \n",
    "    if discriminant < 0:\n",
    "        return 'No real roots'\n",
    "    \n",
    "    root_1 = (-b - sqrt(discriminant))/(2*a)\n",
    "    root_2 = (-b + sqrt(discriminant))/(2*a)\n",
    "    \n",
    "    return [root_1, root_2]"
   ]
  },
  {
   "cell_type": "code",
   "execution_count": 19,
   "metadata": {},
   "outputs": [
    {
     "name": "stdout",
     "output_type": "stream",
     "text": [
      "Infinitely many roots\n",
      "No real roots\n",
      "No real roots\n",
      "\n",
      "-0.6666666666666666\n",
      "[-1.0, 1.0]\n",
      "[367.2970376145484, -344.33212533384665]\n"
     ]
    }
   ],
   "source": [
    "print(roots(0, 0, 0))  # Infinitely many roots\n",
    "print(roots(0, 0, 1))  # No real roots\n",
    "print(roots(2, 1, 2))  # No real roots\n",
    "\n",
    "print()\n",
    "\n",
    "print(roots(0, 3, 2))  # -0.6666666666666666\n",
    "print(roots(1, 0, -1))  # [-1.0, 1.0]\n",
    "print(roots(-342, 7854, 43253482))  # [367.2970376145484, -344.33212533384665]"
   ]
  },
  {
   "cell_type": "code",
   "execution_count": null,
   "metadata": {},
   "outputs": [],
   "source": []
  }
 ],
 "metadata": {
  "kernelspec": {
   "display_name": "Python 3",
   "language": "python",
   "name": "python3"
  },
  "language_info": {
   "codemirror_mode": {
    "name": "ipython",
    "version": 3
   },
   "file_extension": ".py",
   "mimetype": "text/x-python",
   "name": "python",
   "nbconvert_exporter": "python",
   "pygments_lexer": "ipython3",
   "version": "3.7.7"
  }
 },
 "nbformat": 4,
 "nbformat_minor": 4
}
