{
 "cells": [
  {
   "cell_type": "markdown",
   "metadata": {},
   "source": [
    "# Lab 9: Monday, June 7\n",
    "\n",
    "Topics\n",
    "  * More NumPy\n",
    "  * A Sorting Algorithm\n",
    "  * Euler's Method\n",
    "  * NumPy Random"
   ]
  },
  {
   "cell_type": "markdown",
   "metadata": {},
   "source": [
    "## Questions?"
   ]
  },
  {
   "cell_type": "markdown",
   "metadata": {},
   "source": [
    "## 1. Sorting\n",
    "\n",
    "Sorting algorithms are used to sort lists. \n",
    "Typically these lists contain numbers, and we want to sort them from least to greatest.\n",
    "\n",
    "Write a function which checks whether a list of numbers is sorted."
   ]
  },
  {
   "cell_type": "code",
   "execution_count": 1,
   "metadata": {},
   "outputs": [],
   "source": [
    "def is_sorted_loop(num_list):\n",
    "    for i in range(1, len(num_list)):\n",
    "        if num_list[i-1] > num_list[i]:\n",
    "            return False\n",
    "    return True"
   ]
  },
  {
   "cell_type": "code",
   "execution_count": 2,
   "metadata": {},
   "outputs": [],
   "source": [
    "def is_sorted(num_list):\n",
    "    return num_list == sorted(num_list)"
   ]
  },
  {
   "cell_type": "code",
   "execution_count": 3,
   "metadata": {},
   "outputs": [
    {
     "name": "stdout",
     "output_type": "stream",
     "text": [
      "True\n",
      "True\n"
     ]
    }
   ],
   "source": [
    "num_list_1 = [1,2,3]\n",
    "print(is_sorted_loop(num_list_1))\n",
    "print(is_sorted(num_list_1))"
   ]
  },
  {
   "cell_type": "code",
   "execution_count": 4,
   "metadata": {},
   "outputs": [
    {
     "name": "stdout",
     "output_type": "stream",
     "text": [
      "True\n",
      "True\n"
     ]
    }
   ],
   "source": [
    "num_list_2 = [-10, 0, 57489235, 74839120543]\n",
    "print(is_sorted_loop(num_list_2))\n",
    "print(is_sorted(num_list_2))"
   ]
  },
  {
   "cell_type": "code",
   "execution_count": 5,
   "metadata": {},
   "outputs": [
    {
     "name": "stdout",
     "output_type": "stream",
     "text": [
      "False\n",
      "False\n"
     ]
    }
   ],
   "source": [
    "num_list_3 = [7894123, -132874932, 0, 1324789]\n",
    "print(is_sorted_loop(num_list_3))\n",
    "print(is_sorted(num_list_3))"
   ]
  },
  {
   "cell_type": "markdown",
   "metadata": {},
   "source": [
    "An extremely inefficient sorting algorithm is known as bogosort. \n",
    "The way this method works is\n",
    "1. Check whether the list is sorted. If it is, you're done. Otherwise, go to step 2.\n",
    "2. Randomly shuffle the list. Repeat step 1.\n",
    "\n",
    "So, the idea is to shuffle the elements in the list until, by chance, the shuffle gives you the correct order.\n",
    "Write a function `bogo` which implements this algorithm. \n",
    "(Hint: notice the method which has been imported for you.)"
   ]
  },
  {
   "cell_type": "code",
   "execution_count": 6,
   "metadata": {},
   "outputs": [],
   "source": [
    "from random import shuffle"
   ]
  },
  {
   "cell_type": "code",
   "execution_count": 7,
   "metadata": {},
   "outputs": [],
   "source": [
    "def bogo(num_list):\n",
    "    while not is_sorted(num_list):\n",
    "        shuffle(num_list)\n",
    "        \n",
    "    return num_list"
   ]
  },
  {
   "cell_type": "code",
   "execution_count": 8,
   "metadata": {},
   "outputs": [
    {
     "name": "stdout",
     "output_type": "stream",
     "text": [
      "[1, 2, 3, 4, 5]\n"
     ]
    }
   ],
   "source": [
    "print(bogo([5,4,3,2,1]))"
   ]
  },
  {
   "cell_type": "code",
   "execution_count": 9,
   "metadata": {},
   "outputs": [
    {
     "name": "stdout",
     "output_type": "stream",
     "text": [
      "[1, 2, 3, 4, 5, 6, 7, 8]\n"
     ]
    }
   ],
   "source": [
    "print(bogo([8,7,6,5,4,3,2,1]))"
   ]
  },
  {
   "cell_type": "code",
   "execution_count": 10,
   "metadata": {},
   "outputs": [
    {
     "name": "stdout",
     "output_type": "stream",
     "text": [
      "[1, 2, 3, 4, 5, 6, 7, 8, 9, 10]\n"
     ]
    }
   ],
   "source": [
    "# this one may take a little while to run\n",
    "print(bogo([10,9,8,7,6,5,4,3,2,1]))"
   ]
  },
  {
   "cell_type": "markdown",
   "metadata": {},
   "source": [
    "This is a slow approach.\n",
    "Write code which compares the time it takes `bogo` to sort the list `[10, 9, 8, 7, 6, 5, 4, 3, 2, 1]` to the time it takes the built-in `sorted` method."
   ]
  },
  {
   "cell_type": "code",
   "execution_count": 11,
   "metadata": {},
   "outputs": [],
   "source": [
    "import time\n",
    "num_list = [10, 9, 8, 7, 6, 5, 4, 3, 2, 1]"
   ]
  },
  {
   "cell_type": "code",
   "execution_count": 12,
   "metadata": {},
   "outputs": [
    {
     "name": "stdout",
     "output_type": "stream",
     "text": [
      "It took 47.594680070877075 seconds for bogosort\n"
     ]
    }
   ],
   "source": [
    "start = time.time()\n",
    "\n",
    "bogo(num_list)\n",
    "\n",
    "end = time.time()\n",
    "print('It took', end - start, 'seconds for bogosort')"
   ]
  },
  {
   "cell_type": "code",
   "execution_count": 13,
   "metadata": {},
   "outputs": [
    {
     "name": "stdout",
     "output_type": "stream",
     "text": [
      "It took 0.00028705596923828125 seconds for the built-in sort\n"
     ]
    }
   ],
   "source": [
    "start = time.time()\n",
    "\n",
    "sorted(num_list)\n",
    "\n",
    "end = time.time()\n",
    "print('It took', end-start, 'seconds for the built-in sort')"
   ]
  },
  {
   "cell_type": "markdown",
   "metadata": {},
   "source": [
    "Run your timing cells a few times.\n",
    "Do you always get the same results?"
   ]
  },
  {
   "cell_type": "markdown",
   "metadata": {},
   "source": [
    "## 2. Euler's Method\n",
    "\n",
    "Consider the following differential equation. $$ \\frac{dy}{dx} = (y^2 - y - 2)(1-y)^2 $$\n",
    "\n",
    "Using Euler's method, plot the differential equation for the following initial values: $$ y(0) = \\frac{-5}{2}, \\, -2, \\, \\frac{-3}{2}, \\, -1, \\, \\frac{-1}{2}, \\, 0, \\, \\frac{1}{2}, \\, 1, \\, \\frac{3}{2}, \\, 2. $$"
   ]
  },
  {
   "cell_type": "code",
   "execution_count": 14,
   "metadata": {},
   "outputs": [],
   "source": [
    "import numpy as np\n",
    "import matplotlib.pyplot as plt"
   ]
  },
  {
   "cell_type": "code",
   "execution_count": 15,
   "metadata": {},
   "outputs": [],
   "source": [
    "# write the gradient function\n",
    "def grad(y_i):\n",
    "    return ((y_i**2) - y_i - 2) * ((1 - y_i)**2)"
   ]
  },
  {
   "cell_type": "markdown",
   "metadata": {},
   "source": [
    "Write a function which plots the above differential equation on the interval $[1,2.5]$ given an initial condition `y_0`."
   ]
  },
  {
   "cell_type": "code",
   "execution_count": 16,
   "metadata": {},
   "outputs": [],
   "source": [
    "def graph(y_0):\n",
    "    x = np.linspace(1,2.5,500)\n",
    "    h = x[1] - x[0]\n",
    "    y = np.array([y_0])\n",
    "    \n",
    "    for i in range(len(x)):\n",
    "        y_change = grad(y[i])\n",
    "        y_new = y[i] + h*y_change\n",
    "        y = np.append(y, y_new)\n",
    "        \n",
    "    plt.plot(x, y[1:], label=str(y_0))"
   ]
  },
  {
   "cell_type": "code",
   "execution_count": 17,
   "metadata": {},
   "outputs": [
    {
     "data": {
      "image/png": "[encoded data removed]",
      "text/plain": [
       "<Figure size 432x288 with 1 Axes>"
      ]
     },
     "metadata": {
      "needs_background": "light"
     },
     "output_type": "display_data"
    }
   ],
   "source": [
    "for j in range(-5, 5):\n",
    "    graph(j/2)\n",
    "    \n",
    "plt.legend(loc='lower right')\n",
    "plt.show()"
   ]
  },
  {
   "cell_type": "markdown",
   "metadata": {},
   "source": [
    "The following differential equation models a population $P(t)$ which undergoes yearly seasonal fluctuations. \n",
    "$$\\frac{dP}{dt} = P(t)(k\\cdot\\cos{2\\pi t})$$\n",
    "\n",
    "Taking $k=\\frac{1}{10}$ and an initial population of 30, plot the population for time between $[0,10]$."
   ]
  },
  {
   "cell_type": "code",
   "execution_count": 18,
   "metadata": {},
   "outputs": [],
   "source": [
    "def grad(P_i, t_i, k):\n",
    "    return P_i * k * np.cos(2*np.pi*t_i)"
   ]
  },
  {
   "cell_type": "code",
   "execution_count": 19,
   "metadata": {},
   "outputs": [],
   "source": [
    "k = 1/10\n",
    "P = np.array([30])  # initial population"
   ]
  },
  {
   "cell_type": "code",
   "execution_count": 20,
   "metadata": {},
   "outputs": [],
   "source": [
    "t = np.linspace(0, 10, 1000)\n",
    "h = t[1] - t[0]"
   ]
  },
  {
   "cell_type": "code",
   "execution_count": 21,
   "metadata": {},
   "outputs": [],
   "source": [
    "for i in range(len(t)):\n",
    "    P_change = grad(P[i], t[i], k)\n",
    "    P_now = P[i] + h*P_change\n",
    "    P = np.append(P, P_now)"
   ]
  },
  {
   "cell_type": "code",
   "execution_count": 22,
   "metadata": {},
   "outputs": [
    {
     "data": {
      "image/png": "[encoded data removed]",
      "text/plain": [
       "<Figure size 432x288 with 1 Axes>"
      ]
     },
     "metadata": {
      "needs_background": "light"
     },
     "output_type": "display_data"
    }
   ],
   "source": [
    "plt.plot(t, P[1:])\n",
    "plt.title('Population with Seasonal Fluctuations')\n",
    "plt.show()"
   ]
  },
  {
   "cell_type": "markdown",
   "metadata": {},
   "source": [
    "## 3. A Game\n",
    "\n",
    "You're playing a game with two friends that involves a 6-sided dice and two coins.\n",
    "You assign \"heads\" a value of 1, and \"tails\" a values of 0.\n",
    "For each round, you roll the dice, flip the two coins, and sum the three values.\n",
    "\n",
    "  * You win the round if the total is 1, 5, or 8,\n",
    "  * Your first friend wins if the total is 3 or 4,\n",
    "  * Your second friend wins if the total is 2, 6, or 7\n",
    "  \n",
    "Write a function which simulates one round of the game."
   ]
  },
  {
   "cell_type": "code",
   "execution_count": 23,
   "metadata": {},
   "outputs": [],
   "source": [
    "import numpy.random as rand"
   ]
  },
  {
   "cell_type": "code",
   "execution_count": 24,
   "metadata": {},
   "outputs": [],
   "source": [
    "def sample_round():\n",
    "    '''\n",
    "    Return 0 if you win, \n",
    "    1 if the first friend wins, and\n",
    "    2 if the second friend wins\n",
    "    '''\n",
    "    \n",
    "    you_win = [1, 5, 8]\n",
    "    friend_wins_1 = [3, 4]\n",
    "    friend_wins_2 = [2, 6, 7]\n",
    "    \n",
    "    # roll a dice\n",
    "    dice = rand.randint(1,7)\n",
    "    \n",
    "    # flip two coins\n",
    "    coin_1 = rand.randint(0,2)\n",
    "    coin_2 = rand.randint(0,2)\n",
    "    \n",
    "    total = dice + coin_1 + coin_2\n",
    "    \n",
    "    if total in you_win:\n",
    "        return 0\n",
    "    elif total in friend_wins_1:\n",
    "        return 1\n",
    "    else:\n",
    "        return 2"
   ]
  },
  {
   "cell_type": "code",
   "execution_count": 25,
   "metadata": {},
   "outputs": [
    {
     "name": "stdout",
     "output_type": "stream",
     "text": [
      "2\n",
      "1\n",
      "2\n",
      "0\n"
     ]
    }
   ],
   "source": [
    "rand.seed(0)\n",
    "print(sample_round())  # should print 2\n",
    "print(sample_round())  # should print 1\n",
    "print(sample_round())  # should print 2\n",
    "print(sample_round())  # should print 0"
   ]
  },
  {
   "cell_type": "markdown",
   "metadata": {},
   "source": [
    "Now write a function `simulate(num_rounds)` which calls the previous function `num_rounds` times and creates a pie chart of the win percentage for each player.\n",
    "\n",
    "The syntax to create a pie chart is `plt.pie(win_total, labels=[you, friend 1, friend 2], autopct='%.2f')`, where `win_total` is a list of length 3: the first number is the number of times you win, the second number is the number of times your first friend wins, and the last number is the number of times your second friend wins.\n",
    "\n",
    "Your function should show this plot and return the list `win_total`."
   ]
  },
  {
   "cell_type": "code",
   "execution_count": 26,
   "metadata": {},
   "outputs": [],
   "source": [
    "def simulate(num_rounds):\n",
    "    win_total = [0, 0, 0]\n",
    "    \n",
    "    for i in range(num_rounds):\n",
    "        winner = sample_round()\n",
    "        win_total[winner] += 1\n",
    "        \n",
    "    plt.pie(win_total, labels=['you', 'friend 1', 'friend 2'], autopct='%.2f')\n",
    "    # the `autopct` parameter adds nice percentage labels on the chart\n",
    "    \n",
    "    plt.show()\n",
    "    return win_total"
   ]
  },
  {
   "cell_type": "code",
   "execution_count": 27,
   "metadata": {},
   "outputs": [
    {
     "data": {
      "image/png": "[encoded data removed]",
      "text/plain": [
       "<Figure size 432x288 with 1 Axes>"
      ]
     },
     "metadata": {},
     "output_type": "display_data"
    },
    {
     "data": {
      "text/plain": [
       "[29, 32, 39]"
      ]
     },
     "execution_count": 27,
     "metadata": {},
     "output_type": "execute_result"
    }
   ],
   "source": [
    "rand.seed(11)\n",
    "simulate(100)  # [29, 32, 39], pie chart percentages are 29.00, 32.00, and 39.00"
   ]
  },
  {
   "cell_type": "code",
   "execution_count": 28,
   "metadata": {},
   "outputs": [
    {
     "data": {
      "image/png": "[encoded data removed]",
      "text/plain": [
       "<Figure size 432x288 with 1 Axes>"
      ]
     },
     "metadata": {},
     "output_type": "display_data"
    },
    {
     "data": {
      "text/plain": [
       "[252, 345, 403]"
      ]
     },
     "execution_count": 28,
     "metadata": {},
     "output_type": "execute_result"
    }
   ],
   "source": [
    "rand.seed(2021)\n",
    "simulate(1000)  # [252, 345, 403], pie chart percentages are 25.20, 34.50, and 40.30"
   ]
  },
  {
   "cell_type": "markdown",
   "metadata": {},
   "source": [
    "Is the game fair? "
   ]
  },
  {
   "cell_type": "markdown",
   "metadata": {},
   "source": [
    "Write a script now which calculates the probabilities for each possible score (from 1 up to 8). \n",
    "Can you use this to devise a scoring system for a fair game?\n",
    "Check your work by simulating some rounds with your scoring system."
   ]
  },
  {
   "cell_type": "code",
   "execution_count": 29,
   "metadata": {},
   "outputs": [
    {
     "name": "stdout",
     "output_type": "stream",
     "text": [
      "[0.0417, 0.125, 0.1667, 0.1667, 0.1667, 0.1667, 0.125, 0.0417]\n"
     ]
    }
   ],
   "source": [
    "count = [0, 0, 0, 0, 0, 0, 0, 0]\n",
    "\n",
    "for coin_1 in range(0,2):\n",
    "    for coin_2 in range(0,2):\n",
    "        for dice in range(1,7):\n",
    "            \n",
    "            total = coin_1 + coin_2 + dice\n",
    "            count[total-1] += 1\n",
    "            \n",
    "possible_outcomes = sum(count)\n",
    "probabilities = [round(freq/possible_outcomes,4) for freq in count]\n",
    "\n",
    "print(probabilities)"
   ]
  },
  {
   "cell_type": "markdown",
   "metadata": {},
   "source": [
    "We want each player to have a probabilities of 0.33. \n",
    "So, a fair system is when \n",
    "  * You win if the total 3 or 4,\n",
    "  * Your first friend wins if the total is 5 or 6,\n",
    "  * Your second friend wins if the total is 1, 2, 7, or 8"
   ]
  },
  {
   "cell_type": "code",
   "execution_count": 30,
   "metadata": {},
   "outputs": [],
   "source": [
    "def check_fair():\n",
    "    \n",
    "    you_win = [3, 4]\n",
    "    friend_wins_1 = [5, 6]\n",
    "    friend_wins_2 = [1, 2, 7, 8]\n",
    "    \n",
    "    # roll a dice\n",
    "    dice = rand.randint(1,7)\n",
    "    \n",
    "    # flip two coins\n",
    "    coin_1 = rand.randint(0,2)\n",
    "    coin_2 = rand.randint(0,2)\n",
    "    \n",
    "    total = dice + coin_1 + coin_2\n",
    "    \n",
    "    if total in you_win:\n",
    "        return 0\n",
    "    elif total in friend_wins_1:\n",
    "        return 1\n",
    "    else:\n",
    "        return 2"
   ]
  },
  {
   "cell_type": "markdown",
   "metadata": {},
   "source": [
    "Use your simulate function to check over multiple rounds:"
   ]
  },
  {
   "cell_type": "code",
   "execution_count": 31,
   "metadata": {},
   "outputs": [],
   "source": [
    "def simulate(num_rounds):\n",
    "    win_total = [0, 0, 0]\n",
    "    \n",
    "    for i in range(num_rounds):\n",
    "        winner = check_fair()\n",
    "        win_total[winner] += 1\n",
    "        \n",
    "    plt.pie(win_total, labels=['you', 'friend 1', 'friend 2'], autopct='%.2f')\n",
    "    # the `autopct` parameter adds nice percentage labels on the chart\n",
    "    \n",
    "    plt.show()\n",
    "    return win_total"
   ]
  },
  {
   "cell_type": "code",
   "execution_count": 32,
   "metadata": {},
   "outputs": [
    {
     "data": {
      "image/png": "[encoded data removed]",
      "text/plain": [
       "<Figure size 432x288 with 1 Axes>"
      ]
     },
     "metadata": {},
     "output_type": "display_data"
    },
    {
     "data": {
      "text/plain": [
       "[333, 338, 329]"
      ]
     },
     "execution_count": 32,
     "metadata": {},
     "output_type": "execute_result"
    }
   ],
   "source": [
    "rand.seed(1234)\n",
    "simulate(1000)  # [333, 338, 329], pie chart percentages are 33.30, 33.80, and 32.90"
   ]
  },
  {
   "cell_type": "code",
   "execution_count": 33,
   "metadata": {},
   "outputs": [
    {
     "data": {
      "image/png": "[encoded data removed]",
      "text/plain": [
       "<Figure size 432x288 with 1 Axes>"
      ]
     },
     "metadata": {},
     "output_type": "display_data"
    },
    {
     "data": {
      "text/plain": [
       "[3393, 3329, 3278]"
      ]
     },
     "execution_count": 33,
     "metadata": {},
     "output_type": "execute_result"
    }
   ],
   "source": [
    "rand.seed(33)\n",
    "simulate(10000)  # [3393, 3329, 3278], pie chart percentages are 33.93, 33.29, and 33.78"
   ]
  },
  {
   "cell_type": "code",
   "execution_count": null,
   "metadata": {},
   "outputs": [],
   "source": []
  }
 ],
 "metadata": {
  "kernelspec": {
   "display_name": "Python 3",
   "language": "python",
   "name": "python3"
  },
  "language_info": {
   "codemirror_mode": {
    "name": "ipython",
    "version": 3
   },
   "file_extension": ".py",
   "mimetype": "text/x-python",
   "name": "python",
   "nbconvert_exporter": "python",
   "pygments_lexer": "ipython3",
   "version": "3.7.7"
  }
 },
 "nbformat": 4,
 "nbformat_minor": 4
}
