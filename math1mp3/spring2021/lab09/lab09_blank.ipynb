{
 "cells": [
  {
   "cell_type": "markdown",
   "metadata": {},
   "source": [
    "# Lab 9: Monday, June 7\n",
    "\n",
    "Topics\n",
    "  * More NumPy\n",
    "  * A Sorting Algorithm\n",
    "  * Euler's Method\n",
    "  * NumPy Random"
   ]
  },
  {
   "cell_type": "markdown",
   "metadata": {},
   "source": [
    "## Questions?"
   ]
  },
  {
   "cell_type": "markdown",
   "metadata": {},
   "source": [
    "## 1. Sorting\n",
    "\n",
    "Sorting algorithms are used to sort lists. \n",
    "Typically these lists contain numbers, and we want to sort them from least to greatest.\n",
    "\n",
    "Write a function which checks whether a list of numbers is sorted."
   ]
  },
  {
   "cell_type": "code",
   "execution_count": null,
   "metadata": {},
   "outputs": [],
   "source": [
    "def is_sorted(num_list):\n",
    "    \n",
    "    "
   ]
  },
  {
   "cell_type": "code",
   "execution_count": null,
   "metadata": {},
   "outputs": [],
   "source": [
    "num_list_1 = [1,2,3]\n",
    "print(is_sorted(num_list_1))  # True"
   ]
  },
  {
   "cell_type": "code",
   "execution_count": null,
   "metadata": {},
   "outputs": [],
   "source": [
    "num_list_2 = [-10, 0, 57489235, 74839120543]\n",
    "print(is_sorted(num_list_2))  # True"
   ]
  },
  {
   "cell_type": "code",
   "execution_count": null,
   "metadata": {},
   "outputs": [],
   "source": [
    "num_list_3 = [7894123, -132874932, 0, 1324789]\n",
    "print(is_sorted(num_list_3))  # False"
   ]
  },
  {
   "cell_type": "markdown",
   "metadata": {},
   "source": [
    "An extremely inefficient sorting algorithm is known as bogosort. \n",
    "The way this method works is\n",
    "1. Check whether the list is sorted. If it is, you're done. Otherwise, go to step 2.\n",
    "2. Randomly shuffle the list. Repeat step 1.\n",
    "\n",
    "So, the idea is to shuffle the elements in the list until, by chance, the shuffle gives you the correct order.\n",
    "Write a function `bogo` which implements this algorithm. \n",
    "(Hint: notice the method which has been imported for you.)"
   ]
  },
  {
   "cell_type": "code",
   "execution_count": null,
   "metadata": {},
   "outputs": [],
   "source": [
    "from random import shuffle"
   ]
  },
  {
   "cell_type": "code",
   "execution_count": null,
   "metadata": {},
   "outputs": [],
   "source": [
    "def bogo(num_list):\n",
    "    \n",
    "    "
   ]
  },
  {
   "cell_type": "code",
   "execution_count": null,
   "metadata": {},
   "outputs": [],
   "source": [
    "print(bogo([5,4,3,2,1]))  # [1, 2, 3, 4, 5]\n",
    "print(bogo([8,7,6,5,4,3,2,1]))  # [1, 2, 3, 4, 5, 6, 7, 8]"
   ]
  },
  {
   "cell_type": "code",
   "execution_count": null,
   "metadata": {},
   "outputs": [],
   "source": [
    "# this one may take a little while to run\n",
    "print(bogo([10,9,8,7,6,5,4,3,2,1]))"
   ]
  },
  {
   "cell_type": "markdown",
   "metadata": {},
   "source": [
    "This is a slow approach.\n",
    "Write code which compares the time it takes `bogo` to sort the list `[10, 9, 8, 7, 6, 5, 4, 3, 2, 1]` to the time it takes the built-in `sorted` method."
   ]
  },
  {
   "cell_type": "code",
   "execution_count": null,
   "metadata": {},
   "outputs": [],
   "source": [
    "import time\n",
    "num_list = [10, 9, 8, 7, 6, 5, 4, 3, 2, 1]"
   ]
  },
  {
   "cell_type": "code",
   "execution_count": null,
   "metadata": {},
   "outputs": [],
   "source": [
    "# time the bogo sort method here\n",
    "\n"
   ]
  },
  {
   "cell_type": "code",
   "execution_count": null,
   "metadata": {},
   "outputs": [],
   "source": [
    "# time the `sorted` method here\n",
    "\n"
   ]
  },
  {
   "cell_type": "markdown",
   "metadata": {},
   "source": [
    "Run your timing cells a few times.\n",
    "Do you always get the same results?"
   ]
  },
  {
   "cell_type": "markdown",
   "metadata": {},
   "source": [
    "## 2. Euler's Method\n",
    "\n",
    "Consider the following differential equation. $$ \\frac{dy}{dx} = (y^2 - y - 2)(1-y)^2 $$\n",
    "\n",
    "Using Euler's method, plot the differential equation for the following initial values: $$ y(0) = \\frac{-5}{2}, \\, -2, \\, \\frac{-3}{2}, \\, -1, \\, \\frac{-1}{2}, \\, 0, \\, \\frac{1}{2}, \\, 1, \\, \\frac{3}{2}, \\, 2. $$"
   ]
  },
  {
   "cell_type": "code",
   "execution_count": null,
   "metadata": {},
   "outputs": [],
   "source": [
    "import numpy as np\n",
    "import matplotlib.pyplot as plt"
   ]
  },
  {
   "cell_type": "code",
   "execution_count": null,
   "metadata": {},
   "outputs": [],
   "source": [
    "# write the gradient function\n",
    "def grad(y_i):\n",
    "    '''y_i is the y value at the i^th time position'''\n",
    "    \n",
    "    "
   ]
  },
  {
   "cell_type": "markdown",
   "metadata": {},
   "source": [
    "Write a function which plots the above differential equation on the interval $[1,2.5]$ given an initial condition `y_0`."
   ]
  },
  {
   "cell_type": "code",
   "execution_count": null,
   "metadata": {},
   "outputs": [],
   "source": [
    "def graph(y_0):\n",
    "    \n",
    "    "
   ]
  },
  {
   "cell_type": "code",
   "execution_count": null,
   "metadata": {},
   "outputs": [],
   "source": [
    "# write code that calls the last function with all the initial conditions\n",
    "\n"
   ]
  },
  {
   "cell_type": "markdown",
   "metadata": {},
   "source": [
    "The following differential equation models a population $P(t)$ which undergoes yearly seasonal fluctuations. \n",
    "$$\\frac{dP}{dt} = P(t)(k\\cdot\\cos{2\\pi t})$$\n",
    "\n",
    "Taking $k=\\frac{1}{10}$ and an initial population of 30, plot the population for time between $[0,10]$."
   ]
  },
  {
   "cell_type": "code",
   "execution_count": null,
   "metadata": {},
   "outputs": [],
   "source": [
    "k = 1/10\n",
    "P = np.array([30])  # initial population"
   ]
  },
  {
   "cell_type": "code",
   "execution_count": null,
   "metadata": {},
   "outputs": [],
   "source": [
    "# write the gradient function\n",
    "def grad(P_i, t_i, k):\n",
    "    \n",
    "    "
   ]
  },
  {
   "cell_type": "code",
   "execution_count": null,
   "metadata": {},
   "outputs": [],
   "source": [
    "# no need to write a whole function for this one\n",
    "# just write code which implements Euler's method\n",
    "# and plots the result\n",
    "\n"
   ]
  },
  {
   "cell_type": "markdown",
   "metadata": {},
   "source": [
    "## 3. A Game\n",
    "\n",
    "You're playing a game with two friends that involves a 6-sided dice and two coins.\n",
    "You assign \"heads\" a value of 1, and \"tails\" a values of 0.\n",
    "For each round, you roll the dice, flip the two coins, and add sum the three values.\n",
    "\n",
    "  * You win the round if the total is 1, 5, or 8,\n",
    "  * Your first friend wins if the total is 3 or 4,\n",
    "  * Your second friend wins if the total is 2, 6, or 7\n",
    "  \n",
    "Write a function which simulates one round of the game."
   ]
  },
  {
   "cell_type": "code",
   "execution_count": null,
   "metadata": {},
   "outputs": [],
   "source": [
    "def sample_round():\n",
    "    '''\n",
    "    Return 0 if you win, \n",
    "    1 if the first friend wins, and\n",
    "    2 if the second friend wins\n",
    "    '''\n",
    "    \n",
    "    "
   ]
  },
  {
   "cell_type": "code",
   "execution_count": null,
   "metadata": {},
   "outputs": [],
   "source": [
    "rand.seed(0)\n",
    "print(sample_round())  # should print 2\n",
    "print(sample_round())  # should print 1\n",
    "print(sample_round())  # should print 2\n",
    "print(sample_round())  # should print 0"
   ]
  },
  {
   "cell_type": "markdown",
   "metadata": {},
   "source": [
    "Now write a function `simulate(num_rounds)` which calls the previous function `num_rounds` times and creates a pie chart of the win percentage for each player.\n",
    "\n",
    "The syntax to create a pie chart is `plt.pie(win_total, labels=[you, friend 1, friend 2], autopct='%.2f')`, where `win_total` is a list of length 3: the first number is the number of times you win, the second number is the number of times your first friend wins, and the last number is the number of times your second friend wins.\n",
    "\n",
    "Your function should show this plot and return the list `win_total`."
   ]
  },
  {
   "cell_type": "code",
   "execution_count": null,
   "metadata": {},
   "outputs": [],
   "source": [
    "def simulate(num_rounds):\n",
    "    win_total = [0, 0, 0]\n",
    "    \n",
    "    # simulate rounds and create the pie chart here\n",
    "    \n",
    "    \n",
    "    return win_total"
   ]
  },
  {
   "cell_type": "code",
   "execution_count": null,
   "metadata": {},
   "outputs": [],
   "source": [
    "rand.seed(11)\n",
    "simulate(100)  # [29, 32, 39], pie chart percentages are 29.00, 32.00, and 39.00"
   ]
  },
  {
   "cell_type": "code",
   "execution_count": null,
   "metadata": {},
   "outputs": [],
   "source": [
    "rand.seed(2021)\n",
    "simulate(1000)  # [252, 345, 403], pie chart percentages are 25.20, 34.50, and 40.30"
   ]
  },
  {
   "cell_type": "markdown",
   "metadata": {},
   "source": [
    "Is the game fair? "
   ]
  },
  {
   "cell_type": "markdown",
   "metadata": {},
   "source": [
    "Write a script now which calculates the probabilities for each possible score (from 1 up to 8). \n",
    "Can you use this to devise a scoring system for a fair game?\n",
    "Check your work by simulating some rounds with your scoring system."
   ]
  },
  {
   "cell_type": "code",
   "execution_count": null,
   "metadata": {},
   "outputs": [],
   "source": [
    "# write the script here\n",
    "\n"
   ]
  },
  {
   "cell_type": "markdown",
   "metadata": {},
   "source": [
    "We want each player to have a probabilities of 0.33. \n",
    "So, a fair system is when \n",
    "  * You win if the total 3 or 4,\n",
    "  * Your first friend wins if the total is 5 or 6,\n",
    "  * Your second friend wins if the total is 1, 2, 7, or 8"
   ]
  },
  {
   "cell_type": "code",
   "execution_count": null,
   "metadata": {},
   "outputs": [],
   "source": [
    "def check_fair():\n",
    "    \n",
    "    "
   ]
  },
  {
   "cell_type": "markdown",
   "metadata": {},
   "source": [
    "Use your simulate function (modify it here if needbe) to check over multiple rounds:"
   ]
  },
  {
   "cell_type": "code",
   "execution_count": null,
   "metadata": {},
   "outputs": [],
   "source": [
    "def simulate(num_rounds):\n",
    "    \n",
    "    "
   ]
  },
  {
   "cell_type": "code",
   "execution_count": null,
   "metadata": {},
   "outputs": [],
   "source": [
    "rand.seed(1234)\n",
    "simulate(1000)  # [333, 338, 329], pie chart percentages are 33.30, 33.80, and 32.90"
   ]
  },
  {
   "cell_type": "code",
   "execution_count": null,
   "metadata": {},
   "outputs": [],
   "source": [
    "rand.seed(33)\n",
    "simulate(10000)  # [3393, 3329, 3278], pie chart percentages are 33.93, 33.29, and 33.78"
   ]
  }
 ],
 "metadata": {
  "kernelspec": {
   "display_name": "Python 3",
   "language": "python",
   "name": "python3"
  },
  "language_info": {
   "codemirror_mode": {
    "name": "ipython",
    "version": 3
   },
   "file_extension": ".py",
   "mimetype": "text/x-python",
   "name": "python",
   "nbconvert_exporter": "python",
   "pygments_lexer": "ipython3",
   "version": "3.7.7"
  }
 },
 "nbformat": 4,
 "nbformat_minor": 4
}
