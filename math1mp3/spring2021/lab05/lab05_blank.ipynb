{
 "cells": [
  {
   "cell_type": "markdown",
   "metadata": {},
   "source": [
    "# Lab 5: Wednesday, May 19"
   ]
  },
  {
   "cell_type": "markdown",
   "metadata": {},
   "source": [
    "Topics:\n",
    "  * Floating point numbers,\n",
    "  * Working with matrices,\n",
    "    * Determinants,\n",
    "    * Trace,\n",
    "    * Eigenvalues.\n",
    "\n",
    "As a note: some of the functions here have docstrings.\n",
    "These are partially filled and listed for more information.\n",
    "However, keep in mind that they are *partially filled*, and should not be used as reference for what model docstrings should look like."
   ]
  },
  {
   "cell_type": "markdown",
   "metadata": {},
   "source": [
    "## Questions?"
   ]
  },
  {
   "cell_type": "markdown",
   "metadata": {},
   "source": [
    "## 1. Floating Point Functions\n",
    "\n",
    "This question is about exploring how two seemingly identical functions can give different answers due to the nature of floating point numbers.\n",
    "\n",
    "The function `fct1` takes a number `x` and returns the value of $f(x)$, where $$ f(x) = \\sqrt{x+1} - \\sqrt{x}. $$\n",
    "Write a function `fct2` which takes a number `x` and also returns the value of $f(x)$, however,  you should use a different (but analytically equivalent) method of computing $f(x)$.\n",
    "\n",
    "Hint: multiply $f$ by its conjugate. That is, multiply $f$ by $\\frac{\\sqrt{x+1} + \\sqrt{x}}{\\sqrt{x+1}+\\sqrt{x}}$.\n",
    "(You will need to work out what the resulting function is by hand before implementing it in python. You should simplify $f$ before implementing it.)"
   ]
  },
  {
   "cell_type": "code",
   "execution_count": null,
   "metadata": {},
   "outputs": [],
   "source": [
    "from math import sqrt\n",
    "\n",
    "def fct1(x):\n",
    "    # f(x) = sqrt(x+1) - sqrt(x)'\n",
    "    a = sqrt(x+1)\n",
    "    b = sqrt(x)\n",
    "    \n",
    "    return a-b\n",
    "\n",
    "\n",
    "def fct2(x):  # complete the second function"
   ]
  },
  {
   "cell_type": "markdown",
   "metadata": {},
   "source": [
    "We'll now iterate over various powers of 10 for the values of `x`. \n",
    "What do you notice about the values of each function and the differences for $x = 10^i$ when $i \\ge 16$?"
   ]
  },
  {
   "cell_type": "code",
   "execution_count": null,
   "metadata": {},
   "outputs": [],
   "source": [
    "for i in range(20):\n",
    "    \n",
    "    x = 10**i  # calculate x and find f(x)\n",
    "    fct1_x = fct1(x)  \n",
    "    fct2_x = fct2(x)\n",
    "    \n",
    "    # print the results\n",
    "    print(f'i = {i}, x = {x}')\n",
    "    print(f'fct1({x}) = {fct1_x}')\n",
    "    print(f'fct2({x}) = {fct2_x}')\n",
    "    print('Difference:', abs(fct1_x - fct2_x), end='\\n\\n')"
   ]
  },
  {
   "cell_type": "markdown",
   "metadata": {},
   "source": [
    "## 2. Eigenvalues\n",
    "\n",
    "This exercise relates to the _eigenvalues_ of a matrix.\n",
    "Throughout, let $A$ denote a $2\\times 2$ matrix, $$ A = \\begin{pmatrix} a & b \\\\ c & d \\end{pmatrix}. $$\n",
    "\n",
    "The _trace_ of $A$, denoted $\\text{tr}(A)$ is the sum of the diagonal entries: $\\text{tr}(A) = a + d$.\n",
    "The _determinant_ of $A$, denoted $\\det(A)$ is given by $\\det(A) = ad - bc$.\n",
    "\n",
    "\n",
    "A $2 \\times 2$ matrix will have 2 eigenvalues, denoted $\\lambda_1$ and $\\lambda_2$.\n",
    "These eigenvalues satisfy the following properties relating to the trace and determinant, $$\\text{trace}(A) = \\lambda_1 + \\lambda_2, \\quad \\det(A) = \\lambda_1\\lambda_2. $$\n",
    "\n",
    "The goal of this exercise is to write a function which calculates the eigenvalues using these two equations.\n",
    "First, however, we must write a function which calculates the factors of a number.\n",
    "In practice, this number (the determinant) may be any integer, but here we'll assume that the determinant, the trace, and `num` are all strictly positive.\n",
    "\n",
    "Note the explanation and the examples in the docstring."
   ]
  },
  {
   "cell_type": "code",
   "execution_count": null,
   "metadata": {},
   "outputs": [],
   "source": [
    "def factor(num):\n",
    "    '''\n",
    "    Computes a list of all the factors of `num`, a nonnegative number.\n",
    "    Returns a list of lists: each inner list is a pair of numbers.\n",
    "    If num is a perfect square, its perfect square factor should be included twice.\n",
    "    \n",
    "    Examples\n",
    "    --------\n",
    "    >>> factor(12)\n",
    "    [[1,12], [2,6], [3,4]]\n",
    "    \n",
    "    >>> factor(49)\n",
    "    [[1,49], [7,7]]\n",
    "    '''"
   ]
  },
  {
   "cell_type": "code",
   "execution_count": null,
   "metadata": {},
   "outputs": [],
   "source": [
    "print(factor(1))  # [[1, 1]]\n",
    "print(factor(63))  # [[1, 63], [3, 21], [7, 9]]\n",
    "print(factor(2))  # [[1, 2]]"
   ]
  },
  {
   "cell_type": "markdown",
   "metadata": {},
   "source": [
    "We'll now denote by `det` and `tr` the determinant and the trace of $A$, respectively.\n",
    "Write a function `find_eigenvalues()` which takes as input these two numbers and calculates the eigenvalues of $A$.\n",
    "You may assume that `det` and `tr` are nonnegative.\n",
    "\n",
    "Hint: Use the function you've just written, `factor()`. How can you use its output?"
   ]
  },
  {
   "cell_type": "code",
   "execution_count": null,
   "metadata": {},
   "outputs": [],
   "source": [
    "def find_eigenvalues(det, tr):\n",
    "    '''\n",
    "    Returns a list of length 2 containing the eigenvalues corresponding to\n",
    "    a matrix with determinant `det` and trace `tr`.\n",
    "    '''"
   ]
  },
  {
   "cell_type": "code",
   "execution_count": null,
   "metadata": {},
   "outputs": [],
   "source": [
    "print(find_eigenvalues(1, 2))  # [1, 1]\n",
    "print(find_eigenvalues(63, 16))  # [7, 9]\n",
    "print(find_eigenvalues(2, 3))  # [1, 2]"
   ]
  },
  {
   "cell_type": "code",
   "execution_count": null,
   "metadata": {},
   "outputs": [],
   "source": [
    "def eig(A):"
   ]
  },
  {
   "cell_type": "markdown",
   "metadata": {},
   "source": [
    "Here are some matrices to use:\n",
    "\n",
    "$$I = \\begin{pmatrix} 1 & 0 \\\\ 0 & 1 \\end{pmatrix}, \\quad\n",
    "A = \\begin{pmatrix} 7 & -6 \\\\ 0 & 9 \\end{pmatrix}, \\quad\n",
    "B = \\begin{pmatrix} 7 & -5 \\\\ 6 & -4 \\end{pmatrix} $$"
   ]
  },
  {
   "cell_type": "code",
   "execution_count": null,
   "metadata": {},
   "outputs": [],
   "source": [
    "I = [[1, 0], [0, 1]]\n",
    "A = [[7,-6], [0, 9]]\n",
    "B = [[7,-5], [6,-4]]"
   ]
  },
  {
   "cell_type": "code",
   "execution_count": null,
   "metadata": {},
   "outputs": [],
   "source": [
    "print(eig(I))  # [1, 1]\n",
    "print(eig(A))  # [7, 9]\n",
    "print(eig(B))  # [1, 2]"
   ]
  },
  {
   "cell_type": "markdown",
   "metadata": {},
   "source": [
    "## 3. Zero Determinants\n",
    "\n",
    "The goal of this exercise is to further play with floating point numbers and possible inaccuracies that may arise.\n",
    "\n",
    "For what values of $\\epsilon$ does python consider the following matrix to have determinant zero? $$ A = \\begin{pmatrix} 1 & 1+\\epsilon \\\\ 1-\\epsilon & 1 \\end{pmatrix} $$\n",
    "\n",
    "Recall that the determinant of a $2\\times 2$ matrix is given by $$ \\det \\begin{pmatrix} a & b \\\\ c & d \\end{pmatrix} = ab - cd. $$\n",
    "\n",
    "Write one function to calculate the value of $\\det(A)$ given a value of `epsilon`.\n",
    "You should then call that function for different values of `epsilon`, but this part doesn't necessarily need to be a function.\n",
    "\n",
    "Hint: use a `for` loop and iterate over powers of 10: $10^{-1}, 10^{-2}, 10^{-3}, \\ldots$, and compare the output to zero using `==`."
   ]
  },
  {
   "cell_type": "code",
   "execution_count": null,
   "metadata": {},
   "outputs": [],
   "source": [
    "def detA(epsilon):\n",
    "    '''returns determinant given epsilon'''"
   ]
  },
  {
   "cell_type": "code",
   "execution_count": null,
   "metadata": {},
   "outputs": [],
   "source": [
    "for i in range  # complete the loop (don't forget to finish the `range`)"
   ]
  },
  {
   "cell_type": "markdown",
   "metadata": {},
   "source": [
    "Repeat the above, but instead of using `==` to test whether the determinant of $A$ is zero, use [`np.isclose()`](https://numpy.org/doc/stable/reference/generated/numpy.isclose.html).\n",
    "This method takes two numbers as input, for instance `np.isclose(a, b)`, and returns `True` if the two numbers are \"sufficiently close\", which is useful for dealing with floating point numbers.\n",
    "\n",
    "In general, one can get two numbers which should theoretically be the same, but differ a little bit because of their floating point representations.\n",
    "This method, `np.isclose()`, is useful for dealing with such situations.\n",
    "\n",
    "So, use a `for` loop again, and see when `np.isclose()` says that the determinant of $A$ is \"sufficiently close\" to zero."
   ]
  },
  {
   "cell_type": "code",
   "execution_count": null,
   "metadata": {},
   "outputs": [],
   "source": [
    "import numpy as np\n",
    "\n",
    "for i in range  # complete the loop again"
   ]
  },
  {
   "cell_type": "markdown",
   "metadata": {},
   "source": [
    "## 4. Break Sum\n",
    "\n",
    "Write a function which takes as input an integer.\n",
    "The function should return `-1` if the integer is negative or if it is not of length 6.\n",
    "If the number is indeed of length 6, then it should return the sum of the first three digits and the last three digits."
   ]
  },
  {
   "cell_type": "code",
   "execution_count": null,
   "metadata": {},
   "outputs": [],
   "source": [
    "def break_sum(n):"
   ]
  },
  {
   "cell_type": "code",
   "execution_count": null,
   "metadata": {},
   "outputs": [],
   "source": [
    "print(break_sum(123456))  # should print 579\n",
    "print(break_sum(123))  # should print -1 \n",
    "print(break_sum(100000))  # should print 100"
   ]
  },
  {
   "cell_type": "code",
   "execution_count": null,
   "metadata": {},
   "outputs": [],
   "source": []
  }
 ],
 "metadata": {
  "kernelspec": {
   "display_name": "Python 3",
   "language": "python",
   "name": "python3"
  },
  "language_info": {
   "codemirror_mode": {
    "name": "ipython",
    "version": 3
   },
   "file_extension": ".py",
   "mimetype": "text/x-python",
   "name": "python",
   "nbconvert_exporter": "python",
   "pygments_lexer": "ipython3",
   "version": "3.7.7"
  }
 },
 "nbformat": 4,
 "nbformat_minor": 4
}
