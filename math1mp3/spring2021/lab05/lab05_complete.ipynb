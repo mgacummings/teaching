{
 "cells": [
  {
   "cell_type": "markdown",
   "metadata": {},
   "source": [
    "# Lab 5: Wednesday, May 19"
   ]
  },
  {
   "cell_type": "markdown",
   "metadata": {},
   "source": [
    "Reminder: next Monday is [Victoria Day](https://academiccalendars.romcmaster.ca/content.php?catoid=41&navoid=8636) and there will be no lab.\n",
    "\n",
    "Topics:\n",
    "  * Floating point numbers,\n",
    "  * Working with matrices,\n",
    "    * Determinants,\n",
    "    * Trace,\n",
    "    * Eigenvalues.\n",
    "\n",
    "As a note: some of the functions here have docstrings.\n",
    "These are partially filled and listed for more information.\n",
    "However, keep in mind that they are *partially filled*, and should not be used as reference for what model docstrings should look like."
   ]
  },
  {
   "cell_type": "markdown",
   "metadata": {},
   "source": [
    "## Questions?"
   ]
  },
  {
   "cell_type": "markdown",
   "metadata": {},
   "source": [
    "## 1. Floating Point & Functions\n",
    "\n",
    "This question is about exploring how two seemingly identical functions can give different answers due to the nature of floating point numbers.\n",
    "\n",
    "The function `fct1` takes a number `x` and returns the value of $f(x)$, where $$ f(x) = \\sqrt{x+1} - \\sqrt{x}. $$\n",
    "Write a function `fct2` which takes a number `x` and also returns the value of $f(x)$, however,  you should use a different (but analytically equivalent) method of computing $f(x)$.\n",
    "\n",
    "Hint: multiply $f$ by its conjugate. That is, multiply $f$ by $\\frac{\\sqrt{x+1} + \\sqrt{x}}{\\sqrt{x+1}+\\sqrt{x}}$.\n",
    "(You will need to work out what the resulting function is by hand before implementing it in python. You should simplify $f$ before implementing it.)"
   ]
  },
  {
   "cell_type": "code",
   "execution_count": 1,
   "metadata": {},
   "outputs": [],
   "source": [
    "from math import sqrt\n",
    "\n",
    "def fct1(x):\n",
    "    # f(x) = sqrt(x+1) - sqrt(x)'\n",
    "    a = sqrt(x+1)\n",
    "    b = sqrt(x)\n",
    "    \n",
    "    return a-b\n",
    "\n",
    "\n",
    "def fct2(x):\n",
    "    # f(x) = sqrt(x+1) - sqrt(x) = 1/(sqrt(x+1) + sqrt(x))\n",
    "    a = sqrt(x+1)\n",
    "    b = sqrt(x)\n",
    "    \n",
    "    return 1/(a + b)"
   ]
  },
  {
   "cell_type": "markdown",
   "metadata": {},
   "source": [
    "We'll now iterate over various powers of 10 for the values of `x`. \n",
    "What do you notice about the values of each function and the differences for $x = 10^i$ when $i \\ge 16$?"
   ]
  },
  {
   "cell_type": "code",
   "execution_count": 2,
   "metadata": {},
   "outputs": [
    {
     "name": "stdout",
     "output_type": "stream",
     "text": [
      "i = 0, x = 1\n",
      "fct1(1) = 0.41421356237309515\n",
      "fct2(1) = 0.4142135623730951\n",
      "Difference: 5.551115123125783e-17\n",
      "\n",
      "i = 1, x = 10\n",
      "fct1(10) = 0.1543471301870203\n",
      "fct2(10) = 0.1543471301870205\n",
      "Difference: 2.220446049250313e-16\n",
      "\n",
      "i = 2, x = 100\n",
      "fct1(100) = 0.049875621120889946\n",
      "fct2(100) = 0.04987562112089027\n",
      "Difference: 3.2612801348363973e-16\n",
      "\n",
      "i = 3, x = 1000\n",
      "fct1(1000) = 0.015807437428957627\n",
      "fct2(1000) = 0.015807437428955823\n",
      "Difference: 1.8041124150158794e-15\n",
      "\n",
      "i = 4, x = 10000\n",
      "fct1(10000) = 0.004999875006248544\n",
      "fct2(10000) = 0.004999875006249609\n",
      "Difference: 1.0651202142497596e-15\n",
      "\n",
      "i = 5, x = 100000\n",
      "fct1(100000) = 0.001581134877255863\n",
      "fct2(100000) = 0.0015811348772568783\n",
      "Difference: 1.0152469143154264e-15\n",
      "\n",
      "i = 6, x = 1000000\n",
      "fct1(1000000) = 0.0004999998750463419\n",
      "fct2(1000000) = 0.0004999998750000625\n",
      "Difference: 4.6279386572978254e-14\n",
      "\n",
      "i = 7, x = 10000000\n",
      "fct1(10000000) = 0.00015811387902431306\n",
      "fct2(10000000) = 0.00015811387905557208\n",
      "Difference: 3.125901230568995e-14\n",
      "\n",
      "i = 8, x = 100000000\n",
      "fct1(100000000) = 5.000000055588316e-05\n",
      "fct2(100000000) = 4.9999999874999996e-05\n",
      "Difference: 6.808831656043152e-13\n",
      "\n",
      "i = 9, x = 1000000000\n",
      "fct1(1000000000) = 1.5811390767339617e-05\n",
      "fct2(1000000000) = 1.581138829688905e-05\n",
      "Difference: 2.470450568019169e-12\n",
      "\n",
      "i = 10, x = 10000000000\n",
      "fct1(10000000000) = 4.999994416721165e-06\n",
      "fct2(10000000000) = 4.999999999875e-06\n",
      "Difference: 5.583153835188651e-12\n",
      "\n",
      "i = 11, x = 100000000000\n",
      "fct1(100000000000) = 1.5811529010534286e-06\n",
      "fct2(100000000000) = 1.581138830080237e-06\n",
      "Difference: 1.4070973191733586e-11\n",
      "\n",
      "i = 12, x = 1000000000000\n",
      "fct1(1000000000000) = 5.00003807246685e-07\n",
      "fct2(1000000000000) = 4.999999999998749e-07\n",
      "Difference: 3.807246810093941e-12\n",
      "\n",
      "i = 13, x = 10000000000000\n",
      "fct1(10000000000000) = 1.578591763973236e-07\n",
      "fct2(10000000000000) = 1.58113883008415e-07\n",
      "Difference: 2.547066110913807e-10\n",
      "\n",
      "i = 14, x = 100000000000000\n",
      "fct1(100000000000000) = 5.029141902923584e-08\n",
      "fct2(100000000000000) = 4.999999999999987e-08\n",
      "Difference: 2.9141902923596784e-10\n",
      "\n",
      "i = 15, x = 1000000000000000\n",
      "fct1(1000000000000000) = 1.862645149230957e-08\n",
      "fct2(1000000000000000) = 1.5811388300841893e-08\n",
      "Difference: 2.8150631914676777e-09\n",
      "\n",
      "i = 16, x = 10000000000000000\n",
      "fct1(10000000000000000) = 0.0\n",
      "fct2(10000000000000000) = 5e-09\n",
      "Difference: 5e-09\n",
      "\n",
      "i = 17, x = 100000000000000000\n",
      "fct1(100000000000000000) = 0.0\n",
      "fct2(100000000000000000) = 1.5811388300841896e-09\n",
      "Difference: 1.5811388300841896e-09\n",
      "\n",
      "i = 18, x = 1000000000000000000\n",
      "fct1(1000000000000000000) = 0.0\n",
      "fct2(1000000000000000000) = 5e-10\n",
      "Difference: 5e-10\n",
      "\n",
      "i = 19, x = 10000000000000000000\n",
      "fct1(10000000000000000000) = 0.0\n",
      "fct2(10000000000000000000) = 1.5811388300841898e-10\n",
      "Difference: 1.5811388300841898e-10\n",
      "\n"
     ]
    }
   ],
   "source": [
    "for i in range(20):\n",
    "    x = 10**i\n",
    "    fct1_x = fct1(x)\n",
    "    fct2_x = fct2(x)\n",
    "    print(f'i = {i}, x = {x}')\n",
    "    print(f'fct1({x}) = {fct1_x}')\n",
    "    print(f'fct2({x}) = {fct2_x}')\n",
    "    print('Difference:', abs(fct1_x - fct2_x), end='\\n\\n')"
   ]
  },
  {
   "cell_type": "markdown",
   "metadata": {},
   "source": [
    "## 2. Eigenvalues\n",
    "\n",
    "This exercise relates to the _eigenvalues_ of a matrix.\n",
    "Throughout, let $A$ denote a $2\\times 2$ matrix, $$ A = \\begin{pmatrix} a & b \\\\ c & d \\end{pmatrix}. $$\n",
    "\n",
    "The _trace_ of $A$, denoted $\\text{tr}(A)$ is the sum of the diagonal entries: $\\text{tr}(A) = a + d$.\n",
    "The _determinant_ of $A$, denoted $\\det(A)$ is given by $\\det(A) = ad - bc$.\n",
    "\n",
    "\n",
    "A $2 \\times 2$ matrix will have 2 eigenvalues, denoted $\\lambda_1$ and $\\lambda_2$.\n",
    "These eigenvalues satisfy the following properties relating to the trace and determinant, $$\\text{trace}(A) = \\lambda_1 + \\lambda_2, \\quad \\det(A) = \\lambda_1\\lambda_2. $$\n",
    "\n",
    "The goal of this exercise is to write a function which calculates the eigenvalues using these two equations.\n",
    "First, however, we must write a function which calculates the factors of a number.\n",
    "In practice, this number (the determinant) may be any integer, but here we'll assume that the determinant, the trace, and `num` are all strictly positive.\n",
    "\n",
    "Note the explanation and the examples in the docstring."
   ]
  },
  {
   "cell_type": "code",
   "execution_count": 3,
   "metadata": {},
   "outputs": [],
   "source": [
    "def factor(num):\n",
    "    '''\n",
    "    Computes a list of all the factors of `num`, a nonnegative number.\n",
    "    Returns a list of lists: each inner list is a pair of numbers.\n",
    "    If num is a perfect square, its perfect square factor should be included twice.\n",
    "    \n",
    "    Examples\n",
    "    --------\n",
    "    >>> factor(12)\n",
    "    [[1,12], [2,6], [3,4]]\n",
    "    \n",
    "    >>> factor(49)\n",
    "    [[1,49], [7,7]]\n",
    "    '''\n",
    "    \n",
    "    i = 1\n",
    "    factor_list = []\n",
    "    \n",
    "    while i**2 <= num:\n",
    "        if num % i == 0:\n",
    "            factor_list.append([i, int(num/i)])\n",
    "        i += 1\n",
    "        \n",
    "    return factor_list"
   ]
  },
  {
   "cell_type": "code",
   "execution_count": 4,
   "metadata": {},
   "outputs": [
    {
     "name": "stdout",
     "output_type": "stream",
     "text": [
      "[[1, 1]]\n",
      "[[1, 63], [3, 21], [7, 9]]\n",
      "[[1, 2]]\n"
     ]
    }
   ],
   "source": [
    "print(factor(1))  # [[1, 1]]\n",
    "print(factor(63))  # [[1, 63], [3, 21], [7, 9]]\n",
    "print(factor(2))  # [[1, 2]]"
   ]
  },
  {
   "cell_type": "markdown",
   "metadata": {},
   "source": [
    "We'll now denote by `det` and `tr` the determinant and the trace of $A$, respectively.\n",
    "Write a function `find_eigenvalues()` which takes as input these two numbers and calculates the eigenvalues of $A$.\n",
    "You may assume that `det` and `tr` are nonnegative.\n",
    "\n",
    "Hint: Use the function you've just written, `factor()`. How can you use its output?"
   ]
  },
  {
   "cell_type": "code",
   "execution_count": 5,
   "metadata": {},
   "outputs": [],
   "source": [
    "def find_eigenvalues(det, tr):\n",
    "    '''\n",
    "    Returns a list of length 2 containing the eigenvalues corresponding to\n",
    "    a matrix with determinant `det` and trace `tr`.\n",
    "    '''\n",
    "    \n",
    "    det_factors = factor(det)\n",
    "    \n",
    "    for factor_pair in det_factors:\n",
    "        if sum(factor_pair) == tr:\n",
    "            return factor_pair"
   ]
  },
  {
   "cell_type": "code",
   "execution_count": 6,
   "metadata": {},
   "outputs": [
    {
     "name": "stdout",
     "output_type": "stream",
     "text": [
      "[1, 1]\n",
      "[7, 9]\n",
      "[1, 2]\n"
     ]
    }
   ],
   "source": [
    "print(find_eigenvalues(1, 2))  # [1, 1]\n",
    "print(find_eigenvalues(63, 16))  # [7, 9]\n",
    "print(find_eigenvalues(2, 3))  # [1, 2]"
   ]
  },
  {
   "cell_type": "markdown",
   "metadata": {},
   "source": [
    "Write a function which now takes a matrix and uses the previous function to calculate its eigenvalues."
   ]
  },
  {
   "cell_type": "code",
   "execution_count": 7,
   "metadata": {},
   "outputs": [],
   "source": [
    "def eig(A):\n",
    "\n",
    "    a, b = A[0]\n",
    "    c, d = A[1]\n",
    "    \n",
    "    determinant = a*d - b*c\n",
    "    trace = a+d\n",
    "    \n",
    "    return find_eigenvalues(determinant, trace)"
   ]
  },
  {
   "cell_type": "markdown",
   "metadata": {},
   "source": [
    "Here are some matrices to use:\n",
    "\n",
    "$$I = \\begin{pmatrix} 1 & 0 \\\\ 0 & 1 \\end{pmatrix}, \\quad\n",
    "A = \\begin{pmatrix} 7 & -6 \\\\ 0 & 9 \\end{pmatrix}, \\quad\n",
    "B = \\begin{pmatrix} 7 & -5 \\\\ 6 & -4 \\end{pmatrix} $$"
   ]
  },
  {
   "cell_type": "code",
   "execution_count": 8,
   "metadata": {},
   "outputs": [],
   "source": [
    "I = [[1, 0], [0, 1]]\n",
    "A = [[7,-6], [0, 9]]\n",
    "B = [[7,-5], [6,-4]]"
   ]
  },
  {
   "cell_type": "code",
   "execution_count": 9,
   "metadata": {},
   "outputs": [
    {
     "name": "stdout",
     "output_type": "stream",
     "text": [
      "[1, 1]\n",
      "[7, 9]\n",
      "[1, 2]\n"
     ]
    }
   ],
   "source": [
    "print(eig(I))  # [1, 1]\n",
    "print(eig(A))  # [7, 9]\n",
    "print(eig(B))  # [1, 2]"
   ]
  },
  {
   "cell_type": "markdown",
   "metadata": {},
   "source": [
    "## 3. Zero Determinants\n",
    "\n",
    "The goal of this exercise is to further play with floating point numbers and possible inaccuracies that may arise.\n",
    "\n",
    "For what values of $\\epsilon$ does python consider the following matrix to have determinant zero? $$ A = \\begin{pmatrix} 1 & 1+\\epsilon \\\\ 1-\\epsilon & 1 \\end{pmatrix} $$\n",
    "\n",
    "Recall that the determinant of a $2\\times 2$ matrix is given by $$ \\det \\begin{pmatrix} a & b \\\\ c & d \\end{pmatrix} = ab - cd. $$\n",
    "\n",
    "Write one function to calculate the value of $\\det(A)$ given a value of `epsilon`.\n",
    "You should then call that function for different values of `epsilon`, but this part doesn't necessarily need to be a function.\n",
    "\n",
    "Hint: use a `for` loop and iterate over powers of 10: $10^{-1}, 10^{-2}, 10^{-3}, \\ldots$, and compare the output to zero using `==`."
   ]
  },
  {
   "cell_type": "code",
   "execution_count": 10,
   "metadata": {},
   "outputs": [],
   "source": [
    "def detA(epsilon):\n",
    "    # determinant = 1 - (1+epsilon)(1-epsilon) = epsilon^2\n",
    "    return epsilon**2"
   ]
  },
  {
   "cell_type": "code",
   "execution_count": 11,
   "metadata": {},
   "outputs": [
    {
     "name": "stdout",
     "output_type": "stream",
     "text": [
      "det(A) == 0 when epsilon <= 1e-162\n"
     ]
    }
   ],
   "source": [
    "for i in range(1,1000):\n",
    "    eps = 10**(-i)\n",
    "    det = detA(eps)\n",
    "    \n",
    "    if det == 0:\n",
    "        print('det(A) == 0 when epsilon <=', eps)\n",
    "        break"
   ]
  },
  {
   "cell_type": "markdown",
   "metadata": {},
   "source": [
    "Repeat the above, but instead of using `==` to test whether the determinant of $A$ is zero, use [`np.isclose()`](https://numpy.org/doc/stable/reference/generated/numpy.isclose.html).\n",
    "This method takes two numbers as input, for instance `np.isclose(a, b)`, and returns `True` if the two numbers are \"sufficiently close\", which is useful for dealing with floating point numbers.\n",
    "\n",
    "In general, one can get two numbers which should theoretically be the same, but differ a little bit because of their floating point representations.\n",
    "This method, `np.isclose()`, is useful for dealing with such situations.\n",
    "\n",
    "So, use a `for` loop again, and see when `np.isclose()` says that the determinant of $A$ is \"sufficiently close\" to zero."
   ]
  },
  {
   "cell_type": "code",
   "execution_count": 12,
   "metadata": {},
   "outputs": [
    {
     "name": "stdout",
     "output_type": "stream",
     "text": [
      "det(A) ~= 0 when epsilon <= 0.0001\n"
     ]
    }
   ],
   "source": [
    "import numpy as np\n",
    "\n",
    "for i in range(1,1000):\n",
    "    eps = 10**(-i)\n",
    "    det = detA(eps)\n",
    "    \n",
    "    if np.isclose(0, det):\n",
    "        print('det(A) ~= 0 when epsilon <=', eps)\n",
    "        break"
   ]
  },
  {
   "cell_type": "markdown",
   "metadata": {},
   "source": [
    "## 4. Break Sum\n",
    "\n",
    "Write a function which takes as input an integer.\n",
    "The function should return `-1` if the integer is negative or if it is not of length 6.\n",
    "If the number is indeed of length 6, then it should return the sum of the first three digits and the last three digits."
   ]
  },
  {
   "cell_type": "code",
   "execution_count": 13,
   "metadata": {},
   "outputs": [],
   "source": [
    "def break_sum(n):\n",
    "    n_str = str(n)\n",
    "    if n < 0 or len(n_str) != 6:\n",
    "        return -1\n",
    "    return int(n_str[0:3]) + int(n_str[3:])"
   ]
  },
  {
   "cell_type": "code",
   "execution_count": 14,
   "metadata": {},
   "outputs": [
    {
     "name": "stdout",
     "output_type": "stream",
     "text": [
      "579\n",
      "-1\n",
      "100\n"
     ]
    }
   ],
   "source": [
    "print(break_sum(123456))  # should print 579\n",
    "print(break_sum(123))  # should print -1 \n",
    "print(break_sum(100000))  # should print 100"
   ]
  },
  {
   "cell_type": "code",
   "execution_count": null,
   "metadata": {},
   "outputs": [],
   "source": []
  }
 ],
 "metadata": {
  "kernelspec": {
   "display_name": "Python 3",
   "language": "python",
   "name": "python3"
  },
  "language_info": {
   "codemirror_mode": {
    "name": "ipython",
    "version": 3
   },
   "file_extension": ".py",
   "mimetype": "text/x-python",
   "name": "python",
   "nbconvert_exporter": "python",
   "pygments_lexer": "ipython3",
   "version": "3.7.7"
  }
 },
 "nbformat": 4,
 "nbformat_minor": 4
}
