{
 "cells": [
  {
   "cell_type": "markdown",
   "metadata": {},
   "source": [
    "# Lab 11: Monday, June 14"
   ]
  },
  {
   "cell_type": "markdown",
   "metadata": {},
   "source": [
    "[Course evaluations](https://evals.mcmaster.ca/login.php) opened today, and close Friday, June 18.\n",
    "\n",
    "Reminder that today is the last lab. \n",
    "In particular, there will be no lab on Wednesday before the exam.\n",
    "\n",
    "Today's lab is general review."
   ]
  },
  {
   "cell_type": "markdown",
   "metadata": {},
   "source": [
    "## Questions?"
   ]
  },
  {
   "cell_type": "markdown",
   "metadata": {},
   "source": [
    "## Missing Number\n",
    "\n",
    "Write a function whose parameter is a list which is supposed to contain a range of numbers, except one of the numbers is missing.\n",
    "For instance, `[1, 2, 4, 5]` or `[1, 2, 3, 4, 5, 6, 7, 9, 10]`. \n",
    "\n",
    "Write a function `missing_number` which returns the missing number from such a list.\n",
    "You can assume that the list will always start at `1` and that the endpoints (1 and the maximum) are always included.\n",
    "If there's no number missing, return `None`.\n",
    "\n",
    "Do this two ways: once using a loop and once using sets."
   ]
  },
  {
   "cell_type": "code",
   "execution_count": 1,
   "metadata": {},
   "outputs": [],
   "source": [
    "def missing_number_loop(nums):\n",
    "    # using a for loop\n",
    "    \n",
    "    for i in range(1, nums[-1]+1):\n",
    "        if nums[i-1] != i:\n",
    "            return i"
   ]
  },
  {
   "cell_type": "code",
   "execution_count": 2,
   "metadata": {},
   "outputs": [
    {
     "name": "stdout",
     "output_type": "stream",
     "text": [
      "3\n",
      "8\n",
      "None\n"
     ]
    }
   ],
   "source": [
    "print(missing_number_loop([1,2,4,5]))  # 3\n",
    "print(missing_number_loop([1,2,3,4,5,6,7,9,10]))  # 8\n",
    "print(missing_number_loop([1,2,3,4,5]))  # None"
   ]
  },
  {
   "cell_type": "code",
   "execution_count": 3,
   "metadata": {},
   "outputs": [],
   "source": [
    "def missing_number_sets(nums):\n",
    "    # using sets\n",
    "    \n",
    "    # create a set of all the numbers in the full range\n",
    "    all_nums = set([i for i in range(1, nums[-1]+1)])\n",
    "    our_nums = set(nums)\n",
    "    \n",
    "    missing = all_nums.difference(our_nums)\n",
    "    \n",
    "    if missing == set():\n",
    "        return None\n",
    "    else:\n",
    "        return int(missing.pop())"
   ]
  },
  {
   "cell_type": "code",
   "execution_count": 4,
   "metadata": {},
   "outputs": [
    {
     "name": "stdout",
     "output_type": "stream",
     "text": [
      "3\n",
      "8\n",
      "None\n"
     ]
    }
   ],
   "source": [
    "print(missing_number_sets([1,2,4,5]))  # 3\n",
    "print(missing_number_sets([1,2,3,4,5,6,7,9,10]))  # 8\n",
    "print(missing_number_sets([1,2,3,4,5]))  # None"
   ]
  },
  {
   "cell_type": "markdown",
   "metadata": {},
   "source": [
    "## Clock\n",
    "\n",
    "Write a function which converts between different methods of telling time.\n",
    "Its input should be a string such as `'quarter to twelve'` or `'half past one'`, and you should return `'11:45'` or `'1:30'`, respectively.\n",
    "\n",
    "The input will be of the form `[interval] [to/past] [hour]`, unless the time is on the hour, in which case the input will be of the form `\"[hour] o'clock\"`.\n",
    "You may assume that the time will always be a multiple of five.\n",
    "\n",
    "You may assume that the input will be as you'd expect (the input won't be `'thirty-five past one'`, it would be `'twenty-five to two'`) and that all times will be on a twelve-hour clock (no 14:00, etc)."
   ]
  },
  {
   "cell_type": "code",
   "execution_count": 5,
   "metadata": {},
   "outputs": [],
   "source": [
    "def clock(time):\n",
    "    intervals = {\n",
    "        'five': 5,\n",
    "        'ten': 10,\n",
    "        'quarter': 15,\n",
    "        'twenty': 20,\n",
    "        'twenty-five': 25,\n",
    "        'half': 30\n",
    "    }\n",
    "    \n",
    "    hours = {\n",
    "        'one': 1,\n",
    "        'two': 2,\n",
    "        'three': 3,\n",
    "        'four': 4,\n",
    "        'five': 5,\n",
    "        'six': 6,\n",
    "        'seven': 7,\n",
    "        'eight': 8,\n",
    "        'nine': 9,\n",
    "        'ten': 10,\n",
    "        'eleven': 11,\n",
    "        'twleve': 12\n",
    "    }\n",
    "    \n",
    "    if \"o'clock\" in time:  # then we're on the hour\n",
    "        hour, interval = time.split()\n",
    "        return str(hours[hour]) + ':00'\n",
    "    \n",
    "    interval, to_past, hour = time.split()\n",
    "    \n",
    "    if to_past == 'past':\n",
    "        num_hour = hours[hour]\n",
    "        minutes = intervals[interval]\n",
    "    \n",
    "    else:  # to_past == 'to'\n",
    "        num_hour = hours[hour] - 1\n",
    "        minutes = 60 - intervals[interval]\n",
    "        \n",
    "    if num_hour == 0:  # because 1-1 = 0 from two lines ago\n",
    "        num_hour = 12\n",
    "    \n",
    "    output = str(num_hour) + ':' + str(minutes)\n",
    "    return output"
   ]
  },
  {
   "cell_type": "code",
   "execution_count": 6,
   "metadata": {},
   "outputs": [
    {
     "name": "stdout",
     "output_type": "stream",
     "text": [
      "2:25\n",
      "11:00\n",
      "12:45\n"
     ]
    }
   ],
   "source": [
    "print(clock('twenty-five past two'))  # 2:25\n",
    "print(clock(\"eleven o'clock\"))  # 11:00\n",
    "print(clock('quarter to one'))  # 12:45"
   ]
  },
  {
   "cell_type": "markdown",
   "metadata": {},
   "source": [
    "## Creating a Matrix\n",
    "\n",
    "This is Prof. Lovric's question 116.\n",
    "\n",
    "Write a function `eye_modified(n,a,b)` which returns an $n \\times n$ matrix $M$ whose entries are given by $$M_{ij} = \\begin{cases} a & i=j, \\\\ b & i\\neq j. \\end{cases}$$\n",
    "\n",
    "Do this once using lists and once using numpy arrays/matrices."
   ]
  },
  {
   "cell_type": "code",
   "execution_count": 7,
   "metadata": {},
   "outputs": [],
   "source": [
    "def eye_modified_lists(n, a, b):\n",
    "    M = []\n",
    "    \n",
    "    for i in range(n):\n",
    "        this_row = []\n",
    "        \n",
    "        for j in range(n):\n",
    "            if i == j:\n",
    "                this_entry = a\n",
    "            else:\n",
    "                this_entry = b\n",
    "            this_row.append(this_entry)\n",
    "        \n",
    "        M.append(this_row)\n",
    "        \n",
    "    return M"
   ]
  },
  {
   "cell_type": "code",
   "execution_count": 8,
   "metadata": {},
   "outputs": [
    {
     "name": "stdout",
     "output_type": "stream",
     "text": [
      "[[1, 0, 0], [0, 1, 0], [0, 0, 1]]\n",
      "[[11, 1, 1, 1, 1], [1, 11, 1, 1, 1], [1, 1, 11, 1, 1], [1, 1, 1, 11, 1], [1, 1, 1, 1, 11]]\n",
      "[[0, 1], [1, 0]]\n"
     ]
    }
   ],
   "source": [
    "print(eye_modified_lists(3,1,0))  # [[1,0,0], [0,1,0], [0,0,1]]\n",
    "print(eye_modified_lists(5,11,1))  # [[11, 1, 1, 1, 1], [1, 11, 1, 1, 1], [1, 1, 11, 1, 1], [1, 1, 1, 11, 1], [1, 1, 1, 1, 11]]\n",
    "print(eye_modified_lists(2,0,1))  # [[0,1], [1,0]]"
   ]
  },
  {
   "cell_type": "code",
   "execution_count": 9,
   "metadata": {},
   "outputs": [],
   "source": [
    "def eye_modified_list_comp(n, a, b):\n",
    "    return [[a if i==j else b for j in range(n)] for i in range(n)]"
   ]
  },
  {
   "cell_type": "code",
   "execution_count": 10,
   "metadata": {},
   "outputs": [
    {
     "name": "stdout",
     "output_type": "stream",
     "text": [
      "[[1, 0, 0], [0, 1, 0], [0, 0, 1]]\n",
      "[[11, 1, 1, 1, 1], [1, 11, 1, 1, 1], [1, 1, 11, 1, 1], [1, 1, 1, 11, 1], [1, 1, 1, 1, 11]]\n",
      "[[0, 1], [1, 0]]\n"
     ]
    }
   ],
   "source": [
    "print(eye_modified_list_comp(3,1,0))  # [[1,0,0], [0,1,0], [0,0,1]]\n",
    "print(eye_modified_list_comp(5,11,1))  # [[11, 1, 1, 1, 1], [1, 11, 1, 1, 1], [1, 1, 11, 1, 1], [1, 1, 1, 11, 1], [1, 1, 1, 1, 11]]\n",
    "print(eye_modified_list_comp(2,0,1))  # [[0,1], [1,0]]"
   ]
  },
  {
   "cell_type": "code",
   "execution_count": 11,
   "metadata": {},
   "outputs": [],
   "source": [
    "import numpy as np\n",
    "\n",
    "def eye_modified_numpy(n, a, b):\n",
    "    M_diag = np.diag((a-b) * np.ones(n))  # i==j on the diagonal\n",
    "    # need to subtrace b to compensate for:\n",
    "    B_matrix = b * np.ones((n,n))\n",
    "    return M_diag + B_matrix"
   ]
  },
  {
   "cell_type": "code",
   "execution_count": 12,
   "metadata": {},
   "outputs": [
    {
     "name": "stdout",
     "output_type": "stream",
     "text": [
      "[[1. 0. 0.]\n",
      " [0. 1. 0.]\n",
      " [0. 0. 1.]]\n",
      "[[11.  1.  1.  1.  1.]\n",
      " [ 1. 11.  1.  1.  1.]\n",
      " [ 1.  1. 11.  1.  1.]\n",
      " [ 1.  1.  1. 11.  1.]\n",
      " [ 1.  1.  1.  1. 11.]]\n",
      "[[0. 1.]\n",
      " [1. 0.]]\n"
     ]
    }
   ],
   "source": [
    "print(eye_modified_numpy(3,1,0))\n",
    "print(eye_modified_numpy(5,11,1))\n",
    "print(eye_modified_numpy(2,0,1))  # same expected output as above"
   ]
  },
  {
   "cell_type": "markdown",
   "metadata": {},
   "source": [
    "## Magic Squares\n",
    "\n",
    "A **magic square** is an $n \\times n$ matrix whose row sums, column sums, and diagonal sums are all equal.\n",
    "(The diagonal sums are the sums of both the main diagonal, and the **anti-diagonal**, going from the top-right to bottom-left.)\n",
    "\n",
    "Write a function which returns `True` if the given matrix is a magic square, and `False` otherwise.\n",
    "The matrices will be square numpy matrices."
   ]
  },
  {
   "cell_type": "code",
   "execution_count": 13,
   "metadata": {},
   "outputs": [],
   "source": [
    "import numpy as np\n",
    "\n",
    "def is_magic_square(matrix):\n",
    "    magic_sum = np.sum(np.diag(matrix))  # set the potential sum to the sum of the main diagonal\n",
    "    \n",
    "    for i in range(len(matrix)):\n",
    "        row_sum = np.sum(matrix[i])  # checks the row\n",
    "        col_sum = np.sum(matrix[:,i])  # checks the column\n",
    "        \n",
    "        if not (magic_sum == row_sum == col_sum):\n",
    "            return False\n",
    "        \n",
    "    # we've checked that the sum of the main diagonal is equal\n",
    "    # to the sum of all the rows and columns\n",
    "    # it remains to check the anti-diagonal now\n",
    "    # np.flipud \"flips\" the matrix top-to-bottom\n",
    "    \n",
    "    anti_diag = np.diag(np.flipud(matrix))\n",
    "    \n",
    "    return magic_sum == np.sum(anti_diag)"
   ]
  },
  {
   "cell_type": "code",
   "execution_count": 14,
   "metadata": {},
   "outputs": [
    {
     "name": "stdout",
     "output_type": "stream",
     "text": [
      "True\n",
      "False\n",
      "True\n"
     ]
    }
   ],
   "source": [
    "print(is_magic_square(np.matrix([[2,7,6],[9,5,1],[4,3,8]])))  # True\n",
    "print(is_magic_square(np.matrix([[29**2, 1, 47**2], [41**2, 37**2, 1], [23**2, 41**2, 29**2]])))  # False -- this is The Parker Square (theparkersquare.com)\n",
    "print(is_magic_square(np.matrix([[4,9,2], [3,5,7], [8,1,6]])))  # True"
   ]
  },
  {
   "cell_type": "markdown",
   "metadata": {},
   "source": [
    "## Diagonally Dominant\n",
    "\n",
    "A matrix is **(strictly) diagonally dominant** if the absolute value of its diagonal entries are strictly greater than the sum of the absolute values of the non-diagonal entries in the corresponding row.\n",
    "That is, if $$|a_{ii}| > \\sum_{j=1}^n |a_{ij}|$$ for all rows $i$.\n",
    "Write a function that returns `True` if a matrix (here, a list of lists) is strictly diagonally dominant, and `False` otherwise.\n",
    "\n",
    "You may assume the matrices are square."
   ]
  },
  {
   "cell_type": "code",
   "execution_count": 15,
   "metadata": {},
   "outputs": [],
   "source": [
    "def is_diag_dominant(matrix):\n",
    "    for i in range(len(matrix)):\n",
    "        diagonal_entry = abs(matrix[i][i])\n",
    "        non_diag_sum = sum([abs(a_ij) for a_ij in matrix[i]]) - diagonal_entry\n",
    "        \n",
    "        if not (diagonal_entry > non_diag_sum):\n",
    "            return False\n",
    "        \n",
    "    return True"
   ]
  },
  {
   "cell_type": "code",
   "execution_count": 16,
   "metadata": {},
   "outputs": [
    {
     "name": "stdout",
     "output_type": "stream",
     "text": [
      "True\n",
      "False\n",
      "False\n",
      "True\n"
     ]
    }
   ],
   "source": [
    "print(is_diag_dominant([[10,1,2,3],[0,11,2,3],[0,1,12,3],[0,1,2,13]]))  # True\n",
    "print(is_diag_dominant([[4,2,2],[0,5,-2],[-1,-2,7]]))  # False\n",
    "print(is_diag_dominant([[-3,-2,-1],[-1,3,-2],[2,1,3]]))  # False\n",
    "print(is_diag_dominant([[-4,-2,-1],[-1,-4,-2],[2,1,-4]]))  # True"
   ]
  },
  {
   "cell_type": "markdown",
   "metadata": {},
   "source": [
    "## FizzBuzz\n",
    "\n",
    "Write a program which prints the output from the game *FizzBuzz*. \n",
    "The game goes like this: two players alternate counting numbers, \"1, 2, 3, 4, 5, ...\", except if the number is a multiple of 3, you instead say \"Fizz\", and if the number is a multiple of 5, you say \"Buzz\".\n",
    "In the case that the number is a multiple of 3 and 5, you say \"FizzBuzz\".\n",
    "\n",
    "For instance, the first 15 \"rounds\" of this game are \"1, 2, Fizz, 4, Buzz, Fizz, 7, 8, 9, Buzz, 11, Fizz, 13, 14, FizzBuzz\".\n",
    "\n",
    "Write code which prints the first 100 \"rounds\" of a game of FizzBuzz."
   ]
  },
  {
   "cell_type": "code",
   "execution_count": 17,
   "metadata": {
    "scrolled": true
   },
   "outputs": [
    {
     "name": "stdout",
     "output_type": "stream",
     "text": [
      "1\n",
      "2\n",
      "Fizz\n",
      "4\n",
      "Buzz\n",
      "Fizz\n",
      "7\n",
      "8\n",
      "Fizz\n",
      "Buzz\n",
      "11\n",
      "Fizz\n",
      "13\n",
      "14\n",
      "FizzBuzz\n",
      "16\n",
      "17\n",
      "Fizz\n",
      "19\n",
      "Buzz\n",
      "Fizz\n",
      "22\n",
      "23\n",
      "Fizz\n",
      "Buzz\n",
      "26\n",
      "Fizz\n",
      "28\n",
      "29\n",
      "FizzBuzz\n",
      "31\n",
      "32\n",
      "Fizz\n",
      "34\n",
      "Buzz\n",
      "Fizz\n",
      "37\n",
      "38\n",
      "Fizz\n",
      "Buzz\n",
      "41\n",
      "Fizz\n",
      "43\n",
      "44\n",
      "FizzBuzz\n",
      "46\n",
      "47\n",
      "Fizz\n",
      "49\n",
      "Buzz\n",
      "Fizz\n",
      "52\n",
      "53\n",
      "Fizz\n",
      "Buzz\n",
      "56\n",
      "Fizz\n",
      "58\n",
      "59\n",
      "FizzBuzz\n",
      "61\n",
      "62\n",
      "Fizz\n",
      "64\n",
      "Buzz\n",
      "Fizz\n",
      "67\n",
      "68\n",
      "Fizz\n",
      "Buzz\n",
      "71\n",
      "Fizz\n",
      "73\n",
      "74\n",
      "FizzBuzz\n",
      "76\n",
      "77\n",
      "Fizz\n",
      "79\n",
      "Buzz\n",
      "Fizz\n",
      "82\n",
      "83\n",
      "Fizz\n",
      "Buzz\n",
      "86\n",
      "Fizz\n",
      "88\n",
      "89\n",
      "FizzBuzz\n",
      "91\n",
      "92\n",
      "Fizz\n",
      "94\n",
      "Buzz\n",
      "Fizz\n",
      "97\n",
      "98\n",
      "Fizz\n",
      "Buzz\n"
     ]
    }
   ],
   "source": [
    "# first attempt\n",
    "\n",
    "for i in range(1, 101):\n",
    "    if i % 3 == 0 and i % 5 == 0:\n",
    "        print('FizzBuzz')\n",
    "    elif i % 3 == 0:\n",
    "        print('Fizz')\n",
    "    elif i % 5 == 0:\n",
    "        print('Buzz')\n",
    "    else:\n",
    "        print(i)"
   ]
  },
  {
   "cell_type": "markdown",
   "metadata": {},
   "source": [
    "This code is _ok_ but it's not very modular.\n",
    "Meaning, if we wanted to change the divisors $3$ and $5$ to something else, it would be tricky.\n",
    "(Well, it wouldn't be _too_ tricky for this small example, but let's see if we can write something better, which will be easier to implement in the next part.)"
   ]
  },
  {
   "cell_type": "code",
   "execution_count": 18,
   "metadata": {
    "scrolled": true
   },
   "outputs": [
    {
     "name": "stdout",
     "output_type": "stream",
     "text": [
      "1\n",
      "2\n",
      "Fizz\n",
      "4\n",
      "Buzz\n",
      "Fizz\n",
      "7\n",
      "8\n",
      "Fizz\n",
      "Buzz\n",
      "11\n",
      "Fizz\n",
      "13\n",
      "14\n",
      "FizzBuzz\n",
      "16\n",
      "17\n",
      "Fizz\n",
      "19\n",
      "Buzz\n",
      "Fizz\n",
      "22\n",
      "23\n",
      "Fizz\n",
      "Buzz\n",
      "26\n",
      "Fizz\n",
      "28\n",
      "29\n",
      "FizzBuzz\n",
      "31\n",
      "32\n",
      "Fizz\n",
      "34\n",
      "Buzz\n",
      "Fizz\n",
      "37\n",
      "38\n",
      "Fizz\n",
      "Buzz\n",
      "41\n",
      "Fizz\n",
      "43\n",
      "44\n",
      "FizzBuzz\n",
      "46\n",
      "47\n",
      "Fizz\n",
      "49\n",
      "Buzz\n",
      "Fizz\n",
      "52\n",
      "53\n",
      "Fizz\n",
      "Buzz\n",
      "56\n",
      "Fizz\n",
      "58\n",
      "59\n",
      "FizzBuzz\n",
      "61\n",
      "62\n",
      "Fizz\n",
      "64\n",
      "Buzz\n",
      "Fizz\n",
      "67\n",
      "68\n",
      "Fizz\n",
      "Buzz\n",
      "71\n",
      "Fizz\n",
      "73\n",
      "74\n",
      "FizzBuzz\n",
      "76\n",
      "77\n",
      "Fizz\n",
      "79\n",
      "Buzz\n",
      "Fizz\n",
      "82\n",
      "83\n",
      "Fizz\n",
      "Buzz\n",
      "86\n",
      "Fizz\n",
      "88\n",
      "89\n",
      "FizzBuzz\n",
      "91\n",
      "92\n",
      "Fizz\n",
      "94\n",
      "Buzz\n",
      "Fizz\n",
      "97\n",
      "98\n",
      "Fizz\n",
      "Buzz\n"
     ]
    }
   ],
   "source": [
    "# v2\n",
    "\n",
    "for i in range(1,101):\n",
    "    output = ''\n",
    "    if i % 3 == 0:\n",
    "        output += 'Fizz'\n",
    "    if i % 5 == 0:\n",
    "        output += 'Buzz'\n",
    "    if output == '':\n",
    "        output = i\n",
    "    print(output)"
   ]
  },
  {
   "cell_type": "markdown",
   "metadata": {},
   "source": [
    "Now write a function `fizzbuzz(n, fb_dict)` which prints the first `n` rounds of FizzBuzz.\n",
    "Except, instead of just considering 3 and 5, we're given `fb_dict`, a dictionary which maps numbers to strings.\n",
    "In this dictionary you'll find things of the form `3: 'Fizz'`, `5: 'Buzz'`, or `7: 'Fuzz'`.\n",
    "\n",
    "The idea is exactly the same as before: if the number is a multiple of exactly one of the keys in the dictionary, the corresponding value should be the output. \n",
    "But if the number is divisible by more than just one of the keys, the output should be the concatination of all the corresponding values.\n",
    "\n",
    "You may assume that the keys in the dictionary are listed in increasing order."
   ]
  },
  {
   "cell_type": "code",
   "execution_count": 19,
   "metadata": {},
   "outputs": [],
   "source": [
    "def fizzbuzz(n, fb_dict):\n",
    "    for i in range(1, n+1):\n",
    "        output = ''\n",
    "        \n",
    "        for factor in fb_dict.keys():\n",
    "            if i % factor == 0:\n",
    "                output += fb_dict[factor]\n",
    "            \n",
    "        if output == '':\n",
    "            output = i\n",
    "            \n",
    "        print(output)"
   ]
  },
  {
   "cell_type": "code",
   "execution_count": 20,
   "metadata": {
    "scrolled": true
   },
   "outputs": [
    {
     "name": "stdout",
     "output_type": "stream",
     "text": [
      "1\n",
      "2\n",
      "Fizz\n",
      "4\n",
      "Buzz\n",
      "Fizz\n",
      "7\n",
      "8\n",
      "Fizz\n",
      "Buzz\n",
      "11\n",
      "Fizz\n",
      "13\n",
      "14\n",
      "FizzBuzz\n",
      "16\n",
      "17\n",
      "Fizz\n",
      "19\n",
      "Buzz\n",
      "Fizz\n",
      "22\n",
      "23\n",
      "Fizz\n",
      "Buzz\n",
      "26\n",
      "Fizz\n",
      "28\n",
      "29\n",
      "FizzBuzz\n",
      "31\n",
      "32\n",
      "Fizz\n",
      "34\n",
      "Buzz\n",
      "Fizz\n",
      "37\n",
      "38\n",
      "Fizz\n",
      "Buzz\n",
      "41\n",
      "Fizz\n",
      "43\n",
      "44\n",
      "FizzBuzz\n",
      "46\n",
      "47\n",
      "Fizz\n",
      "49\n",
      "Buzz\n",
      "Fizz\n",
      "52\n",
      "53\n",
      "Fizz\n",
      "Buzz\n",
      "56\n",
      "Fizz\n",
      "58\n",
      "59\n",
      "FizzBuzz\n",
      "61\n",
      "62\n",
      "Fizz\n",
      "64\n",
      "Buzz\n",
      "Fizz\n",
      "67\n",
      "68\n",
      "Fizz\n",
      "Buzz\n",
      "71\n",
      "Fizz\n",
      "73\n",
      "74\n",
      "FizzBuzz\n",
      "76\n",
      "77\n",
      "Fizz\n",
      "79\n",
      "Buzz\n",
      "Fizz\n",
      "82\n",
      "83\n",
      "Fizz\n",
      "Buzz\n",
      "86\n",
      "Fizz\n",
      "88\n",
      "89\n",
      "FizzBuzz\n",
      "91\n",
      "92\n",
      "Fizz\n",
      "94\n",
      "Buzz\n",
      "Fizz\n",
      "97\n",
      "98\n",
      "Fizz\n",
      "Buzz\n"
     ]
    }
   ],
   "source": [
    "fizzbuzz(100, {3: 'Fizz', 5: 'Buzz'})  # should print the same as before"
   ]
  },
  {
   "cell_type": "code",
   "execution_count": 21,
   "metadata": {},
   "outputs": [
    {
     "name": "stdout",
     "output_type": "stream",
     "text": [
      "Fizz\n",
      "Fizz\n",
      "Fizz\n",
      "Fizz\n",
      "Fizz\n",
      "Fizz\n",
      "Fizz\n",
      "Fizz\n",
      "Fizz\n",
      "Fizz\n"
     ]
    }
   ],
   "source": [
    "fizzbuzz(10, {1: 'Fizz'})  # should print 'Fizz' 10 times"
   ]
  },
  {
   "cell_type": "code",
   "execution_count": 22,
   "metadata": {
    "scrolled": true
   },
   "outputs": [
    {
     "name": "stdout",
     "output_type": "stream",
     "text": [
      "1\n",
      "Fizzy\n",
      "Fizz\n",
      "FizzyBuzzy\n",
      "Buzz\n",
      "FizzyFizz\n",
      "7\n",
      "FizzyBuzzy\n",
      "Fizz\n",
      "FizzyBuzz\n",
      "11\n",
      "FizzyFizzBuzzy\n",
      "13\n",
      "Fizzy\n",
      "FizzBuzz\n",
      "FizzyBuzzy\n",
      "17\n",
      "FizzyFizz\n",
      "19\n",
      "FizzyBuzzyBuzz\n",
      "Fizz\n",
      "Fizzy\n",
      "23\n",
      "FizzyFizzBuzzy\n",
      "Buzz\n",
      "Fizzy\n",
      "Fizz\n",
      "FizzyBuzzy\n",
      "29\n",
      "FizzyFizzBuzz\n",
      "31\n",
      "FizzyBuzzy\n",
      "Fizz\n",
      "Fizzy\n",
      "Buzz\n",
      "FizzyFizzBuzzy\n",
      "37\n",
      "Fizzy\n",
      "Fizz\n",
      "FizzyBuzzyBuzz\n",
      "41\n",
      "FizzyFizz\n",
      "43\n",
      "FizzyBuzzy\n",
      "FizzBuzz\n",
      "Fizzy\n",
      "47\n",
      "FizzyFizzBuzzy\n",
      "49\n",
      "FizzyBuzz\n",
      "Fizz\n",
      "FizzyBuzzy\n",
      "53\n",
      "FizzyFizz\n",
      "Buzz\n",
      "FizzyBuzzy\n",
      "Fizz\n",
      "Fizzy\n",
      "59\n",
      "FizzyFizzBuzzyBuzz\n"
     ]
    }
   ],
   "source": [
    "fizzbuzz(60, {2: 'Fizzy', 3: 'Fizz', 4: 'Buzzy', 5: 'Buzz'})"
   ]
  },
  {
   "cell_type": "markdown",
   "metadata": {},
   "source": [
    "Remember to fill out the [course evaluation](https://evals.mcmaster.ca)!\n",
    "Good luck on the exam!"
   ]
  }
 ],
 "metadata": {
  "kernelspec": {
   "display_name": "Python 3",
   "language": "python",
   "name": "python3"
  },
  "language_info": {
   "codemirror_mode": {
    "name": "ipython",
    "version": 3
   },
   "file_extension": ".py",
   "mimetype": "text/x-python",
   "name": "python",
   "nbconvert_exporter": "python",
   "pygments_lexer": "ipython3",
   "version": "3.7.7"
  }
 },
 "nbformat": 4,
 "nbformat_minor": 4
}
