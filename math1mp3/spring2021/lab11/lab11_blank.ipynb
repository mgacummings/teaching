{
 "cells": [
  {
   "cell_type": "markdown",
   "metadata": {},
   "source": [
    "# Lab 11: Monday, June 14"
   ]
  },
  {
   "cell_type": "markdown",
   "metadata": {},
   "source": [
    "[Course evaluations](https://evals.mcmaster.ca/login.php) opened today, and close Friday, June 18.\n",
    "\n",
    "Reminder that today is the last lab. \n",
    "In particular, there will be no lab on Wednesday before the exam.\n",
    "\n",
    "Today's lab is general review."
   ]
  },
  {
   "cell_type": "markdown",
   "metadata": {},
   "source": [
    "## Questions?"
   ]
  },
  {
   "cell_type": "markdown",
   "metadata": {},
   "source": [
    "## Missing Number\n",
    "\n",
    "Write a function whose parameter is a list which is supposed to contain a range of numbers, except one of the numbers is missing.\n",
    "For instance, `[1, 2, 4, 5]` or `[1, 2, 3, 4, 5, 6, 7, 9, 10]`. \n",
    "\n",
    "Write a function `missing_number` which returns the missing number from such a list.\n",
    "You can assume that the list will always start at `1` and that the endpoints (1 and the maximum) are always included.\n",
    "If there's no number missing, return `None`.\n",
    "\n",
    "Do this two ways: once using a loop and once using sets."
   ]
  },
  {
   "cell_type": "code",
   "execution_count": null,
   "metadata": {},
   "outputs": [],
   "source": [
    "def missing_number_loop(nums):"
   ]
  },
  {
   "cell_type": "code",
   "execution_count": null,
   "metadata": {},
   "outputs": [],
   "source": [
    "print(missing_number_loop([1,2,4,5]))  # 3\n",
    "print(missing_number_loop([1,2,3,4,5,6,7,9,10]))  # 8\n",
    "print(missing_number_loop([1,2,3,4,5]))  # None"
   ]
  },
  {
   "cell_type": "code",
   "execution_count": null,
   "metadata": {},
   "outputs": [],
   "source": [
    "def missing_number_sets(nums):"
   ]
  },
  {
   "cell_type": "code",
   "execution_count": null,
   "metadata": {},
   "outputs": [],
   "source": [
    "print(missing_number_sets([1,2,4,5]))  # 3\n",
    "print(missing_number_sets([1,2,3,4,5,6,7,9,10]))  # 8\n",
    "print(missing_number_sets([1,2,3,4,5]))  # None"
   ]
  },
  {
   "cell_type": "markdown",
   "metadata": {},
   "source": [
    "## Clock\n",
    "\n",
    "Write a function which converts between different methods of telling time.\n",
    "Its input should be a string such as `'quarter to twelve'` or `'half past one'`, and you should return `'11:45'` or `'1:30'`, respectively.\n",
    "\n",
    "The input will be of the form `[interval] [to/past] [hour]`, unless the time is on the hour, in which case the input will be of the form `\"[hour] o'clock\"`.\n",
    "You may assume that the time will always be a multiple of five.\n",
    "\n",
    "You may assume that the input will be as you'd expect (the input won't be `'thirty-five past one'`, it would be `'twenty-five to two'`) and that all times will be on a twelve-hour clock (no 14:00, etc)."
   ]
  },
  {
   "cell_type": "code",
   "execution_count": null,
   "metadata": {},
   "outputs": [],
   "source": [
    "def clock(time):"
   ]
  },
  {
   "cell_type": "code",
   "execution_count": null,
   "metadata": {},
   "outputs": [],
   "source": [
    "print(clock('twenty-five past two'))  # 2:25\n",
    "print(clock(\"eleven o'clock\"))  # 11:00\n",
    "print(clock('quarter to one'))  # 12:45"
   ]
  },
  {
   "cell_type": "markdown",
   "metadata": {},
   "source": [
    "## Creating a Matrix\n",
    "\n",
    "This is Prof. Lovric's question 116.\n",
    "\n",
    "Write a function `eye_modified(n,a,b)` which returns an $n \\times n$ matrix $M$ whose entries are given by $$M_{ij} = \\begin{cases} a & i=j, \\\\ b & i\\neq j. \\end{cases}$$\n",
    "\n",
    "Do this once using lists and once using numpy arrays/matrices."
   ]
  },
  {
   "cell_type": "code",
   "execution_count": null,
   "metadata": {},
   "outputs": [],
   "source": [
    "def eye_modified_lists(n, a, b):"
   ]
  },
  {
   "cell_type": "code",
   "execution_count": null,
   "metadata": {},
   "outputs": [],
   "source": [
    "print(eye_modified_lists(3,1,0))  # [[1,0,0], [0,1,0], [0,0,1]]\n",
    "print(eye_modified_lists(5,11,1))  # [[11, 1, 1, 1, 1], [1, 11, 1, 1, 1], [1, 1, 11, 1, 1], [1, 1, 1, 11, 1], [1, 1, 1, 1, 11]]\n",
    "print(eye_modified_lists(2,0,1))  # [[0,1], [1,0]]"
   ]
  },
  {
   "cell_type": "code",
   "execution_count": null,
   "metadata": {},
   "outputs": [],
   "source": [
    "def eye_modified_list_comp(n, a, b):"
   ]
  },
  {
   "cell_type": "code",
   "execution_count": null,
   "metadata": {},
   "outputs": [],
   "source": [
    "print(eye_modified_list_comp(3,1,0))  # [[1,0,0], [0,1,0], [0,0,1]]\n",
    "print(eye_modified_list_comp(5,11,1))  # [[11, 1, 1, 1, 1], [1, 11, 1, 1, 1], [1, 1, 11, 1, 1], [1, 1, 1, 11, 1], [1, 1, 1, 1, 11]]\n",
    "print(eye_modified_list_comp(2,0,1))  # [[0,1], [1,0]]"
   ]
  },
  {
   "cell_type": "code",
   "execution_count": null,
   "metadata": {},
   "outputs": [],
   "source": [
    "import numpy as np\n",
    "\n",
    "def eye_modified_numpy(n, a, b):"
   ]
  },
  {
   "cell_type": "code",
   "execution_count": null,
   "metadata": {},
   "outputs": [],
   "source": [
    "print(eye_modified_numpy(3,1,0))\n",
    "print(eye_modified_numpy(5,11,1))\n",
    "print(eye_modified_numpy(2,0,1))  # same expected output as above"
   ]
  },
  {
   "cell_type": "markdown",
   "metadata": {},
   "source": [
    "## Magic Squares\n",
    "\n",
    "A **magic square** is an $n \\times n$ matrix whose row sums, column sums, and diagonal sums are all equal.\n",
    "(The diagonal sums are the sums of both the main diagonal, and the **anti-diagonal**, going from the top-right to bottom-left.)\n",
    "\n",
    "Write a function which returns `True` if the given matrix is a magic square, and `False` otherwise.\n",
    "The matrices will be square numpy matrices."
   ]
  },
  {
   "cell_type": "code",
   "execution_count": null,
   "metadata": {},
   "outputs": [],
   "source": [
    "import numpy as np\n",
    "\n",
    "def is_magic_square(matrix):"
   ]
  },
  {
   "cell_type": "code",
   "execution_count": null,
   "metadata": {},
   "outputs": [],
   "source": [
    "print(is_magic_square(np.matrix([[2,7,6],[9,5,1],[4,3,8]])))  # True\n",
    "print(is_magic_square(np.matrix([[29**2, 1, 47**2], [41**2, 37**2, 1], [23**2, 41**2, 29**2]])))  # False -- this is The Parker Square (theparkersquare.com)\n",
    "print(is_magic_square(np.matrix([[4,9,2], [3,5,7], [8,1,6]])))  # True"
   ]
  },
  {
   "cell_type": "markdown",
   "metadata": {},
   "source": [
    "## Diagonally Dominant\n",
    "\n",
    "A matrix is **(strictly) diagonally dominant** if the absolute value of its diagonal entries are strictly greater than the sums of the absolute values of the non-diagonal entries in the corresponding row.\n",
    "That is, if $$|a_{ii}| > \\sum_{j=1}^n |a_{ij}|$$ for all rows $i$.\n",
    "Write a function that returns `True` if a matrix (here, a list of lists) is strictly diagonally dominant, and `False` otherwise.\n",
    "\n",
    "You may assume the matrices are square."
   ]
  },
  {
   "cell_type": "code",
   "execution_count": null,
   "metadata": {},
   "outputs": [],
   "source": [
    "def is_diag_dominant(matrix):"
   ]
  },
  {
   "cell_type": "code",
   "execution_count": null,
   "metadata": {},
   "outputs": [],
   "source": [
    "print(is_diag_dominant([[10,1,2,3],[0,11,2,3],[0,1,12,3],[0,1,2,13]]))  # True\n",
    "print(is_diag_dominant([[4,2,2],[0,5,-2],[-1,-2,7]]))  # False\n",
    "print(is_diag_dominant([[-3,-2,-1],[-1,3,-2],[2,1,3]]))  # False\n",
    "print(is_diag_dominant([[-4,-2,-1],[-1,-4,-2],[2,1,-4]]))  # True"
   ]
  },
  {
   "cell_type": "markdown",
   "metadata": {},
   "source": [
    "## FizzBuzz\n",
    "\n",
    "Write a program which prints the output from the game *FizzBuzz*. \n",
    "The game goes like this: two players alternate counting numbers, \"1, 2, 3, 4, 5, ...\", except if the number is a multiple of 3, you instead say \"Fizz\", and if the number is a multiple of 5, you say \"Buzz\".\n",
    "In the case that the number is a multiple of 3 and 5, you say \"FizzBuzz\".\n",
    "\n",
    "For instance, the first 15 \"rounds\" of this game are \"1, 2, Fizz, 4, Buzz, Fizz, 7, 8, 9, Buzz, 11, Fizz, 13, 14, FizzBuzz\".\n",
    "\n",
    "Write code which prints the first 100 \"rounds\" of a game of FizzBuzz."
   ]
  },
  {
   "cell_type": "code",
   "execution_count": null,
   "metadata": {
    "scrolled": true
   },
   "outputs": [],
   "source": []
  },
  {
   "cell_type": "markdown",
   "metadata": {},
   "source": [
    "Now write a function `fizzbuzz(n, fb_dict)` which prints the first `n` rounds of FizzBuzz.\n",
    "Except, instead of just considering 3 and 5, we're given `fb_dict`, a dictionary which maps numbers to strings.\n",
    "In this dictionary you'll find things of the form `3: 'Fizz'`, `5: 'Buzz'`, or `7: 'Fuzz'`.\n",
    "\n",
    "The idea is exactly the same as before: if the number is a multiple of exactly one of the keys in the dictionary, the corresponding value should be the output. \n",
    "But if the number is divisible by more than just one of the keys, the output should be the concatination of all the corresponding values.\n",
    "\n",
    "You may assume that the keys in the dictionary are listed in increasing order."
   ]
  },
  {
   "cell_type": "code",
   "execution_count": null,
   "metadata": {},
   "outputs": [],
   "source": [
    "def fizzbuzz(n, fb_dict):"
   ]
  },
  {
   "cell_type": "code",
   "execution_count": null,
   "metadata": {
    "scrolled": true
   },
   "outputs": [],
   "source": [
    "fizzbuzz(100, {3: 'Fizz', 5: 'Buzz'})  # should print the same as before"
   ]
  },
  {
   "cell_type": "code",
   "execution_count": null,
   "metadata": {},
   "outputs": [],
   "source": [
    "fizzbuzz(10, {1: 'Fizz'})  # should print 'Fizz' 10 times"
   ]
  },
  {
   "cell_type": "code",
   "execution_count": null,
   "metadata": {
    "scrolled": true
   },
   "outputs": [],
   "source": [
    "fizzbuzz(60, {2: 'Fizzy', 3: 'Fizz', 4: 'Buzzy', 5: 'Buzz'})"
   ]
  },
  {
   "cell_type": "markdown",
   "metadata": {},
   "source": [
    "Remember to fill out the [course evaluation](https://evals.mcmaster.ca)!\n",
    "Good luck on the exam!"
   ]
  }
 ],
 "metadata": {
  "kernelspec": {
   "display_name": "Python 3",
   "language": "python",
   "name": "python3"
  },
  "language_info": {
   "codemirror_mode": {
    "name": "ipython",
    "version": 3
   },
   "file_extension": ".py",
   "mimetype": "text/x-python",
   "name": "python",
   "nbconvert_exporter": "python",
   "pygments_lexer": "ipython3",
   "version": "3.7.7"
  }
 },
 "nbformat": 4,
 "nbformat_minor": 4
}
