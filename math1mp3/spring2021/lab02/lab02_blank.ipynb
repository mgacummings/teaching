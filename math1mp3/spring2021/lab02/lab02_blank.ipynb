{
 "cells": [
  {
   "cell_type": "markdown",
   "metadata": {},
   "source": [
    "# Lab 2: Monday, May 10\n",
    "\n",
    "Today we get to dig into some interesting applications of programming. \n",
    "We'll cover the following programming concepts:\n",
    "\n",
    "  * loops (`for` and `while`),\n",
    "  * flow control (`if`, `elif`, and `else`),\n",
    "  * string manipulation,\n",
    "  * lists.\n",
    "  \n",
    "Although these concepts are not particularly interesting on their own, we will view them through the lens of mathematics, so one can begin to appreciate the power of programming.\n",
    "In particular, today's exercises will relate to:\n",
    "\n",
    "  * series and partial sums,\n",
    "  * sequences, \n",
    "  * matrices,\n",
    "  * determinants."
   ]
  },
  {
   "cell_type": "markdown",
   "metadata": {},
   "source": [
    "## Assignment 1\n",
    "\n",
    "Before we begin: assignment 1 was posted last Thursday, and is due 11:59pm eastern this Friday, May 14.\n",
    "\n",
    "You should read all the instructions at the top of the notebook carefully, and please, *please*, name your file correctly!"
   ]
  },
  {
   "cell_type": "markdown",
   "metadata": {},
   "source": [
    "## Questions?\n",
    "\n",
    "If you have any questions, now is the time to ask!"
   ]
  },
  {
   "cell_type": "markdown",
   "metadata": {},
   "source": [
    "## Exercises\n",
    "\n",
    "### 1. [Cat-Dog](https://codingbat.com/prob/p164876)\n",
    "\n",
    "Before we get to the math-focused questions, we'll do another CodingBat problem.\n",
    "Complete the function that returns `True` if the strings `\"cat\"` and `\"dog\"` appear the same number of times in the given string, and `False` otherwise.\n",
    "\n",
    "This can be done extremely easily using the `count()` method, but do _not_ use it for this problem.\n",
    "(The challenge with this problem is not to test one's ability to google Python functions, but rather to test your understanding of loops, if/else statements, and string slicing!)"
   ]
  },
  {
   "cell_type": "code",
   "execution_count": null,
   "metadata": {},
   "outputs": [],
   "source": [
    "def cat_dog(string):\n",
    "    cat_count = 0\n",
    "    dog_count = 0\n",
    "    \n",
    "    # write code to count number of 'dog' and 'cat'\n",
    "    \n",
    "    return  # don't forget to add the return statement"
   ]
  },
  {
   "cell_type": "code",
   "execution_count": null,
   "metadata": {},
   "outputs": [],
   "source": [
    "# some test cases\n",
    "print(cat_dog('catxdogxdogxcat'))  # should return True\n",
    "print(cat_dog('dogogcat'))  # should return True\n",
    "print(cat_dog('catxxdogxxxdog'))  # should return False"
   ]
  },
  {
   "cell_type": "markdown",
   "metadata": {},
   "source": [
    "### 2. Series\n",
    "\n",
    "Write a function that calculates the $n^\\text{th}$ partial sum $$S_n = \\sum_{i=1}^{n} a_i, $$ where $$ a_i = \\begin{cases} \\frac{1}{i} & i = 3k, \\\\ \\frac{1}{i^2} & i = 3k+1, \\\\ \\frac{1}{i^3} & i = 3k+2, \\end{cases} $$ for $k \\in \\mathbb{Z}$."
   ]
  },
  {
   "cell_type": "code",
   "execution_count": null,
   "metadata": {},
   "outputs": [],
   "source": [
    "def partial_sum(n):\n",
    "    total = 0\n",
    "    \n",
    "    # write code here that calculates `total`\n",
    "    \n",
    "    return total"
   ]
  },
  {
   "cell_type": "code",
   "execution_count": null,
   "metadata": {},
   "outputs": [],
   "source": [
    "# try these out:\n",
    "print(round(partial_sum(10),10))  # should print 1.8389723994\n",
    "print(round(partial_sum(100),10))  # should print 2.6181213245\n",
    "print(round(partial_sum(1000),10))  # should print 3.3871092142"
   ]
  },
  {
   "cell_type": "markdown",
   "metadata": {},
   "source": [
    "In the assignment notebook, you'll see `assert` statements. \n",
    "When you run those cells, if you're getting the right answer, nothing will happen. On the other hand, if you're getting the wrong answer, you'll see an error.\n",
    "\n",
    "If you're getting the right answer for `partial_sum()` above, try running the following:"
   ]
  },
  {
   "cell_type": "code",
   "execution_count": null,
   "metadata": {},
   "outputs": [],
   "source": [
    "assert round(partial_sum(10),10) == 1.8389723994\n",
    "assert round(partial_sum(100),10) == 2.6181213245\n",
    "assert round(partial_sum(1000),10) == 3.3871092142"
   ]
  },
  {
   "cell_type": "markdown",
   "metadata": {},
   "source": [
    "### 3. Fibonacci\n",
    "\n",
    "The _Fibonacci sequence_ is the sequence $$0, 1, 1, 2, 3, 5, 8, 13, ... $$ where each term is defined as the sum of the previous two terms.\n",
    "That is, $$ \\begin{cases} a_0 = 0, \\\\ a_1 = 1, \\\\ a_n = a_{n-1} + a_{n-2}. \\end{cases} $$\n",
    "These numbers $a_n$ are _Fibonacci numbers_.\n",
    "\n",
    "Write a function which returns a list containing the first $n$ Fibonacci numbers (in order).\n",
    "You may assume that $n \\ge 2$."
   ]
  },
  {
   "cell_type": "code",
   "execution_count": null,
   "metadata": {},
   "outputs": [],
   "source": [
    "def fibonacci(n):\n",
    "    fibonacci_list = [0, 1]\n",
    "    \n",
    "    # write code to add the necessary Fibnoacci numbers to the list\n",
    "    \n",
    "    return fibonacci_list"
   ]
  },
  {
   "cell_type": "code",
   "execution_count": null,
   "metadata": {},
   "outputs": [],
   "source": [
    "# try printing some of them out:\n",
    "print(fibonacci(2))  # [0, 1]\n",
    "print(fibonacci(5))  # [0, 1, 1, 2, 3]\n",
    "print(fibonacci(20))  # [0, 1, 1, 2, 3, 5, 8, 13, 21, 34, 55, 89, 144, 233, 377, 610, 987, 1597, 2584, 4181]"
   ]
  },
  {
   "cell_type": "markdown",
   "metadata": {},
   "source": [
    "### 4. Matrices\n",
    "This is modified from question 22 of Lovric's 1MP3 problem set.\n",
    "\n",
    "Complete the following functions that:\n",
    "  * Return the determinant of a $2\\times 2$ matrix.\n",
    "  * Adds two $2\\times 2$ matrices (and returns the nested list corresponding to the sum)."
   ]
  },
  {
   "cell_type": "code",
   "execution_count": null,
   "metadata": {},
   "outputs": [],
   "source": [
    "# here are some matrices to use:\n",
    "I = [[1, 0], [0, 1]]  # the 2x2 identity matrix\n",
    "A = [[1, 2], [3, 4]]\n",
    "B = [[1, 1], [2, 2]]"
   ]
  },
  {
   "cell_type": "markdown",
   "metadata": {},
   "source": [
    "These correspond to: $$ I = \\begin{pmatrix} 1 & 0 \\\\ 0 & 1 \\end{pmatrix} , \\quad A = \\begin{pmatrix} 1 & 2 \\\\ 3 & 4 \\end{pmatrix}, \\quad B = \\begin{pmatrix} 1 & 1 \\\\ 2 & 2 \\end{pmatrix}. $$"
   ]
  },
  {
   "cell_type": "code",
   "execution_count": null,
   "metadata": {},
   "outputs": [],
   "source": [
    "def determinant(M):\n",
    "    \n",
    "    # write code that calculates the determinant of an arbitrary 2x2 matrix `M`\n",
    "    \n",
    "    return "
   ]
  },
  {
   "cell_type": "code",
   "execution_count": null,
   "metadata": {},
   "outputs": [],
   "source": [
    "print(determinant(I))  # should return 1\n",
    "print(determinant(A))  # should return -2\n",
    "print(determinant(B))  # should return 0"
   ]
  },
  {
   "cell_type": "code",
   "execution_count": null,
   "metadata": {},
   "outputs": [],
   "source": [
    "def matrix_add(M1, M2):\n",
    "    \n",
    "    # write code which adds the 2x2 matrices `M1` and `M2`\n",
    "\n",
    "    return\n",
    "    # remember that you should be returning a nested list representation\n",
    "    # of the matrix"
   ]
  },
  {
   "cell_type": "code",
   "execution_count": null,
   "metadata": {},
   "outputs": [],
   "source": [
    "print(matrix_add(I,A))  # [[2, 2], [3, 5]]\n",
    "print(matrix_add(B,I))  # [[2, 1], [2, 3]]\n",
    "print(matrix_add(A,B))  # [[2, 3], [5, 6]]"
   ]
  },
  {
   "cell_type": "markdown",
   "metadata": {},
   "source": [
    "## Questions?\n",
    "\n",
    "Any more questions? Let me know!\n",
    "\n",
    "If you come across anything you'd like to see covered in the next lab, send me an email at [cummim5@mcmaster.ca](mailto:cummim5@mcmaster.ca)."
   ]
  },
  {
   "cell_type": "code",
   "execution_count": null,
   "metadata": {},
   "outputs": [],
   "source": []
  }
 ],
 "metadata": {
  "kernelspec": {
   "display_name": "Python 3",
   "language": "python",
   "name": "python3"
  },
  "language_info": {
   "codemirror_mode": {
    "name": "ipython",
    "version": 3
   },
   "file_extension": ".py",
   "mimetype": "text/x-python",
   "name": "python",
   "nbconvert_exporter": "python",
   "pygments_lexer": "ipython3",
   "version": "3.7.7"
  }
 },
 "nbformat": 4,
 "nbformat_minor": 4
}
