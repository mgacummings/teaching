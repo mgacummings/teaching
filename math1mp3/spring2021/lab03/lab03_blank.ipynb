{
 "cells": [
  {
   "cell_type": "markdown",
   "metadata": {},
   "source": [
    "# Lab 3: Wednesday, May 12"
   ]
  },
  {
   "cell_type": "markdown",
   "metadata": {},
   "source": [
    "## Topics\n",
    "  * Nested loops,\n",
    "  * Docstrings, \n",
    "  * List comprehension,\n",
    "  * `in` keyword,\n",
    "  * Functions,\n",
    "  * The `math` module."
   ]
  },
  {
   "cell_type": "markdown",
   "metadata": {},
   "source": [
    "## Reminders/Announcements\n",
    "  * Assignment 1 due Friday\n",
    "  * Test 1 next Monday; see Lecture 3 for details\n",
    "  * Discussion boards are open on Avenue -- another place for questions!\n",
    "\n",
    "See Avenue for more details; ask questions here/email/instructor office hours if anything's unclear."
   ]
  },
  {
   "cell_type": "markdown",
   "metadata": {},
   "source": [
    "## Any questions?"
   ]
  },
  {
   "cell_type": "markdown",
   "metadata": {},
   "source": [
    "## 1. Lengthy Sums\n",
    "\n",
    "This is modified from question 4 from Lovric's Questions.\n",
    "\n",
    "Write a function which takes a positive integer `n` and returns the sum of all integers `i`, $0 \\le i \\le n$ which are not divisible by 4 or 5.\n",
    "\n",
    "Do this twice: once with loops, and once using list comprehension."
   ]
  },
  {
   "cell_type": "code",
   "execution_count": null,
   "metadata": {},
   "outputs": [],
   "source": [
    "# using loops\n",
    "def loop_sum(n):\n",
    "    \"\"\"\n",
    "    Sums the integers up to n, not including integers divisible by 4 or 5.\n",
    "    Uses loops.\n",
    "    \n",
    "    Parameter\n",
    "    ---------\n",
    "    n : int, positive, upper bound (inclusive) for the sum\n",
    "    \n",
    "    Returns\n",
    "    -------\n",
    "    total : int, the sum\n",
    "    \n",
    "    Examples\n",
    "    --------\n",
    "    >>> loop_sum(10)\n",
    "    28\n",
    "    \n",
    "    >>> loop_sum(1000)\n",
    "    300000\n",
    "    \n",
    "    >>> loop_sum(0)\n",
    "    0\n",
    "    \"\"\"\n",
    "    total = 0\n",
    "    \n",
    "    return total"
   ]
  },
  {
   "cell_type": "code",
   "execution_count": null,
   "metadata": {},
   "outputs": [],
   "source": [
    "# some test cases:\n",
    "assert loop_sum(10) == 28\n",
    "assert loop_sum(1000) == 300_000  # you can use _ to help readibility of integers (300_000 == 300000)\n",
    "assert loop_sum(0) == 0"
   ]
  },
  {
   "cell_type": "code",
   "execution_count": null,
   "metadata": {},
   "outputs": [],
   "source": [
    "def list_comp_sum(n):\n",
    "    \"\"\"\n",
    "    Sums the integers up to n, not including integers divisible by 4 or 5.\n",
    "    Uses list comprehension.\n",
    "    \n",
    "    Parameter\n",
    "    ---------\n",
    "    n : int, positive, upper bound (inclusive) for the sum\n",
    "    \n",
    "    Returns\n",
    "    -------\n",
    "    total : int, the sum\n",
    "    \n",
    "    Examples\n",
    "    --------\n",
    "    >>> list_comp_sum(10)\n",
    "    28\n",
    "    \n",
    "    >>> list_comp_sum(1000)\n",
    "    300000\n",
    "    \n",
    "    >>> list_comp_sum(0)\n",
    "    0\n",
    "    \"\"\"\n",
    "    return"
   ]
  },
  {
   "cell_type": "markdown",
   "metadata": {},
   "source": [
    "You should get the same answer no matter which method you use. \n",
    "Check that is the case:"
   ]
  },
  {
   "cell_type": "code",
   "execution_count": null,
   "metadata": {},
   "outputs": [],
   "source": [
    "assert loop_sum(10) == list_comp_sum(10)\n",
    "assert loop_sum(1000) == list_comp_sum(1000)\n",
    "assert loop_sum(0) == list_comp_sum(0)"
   ]
  },
  {
   "cell_type": "markdown",
   "metadata": {},
   "source": [
    "## 2. Removing Duplicates From List\n",
    "\n",
    "Complete the function as desribed in the docstring.\n",
    "The examples in the docstring are shown below.\n",
    "\n",
    "Is this possible to do with list comprehension? Why or why not?"
   ]
  },
  {
   "cell_type": "code",
   "execution_count": null,
   "metadata": {},
   "outputs": [],
   "source": [
    "def remove_dup(long_list):\n",
    "    \"\"\"\n",
    "    Removes the duplicated entries from a list. \n",
    "    Ordering remains the same for all non-duplicate entries.\n",
    "    \n",
    "    Parameter\n",
    "    ---------\n",
    "    long_list : list\n",
    "    \n",
    "    Returns\n",
    "    -------\n",
    "    short_list : list, consisting only of unique entries\n",
    "    \n",
    "    Examples\n",
    "    --------\n",
    "    >>> remove_dup(['hello', 'bonjour', 'aloha', 'goodbye', 'au revoir', 'aloha'])\n",
    "    ['hello', 'bonjour', 'aloha', 'goodbye', 'au revoir']\n",
    "    \n",
    "    >>> remove_dup(3*[x for x in range(1,11)])\n",
    "    [1, 2, 3, 4, 5, 6, 7, 8, 9, 10]\n",
    "    \n",
    "    >>> remove_dup(list('the quick brown fox jumps over the lazy dog & 437 unicorns'))\n",
    "    ['t', 'h', 'e', ' ', 'q', 'u', 'i', 'c', 'k', 'b', 'r', 'o', 'w', 'n', 'f', 'x', \n",
    "     'j', 'm', 'p', 's', 'v', 'l', 'a', 'z', 'y', 'd', 'g', '&', '4', '3', '7', '.']\n",
    "    \"\"\"\n",
    "    short_list = []\n",
    "    \n",
    "    return short_list"
   ]
  },
  {
   "cell_type": "code",
   "execution_count": null,
   "metadata": {},
   "outputs": [],
   "source": [
    "list_1 = ['hello', 'bonjour', 'aloha', 'goodbye', \"au revoir\", \"aloha\"]\n",
    "print('list_1:', list_1)\n",
    "\n",
    "list_2 = 3*[x for x in range(1,11)]\n",
    "print('list_2:', list_2)\n",
    "\n",
    "list_3 = list('the quick brown fox jumps over the lazy dog & 437 unicorns.')\n",
    "print('list_3:', list_3)"
   ]
  },
  {
   "cell_type": "code",
   "execution_count": null,
   "metadata": {},
   "outputs": [],
   "source": [
    "assert remove_dup(list_1) == ['hello', 'bonjour', 'aloha', 'goodbye', 'au revoir']\n",
    "assert remove_dup(list_2) == [1, 2, 3, 4, 5, 6, 7, 8, 9, 10]\n",
    "assert remove_dup(list_3) == ['t', 'h', 'e', ' ', 'q', 'u', 'i', 'c', 'k', 'b', 'r', 'o', 'w', 'n', \n",
    "                              'f', 'x', 'j', 'm', 'p', 's', 'v', 'l', 'a', 'z', 'y', 'd', 'g', '&', \n",
    "                              '4', '3', '7', '.']"
   ]
  },
  {
   "cell_type": "markdown",
   "metadata": {},
   "source": [
    "## 3. Approximating $\\pi$\n",
    "\n",
    "Infinite series are used to calculate the many _many_ digits of $\\pi$.\n",
    "One such series, now known as the Madhava-Leibniz series, which was first discovered in the 14$^\\text{th}$ century, $$\\pi = \\sqrt{12}\\sum_{k=0}^\\infty \\frac{(-3)^{-k}}{2k+1}.$$\n",
    "\n",
    "By comparing the partial sums of the series to `math.pi`, write a function which computes $\\pi$ with a maximum error of `epsilon`.\n",
    "That is, you'll want to keep adding terms until $$\\left|S_n - \\pi\\right| < \\epsilon,$$ where $S_n$ is the $n^\\text{th}$ partial sum of the series.\n",
    "\n",
    "Also, to ensure we don't have an infinite loop, the function has parameter `max_loops`.\n",
    "You should write your code such that the number of times you loop does not exceed this parameter.\n",
    "\n",
    "Lastly -- although it's recommended you do this first -- complete the docstring for this function.\n",
    "\n",
    "The `math` module is imported; you'll almost certainly want to use `math.pi`, `math.factorial()`, and `math.sqrt()`.\n",
    "Recall also `abs(a-b)` gives you the absolute value $|a-b|$."
   ]
  },
  {
   "cell_type": "code",
   "execution_count": null,
   "metadata": {},
   "outputs": [],
   "source": [
    "import math\n",
    "\n",
    "def approx_pi(epsilon, max_loops):\n",
    "    \"\"\"\n",
    "    \n",
    "    Complete the docstring here\n",
    "    \n",
    "    \"\"\"\n",
    "    s_n = 0\n",
    "    \n",
    "    return s_n"
   ]
  },
  {
   "cell_type": "code",
   "execution_count": null,
   "metadata": {},
   "outputs": [],
   "source": [
    "# test cases\n",
    "assert approx_pi(1e-6, 0) == 0\n",
    "assert approx_pi(1e-6, 10)  == 3.14159051093808\n",
    "assert approx_pi(1e-6, 100) == 3.1415933045030817\n",
    "assert approx_pi(1e-16, 1000) == math.pi"
   ]
  },
  {
   "cell_type": "markdown",
   "metadata": {},
   "source": [
    "## 4. Pascal's Rectangle\n",
    "\n",
    "Pascal's rectangle is a version of [Pascal's triangle](https://en.wikipedia.org/wiki/Pascal%27s_triangle) where the triangle has been rotated to form a rectangle.\n",
    "For instance,\n",
    "\n",
    "|||||||||||||\n",
    "|-----|---|---|----|----|-----|-----|-----|-----|------|------|------|\n",
    "| $j\\backslash i$ | 0 | 1 |  2 |  3 |   4 |   5 |   6 |   7 |    8 |    9 |   10 |\n",
    "| 0   | 1 | 1 |  1 |  1 |   1 |   1 |   1 |   1 |    1 |    1 |    1 |\n",
    "| 1   | 1 | 2 |  3 |  4 |   5 |   6 |   7 |   8 |    9 |   10 |   11 |\n",
    "| 2   | 1 | 3 |  6 | 10 |  15 |  21 |  28 |  36 |   45 |   55 |   66 |\n",
    "| 3   | 1 | 4 | 10 | 20 |  35 |  56 |  84 | 120 |  165 |  220 |  286 |\n",
    "| 4   | 1 | 5 | 15 | 35 |  70 | 126 | 210 | 330 |  495 |  715 | 1001 |\n",
    "| 5   | 1 | 6 | 21 | 56 | 126 | 252 | 462 | 792 | 1287 | 2002 | 3003 |\n",
    "\n",
    "is a 5-by-10 Pascal's rectangle. (Note: we do not include the first row or column; they are the \"headers\", which we won't worry about when we code our function.)\n",
    "\n",
    "If we denote the entries in the columns by $i$ and the entries in the rows by $j$, then the element at position $(i,j)$ is given by $${i+j \\choose i}.$$\n",
    "This notation denotes the _choose_ function, and is implemented in the function `nCr` for you.\n",
    "So, to get the value of entry at $(i,j)$, one should use `nCr(i+j,i)`.\n",
    "\n",
    "Complete the functions `make_pascal_loops` and `make_pascal_list_comp`, given their docstring.\n",
    "(They're the same function, but one should use nested loops, and the other should use list comprehension.)"
   ]
  },
  {
   "cell_type": "code",
   "execution_count": null,
   "metadata": {},
   "outputs": [],
   "source": [
    "import operator as op\n",
    "from functools import reduce\n",
    "\n",
    "def ncr(n, r):\n",
    "    \"\"\"\n",
    "    For integers n, r, computes nCr.\n",
    "    \"\"\"\n",
    "    \n",
    "    r = min(r, n-r)\n",
    "    numer = reduce(op.mul, range(n, n-r, -1), 1)\n",
    "    denom = reduce(op.mul, range(1, r+1), 1)\n",
    "    return numer // denom"
   ]
  },
  {
   "cell_type": "code",
   "execution_count": null,
   "metadata": {},
   "outputs": [],
   "source": [
    "def make_pascal_loops(m, n):\n",
    "    \"\"\"\n",
    "    Creates an m-by-n pascal's rectangle.\n",
    "    Uses (nested) loops.\n",
    "    \n",
    "    Parameters\n",
    "    ----------\n",
    "    m : int, positive, the number of rows\n",
    "    n : int, positive, the number of columns\n",
    "    \n",
    "    Returns \n",
    "    -------\n",
    "    pascals : list, a nested list representing pascal's rectangle\n",
    "    \n",
    "    Examples\n",
    "    --------\n",
    "    >>> make_pascal(1,1)\n",
    "    [[1]]\n",
    "    \n",
    "    >>> make_pascal(5,5)\n",
    "    [[1, 1, 1, 1, 1],\n",
    "     [1, 2, 3, 4, 5],\n",
    "     [1, 3, 6, 10, 15],\n",
    "     [1, 4, 10, 20, 35],\n",
    "     [1, 5, 15, 35, 70]]\n",
    "     \n",
    "    >>> make_pascal(3,8)\n",
    "    [[1, 1, 1, 1, 1, 1, 1, 1],\n",
    "     [1, 2, 3, 4, 5, 6, 7, 8],\n",
    "     [1, 3, 6, 10, 15, 21, 28, 36]]\n",
    "    \"\"\"\n",
    "    \n",
    "    pascals = []\n",
    "    \n",
    "    return pascals"
   ]
  },
  {
   "cell_type": "code",
   "execution_count": null,
   "metadata": {},
   "outputs": [],
   "source": [
    "def make_pascal_list_comp(m, n):\n",
    "    \"\"\"\n",
    "    Creates an m-by-n pascal's rectangle.\n",
    "    Uses list comprehension.\n",
    "    \n",
    "    Parameters\n",
    "    ----------\n",
    "    m : int, the number of rows\n",
    "    n : int, the number of columns\n",
    "    \n",
    "    Returns \n",
    "    -------\n",
    "    pascals : list, a nested list representing pascal's rectangle\n",
    "    \n",
    "    Examples\n",
    "    --------\n",
    "    >>> make_pascal(1,1)\n",
    "    [[1]]\n",
    "    \n",
    "    >>> make_pascal(5,5)\n",
    "    [[1, 1, 1, 1, 1],\n",
    "     [1, 2, 3, 4, 5],\n",
    "     [1, 3, 6, 10, 15],\n",
    "     [1, 4, 10, 20, 35],\n",
    "     [1, 5, 15, 35, 70]]\n",
    "     \n",
    "    >>> make_pascal(3,8)\n",
    "    [[1, 1, 1, 1, 1, 1, 1, 1],\n",
    "     [1, 2, 3, 4, 5, 6, 7, 8],\n",
    "     [1, 3, 6, 10, 15, 21, 28, 36]]\n",
    "    \"\"\"\n",
    "    \n",
    "    pascals = []\n",
    "    \n",
    "    return pascals"
   ]
  },
  {
   "cell_type": "code",
   "execution_count": null,
   "metadata": {},
   "outputs": [],
   "source": []
  }
 ],
 "metadata": {
  "kernelspec": {
   "display_name": "Python 3",
   "language": "python",
   "name": "python3"
  },
  "language_info": {
   "codemirror_mode": {
    "name": "ipython",
    "version": 3
   },
   "file_extension": ".py",
   "mimetype": "text/x-python",
   "name": "python",
   "nbconvert_exporter": "python",
   "pygments_lexer": "ipython3",
   "version": "3.7.7"
  }
 },
 "nbformat": 4,
 "nbformat_minor": 4
}
