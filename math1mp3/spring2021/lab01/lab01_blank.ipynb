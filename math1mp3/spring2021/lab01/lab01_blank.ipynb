{
 "cells": [
  {
   "cell_type": "markdown",
   "metadata": {},
   "source": [
    "# Lab 1: Wednesday, May 5\n",
    "\n",
    "The first lab will be a gentle introduction; the exercises are straightforward, and designed to get you used to writing code.\n",
    "We'll cover the following material:\n",
    "1. Anaconda and Jupyter,\n",
    "2. Truth tables & Coding Bat exercises (from Monday's Lecture), and,\n",
    "3. Any questions you may have.\n",
    "\n",
    "For each of the four CodingBat exercises: read through the prompt, write code to finish off the function, and use the test cases here to test your work!\n",
    "For the first two, we'll also write out some truth tables."
   ]
  },
  {
   "cell_type": "markdown",
   "metadata": {},
   "source": [
    "## 1. Anaconda & Jupyter\n",
    "\n",
    "Download link: https://www.anaconda.com/products/individual."
   ]
  },
  {
   "cell_type": "markdown",
   "metadata": {},
   "source": [
    "## 2. Exercises"
   ]
  },
  {
   "cell_type": "markdown",
   "metadata": {},
   "source": [
    "### 2.1. [Sleep In](https://codingbat.com/prob/p173401)\n",
    "\n",
    "The parameter `weekday` is `True` if it is a weekday, and the parameter `vacation` is `True` if we are on vacation. \n",
    "We sleep in if it is not a weekday or we're on vacation. \n",
    "Return `True` if we sleep in.\n",
    "\n",
    "---\n",
    "\n",
    "This one's fairly straightforward; you may be able to approach it without creating a truth table, but it's good practice to nonetheless.\n",
    "The last column corresponds to the desired output for the function.\n",
    "Go through and replace each of the `?`.\n",
    "\n",
    "You can either double-click this cell and edit the table using Markdown if you're comfortable, or just write the table out on a piece of paper.\n",
    "\n",
    "Note: the original version had a typo in the last column.\n",
    "It has been fixed here.\n",
    "\n",
    "| weekday | vacation |    | not weekday | | vacation or (not weekday)\n",
    "| :- | :- |:-| :-|:-|:-|\n",
    "| True | True || False || ?\n",
    "| True | False || False || ? \n",
    "| False | True || ? || ?\n",
    "| False | False || ? || ?"
   ]
  },
  {
   "cell_type": "code",
   "execution_count": null,
   "metadata": {},
   "outputs": [],
   "source": [
    "def sleep_in(weekday, vacation):\n",
    "    return"
   ]
  },
  {
   "cell_type": "code",
   "execution_count": null,
   "metadata": {},
   "outputs": [],
   "source": [
    "# test cases\n",
    "# make sure you've run the cell with the `sleep_in` code before running this cell!\n",
    "print(sleep_in(False, False)) # should print True\n",
    "print(sleep_in(True, False)) # should print False\n",
    "print(sleep_in(False, True)) # should print True"
   ]
  },
  {
   "cell_type": "markdown",
   "metadata": {},
   "source": [
    "### 2.2. [Monkey Trouble](https://codingbat.com/prob/p120546)\n",
    "\n",
    "We have two monkeys, a and b, and the parameters `a_smile` and `b_smile` indicate if each is smiling. \n",
    "We are in trouble if they are both smiling or if neither of them is smiling. \n",
    "Return `True` if we are in trouble.\n",
    "\n",
    "---\n",
    "\n",
    "Fill in the following truth table (here, we'll use `A` to denote `a_smile`, and `B` to denote `b_smile`).\n",
    "Again, the last column corresponds to the desired output of the function.\n",
    "\n",
    "| A | B |   | not A | not B |   | A and B |   | (not A) and (not B) |   | ? |\n",
    "| :-| :-| :-| :-    | :-    | :-| :-      | :-| :-                  | :-| :-|\n",
    "| True | True || False | ? || ? || ? || ?\n",
    "| True | False || False | ? || ? || ? || ?\n",
    "| False | True || True | ? || ? || ? || ?\n",
    "| False | False || True | ? || ? || ? || ?"
   ]
  },
  {
   "cell_type": "code",
   "execution_count": null,
   "metadata": {},
   "outputs": [],
   "source": [
    "def monkey_trouble(a_smile, b_smile):\n",
    "    return"
   ]
  },
  {
   "cell_type": "code",
   "execution_count": null,
   "metadata": {},
   "outputs": [],
   "source": [
    "# test cases\n",
    "print(monkey_trouble(True, True)) # should print True\n",
    "print(monkey_trouble(False, False)) # should print True\n",
    "print(monkey_trouble(True, False)) # should print False"
   ]
  },
  {
   "cell_type": "markdown",
   "metadata": {},
   "source": [
    "Are there any improvements you could make to this? (Perhaps instead of thinking that `a_smile` and `b_smile` need to both meet one of two conditions, could you instead express the condition by relating `a_smile` to `b_smile`? Hint: you'll want to use `==`.)\n",
    "The return statement can be done is as few as 3 words (4 words if you're counting the word `return`)."
   ]
  },
  {
   "cell_type": "code",
   "execution_count": null,
   "metadata": {},
   "outputs": [],
   "source": [
    "def monkey_trouble(a_smile, b_smile):\n",
    "    return"
   ]
  },
  {
   "cell_type": "markdown",
   "metadata": {},
   "source": [
    "### 2.3. [Squirrel Play](https://codingbat.com/prob/p135815)\n",
    "\n",
    "The squirrels in Palo Alto spend most of the day playing. \n",
    "In particular, they play if the temperature is between 60 and 90 (inclusive). \n",
    "Unless it is summer, then the upper limit is 100 instead of 90. \n",
    "Given an integer `temp` and a boolean `is_summer`, return `True` if the squirrels play and `False` otherwise."
   ]
  },
  {
   "cell_type": "code",
   "execution_count": null,
   "metadata": {},
   "outputs": [],
   "source": [
    "def squirrel_play(temp, is_summer):\n",
    "    return"
   ]
  },
  {
   "cell_type": "code",
   "execution_count": null,
   "metadata": {},
   "outputs": [],
   "source": [
    "# test cases\n",
    "print(squirrel_play(70, False)) # should print True\n",
    "print(squirrel_play(95, False)) # should print False\n",
    "print(squirrel_play(95, True)) # should print True"
   ]
  },
  {
   "cell_type": "markdown",
   "metadata": {},
   "source": [
    "### 2.4. [Cigar Party](https://codingbat.com/prob/p195669)\n",
    "\n",
    "When squirrels get together for a party, they like to have cigars. \n",
    "A squirrel party is successful when the number of cigars is between 40 and 60, inclusive. \n",
    "Unless it is the weekend, in which case there is no upper bound on the number of cigars. \n",
    "Return `True` if the party with the given values is successful, and `False` otherwise."
   ]
  },
  {
   "cell_type": "code",
   "execution_count": null,
   "metadata": {},
   "outputs": [],
   "source": [
    "def cigar_party(cigars, is_weekend):\n",
    "    return"
   ]
  },
  {
   "cell_type": "code",
   "execution_count": null,
   "metadata": {},
   "outputs": [],
   "source": [
    "# test cases\n",
    "print(cigar_party(30, False)) # should print False\n",
    "print(cigar_party(50, False)) # should print True\n",
    "print(cigar_party(70, True)) # should print True"
   ]
  },
  {
   "cell_type": "markdown",
   "metadata": {},
   "source": [
    "## 3. Any questions?\n",
    "\n",
    "If you have any questions relating to course content, Python, programming, etc., now's the time to ask!\n",
    "(Questions can be anything from a specific practice problem to just a concept that you're unsure about.)"
   ]
  },
  {
   "cell_type": "code",
   "execution_count": null,
   "metadata": {},
   "outputs": [],
   "source": []
  }
 ],
 "metadata": {
  "kernelspec": {
   "display_name": "Python 3",
   "language": "python",
   "name": "python3"
  },
  "language_info": {
   "codemirror_mode": {
    "name": "ipython",
    "version": 3
   },
   "file_extension": ".py",
   "mimetype": "text/x-python",
   "name": "python",
   "nbconvert_exporter": "python",
   "pygments_lexer": "ipython3",
   "version": "3.7.7"
  }
 },
 "nbformat": 4,
 "nbformat_minor": 4
}
