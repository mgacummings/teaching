{
 "cells": [
  {
   "cell_type": "code",
   "execution_count": 1,
   "metadata": {},
   "outputs": [],
   "source": [
    "import numpy as np\n",
    "import matplotlib.pyplot as plt\n",
    "import numpy.random as random"
   ]
  },
  {
   "cell_type": "markdown",
   "metadata": {},
   "source": [
    "Topics:\n",
    "  * Differential equations\n",
    "  * Euler's method [(cheat sheet)](https://ms.mcmaster.ca/~pocucan/1mp3/diffy_cheat_sheet.png)\n",
    "  * NumPy Random (time permitting)\n",
    "\n",
    "--- \n",
    "\n",
    "**Exercise 1**\n",
    "\n",
    "Write the rate of change functions (`da_dt(a, t, k)`, `db_dt(b, t, k)`, `dc_dt(c, t, k)`) for the differential equations given by the following descriptions:\n",
    "\n",
    "  a. The rate of change $\\frac{da}{dt}$ is proportional to the square of time elapsed and inversely proportional to the quantity $a$\n",
    "  \n",
    "  b. The rate of change $\\frac{db}{dt}$ is inversely proportional to the square root of the time elapsed cubed and inversely proportional to the square of the quantity $b$\n",
    "  \n",
    "  c. The rate of change $\\frac{dc}{dt}$ is inversely proportional to the exponential of twice time elapsed and proportional to the sine of $\\pi$ times the quantity $c$\n",
    "\n",
    "---\n",
    "\n",
    "$$\\frac{da}{dt} = \\frac{kt^{2}}{a}$$\n",
    "\n",
    "$$\\frac{db}{dt} = \\frac{k}{b^{2}\\sqrt{t^{3}}}$$\n",
    "\n",
    "$$\\frac{dc}{dt} = \\frac{k\\text{sin}(\\pi c)}{e^{2t}}$$"
   ]
  },
  {
   "cell_type": "code",
   "execution_count": 59,
   "metadata": {},
   "outputs": [],
   "source": [
    "def da_dt(a, t, k):\n",
    "    result = (k * (t ** 2)) / a\n",
    "    return result\n",
    "\n",
    "def db_dt(b, t, k):\n",
    "    result = k / (np.sqrt(t ** 3) * (b ** 2))\n",
    "    return result\n",
    "\n",
    "def dc_dt(c, t, k):\n",
    "    result = (k * np.sin(np.pi * c)) / np.exp(2 * t)\n",
    "    return result"
   ]
  },
  {
   "cell_type": "markdown",
   "metadata": {},
   "source": [
    "**Exercise 2**\n",
    "\n",
    "The rate of change of a population is proportional to the product of the population and time elapsed. \n",
    "  * What differential equation represents this system?\n",
    "  * Graph this differential equation, assuming an initial population of $100$ and $k=\\frac{1}{e^{2}}$\n",
    "\n",
    "---\n",
    "\n",
    "Differential equation:\n",
    "\n",
    "$$\n",
    "\\frac{dP}{dt} = kPt\n",
    "$$"
   ]
  },
  {
   "cell_type": "code",
   "execution_count": 11,
   "metadata": {},
   "outputs": [
    {
     "data": {
      "image/png": "[encoded data removed]",
      "text/plain": [
       "<Figure size 432x288 with 1 Axes>"
      ]
     },
     "metadata": {
      "needs_background": "light"
     },
     "output_type": "display_data"
    }
   ],
   "source": [
    "def dP_dt(P_i, t_i, k):\n",
    "    return k * P_i * t_i\n",
    "\n",
    "P = np.array([100])\n",
    "k = 1/np.exp(2)\n",
    "\n",
    "t = np.linspace(0, 6, 100)\n",
    "h = t[1] - t[0]\n",
    "\n",
    "for i in range(len(t)):\n",
    "    P_change = dP_dt(P[i], t[i], k)\n",
    "    P_new = P[i] + h*P_change\n",
    "    P = np.append(P, P_new)\n",
    "\n",
    "plt.plot(t, P[1:], label='Population')\n",
    "plt.legend()\n",
    "plt.show()"
   ]
  },
  {
   "cell_type": "markdown",
   "metadata": {},
   "source": [
    "**Exercise 3**\n",
    "\n",
    "Consider the following differential equation, where $y$ is some function of $x$:\n",
    "\n",
    "$$\n",
    "\\frac{dy}{dx} = (y^{2}-y-2)(1-y)^{2}\n",
    "$$\n",
    "\n",
    "Graph this differential equation with the following initial values:\n",
    "  * $y(0) = -5/2$\n",
    "  * $y(0) = -2$\n",
    "  * $y(0) = -3/2$\n",
    "  * $y(0) = -1$\n",
    "  * $y(0) = -1/2$\n",
    "  * $y(0) = 0$\n",
    "  * $y(0) = 1/2$\n",
    "  * $y(0) = 1$\n",
    "  * $y(0) = 3/2$\n",
    "  * $y(0) = 2$"
   ]
  },
  {
   "cell_type": "code",
   "execution_count": 12,
   "metadata": {},
   "outputs": [
    {
     "data": {
      "image/png": "[encoded data removed]",
      "text/plain": [
       "<Figure size 432x288 with 1 Axes>"
      ]
     },
     "metadata": {
      "needs_background": "light"
     },
     "output_type": "display_data"
    }
   ],
   "source": [
    "def dy_dx(y_i):\n",
    "    result = ((y_i ** 2) - y_i - 2)*((1 - y_i) ** 2)\n",
    "    return result\n",
    "\n",
    "def graph(y_0):\n",
    "    x = np.linspace(1, 3, 500)\n",
    "    h = x[1] - x[0]\n",
    "    y = np.array([y_0])\n",
    "    \n",
    "    for i in range(len(x)):\n",
    "        y_change = dy_dx(y[i])\n",
    "        y_new = y[i] + h * y_change\n",
    "        y = np.append(y, y_new)\n",
    "    \n",
    "    plt.plot(x, y[1:], label=str(y_0))\n",
    "\n",
    "\n",
    "for j in range(-5, 5):\n",
    "    graph(j/2)\n",
    "\n",
    "plt.legend(loc='lower right')\n",
    "plt.show()"
   ]
  },
  {
   "cell_type": "markdown",
   "metadata": {},
   "source": [
    "**Exercise 4**\n",
    "\n",
    "The differential equation \n",
    "$$\\frac{dP}{dt} = P(t)(k\\cdot\\text{cos}(t)),$$ \n",
    "where $k$ is a positive constant, is a mathematical model for a population $P(t)$ that undergoes yearly seasonal fluctuations.\n",
    "\n",
    "---\n",
    "\n",
    "Take $k = 1/10$ and an initial population of 30."
   ]
  },
  {
   "cell_type": "code",
   "execution_count": 3,
   "metadata": {},
   "outputs": [
    {
     "data": {
      "image/png": "[encoded data removed]",
      "text/plain": [
       "<Figure size 432x288 with 1 Axes>"
      ]
     },
     "metadata": {
      "needs_background": "light"
     },
     "output_type": "display_data"
    }
   ],
   "source": [
    "def dP_dt(P_i, t_i, k):\n",
    "    return P_i * k * np.cos(t_i)\n",
    "\n",
    "k = 1/10  # some constant \n",
    "P = np.array([30])  # population, initially at 30\n",
    "\n",
    "t = np.linspace(0, 50, 10000)  # sample points in time\n",
    "h = t[1] - t[0]  # delta t\n",
    "\n",
    "for i in range(len(t)):\n",
    "    P_change = dP_dt(P[i], t[i], k)\n",
    "    P_now = P[i] + h * P_change\n",
    "    P = np.append(P, P_now)\n",
    "\n",
    "plt.plot(t, P[1:])\n",
    "plt.title('Population with Seasonal Fluctuations')\n",
    "plt.show()"
   ]
  },
  {
   "cell_type": "markdown",
   "metadata": {},
   "source": [
    "**Exercise 5** - \n",
    "_The Monty Hall Problem_\n",
    "\n",
    "\n",
    "The Monty Hall Problem is a well-known probability-based problem which arose from the TV-show, _Let's Make a Deal_.\n",
    "The set up goes like this:\n",
    "\n",
    "There are three doors.\n",
    "Behind one door is a car and behind the other two are goats. \n",
    "You want to pick the door which reveals the car.\n",
    "\n",
    "You pick a door, and the host opens a different door which reveals a goat.\n",
    "You are then given a choice: would you like to **stick** with your original choice, or **switch** to the remaining door?\n",
    "\n",
    "For example: you pick door number 1. \n",
    "The host shows you that behind door number 3 is a goat. \n",
    "So, you now know that the car is either in door number 1 or door number 2. \n",
    "You then have the choice: would you like to **stick** with your choice of door number 1, or **switch** to the remaining door, door number 2.\n",
    "\n",
    "The Monty Hall Problem asks: which strategy is better? Is it more favourable to stick or switch? Is there a difference at all?"
   ]
  },
  {
   "cell_type": "code",
   "execution_count": 122,
   "metadata": {},
   "outputs": [],
   "source": [
    "def monty_doors():\n",
    "    # array containing two 0s (goats) and a 1 (car)\n",
    "    doors = np.array([0, 0, 1])\n",
    "    # shuffle them\n",
    "    random.shuffle(doors)\n",
    "    return doors   "
   ]
  },
  {
   "cell_type": "code",
   "execution_count": 123,
   "metadata": {},
   "outputs": [],
   "source": [
    "# because we are going to want to simulate many rounds, we will make our first pick randomly\n",
    "def pick_door():\n",
    "    return random.choice([0, 1, 2])"
   ]
  },
  {
   "cell_type": "code",
   "execution_count": 124,
   "metadata": {},
   "outputs": [],
   "source": [
    "def monty_round():\n",
    "    # door set up:\n",
    "    doors = monty_doors()\n",
    "    \n",
    "    # our pick:\n",
    "    door_choice_index = pick_door()\n",
    "    \n",
    "    # corresponding_doors is a dictionary that takes an int: 1, 2, or 3 as a key (corresponding to our choice)\n",
    "    # and maps those to the indices of `doors` which correspond to the doors we have not picked\n",
    "    corresponding_doors = {0:'12', 1: '02', 2: '01'}\n",
    "    remaining_doors = corresponding_doors[door_choice_index]  # the remaining doors, given our choice\n",
    "    \n",
    "    # we now have two doors to pick from: which one should we choose?\n",
    "    for index in range(len(doors)):\n",
    "        if doors[index] == 0 and str(index) in remaining_doors:\n",
    "            goat_door = index\n",
    "            break\n",
    "    \n",
    "    # we can then find the index of the other remaining door\n",
    "    # we know that the indicies of the doors will sum to 3: 0 + 1 + 2 = 3 \n",
    "    # rearranging:\n",
    "    last_door = 3 - (goat_door + (door_choice_index))\n",
    "    \n",
    "#     # return 'stick' if stick wins\n",
    "#     # return 'switch' if switch wins\n",
    "#     if doors[door_choice_index] == 1:\n",
    "#         return 'stick'\n",
    "#     elif doors[last_door] == 1:\n",
    "#         return 'switch'\n",
    "#     else:\n",
    "#         return 'error'\n",
    "    \n",
    "    # it doesn't look like we're getting `error` at all, so let's change it to this:\n",
    "    if doors[door_choice_index] == 1:\n",
    "        return 'stick'\n",
    "    else:\n",
    "        return 'switch'"
   ]
  },
  {
   "cell_type": "code",
   "execution_count": 125,
   "metadata": {},
   "outputs": [],
   "source": [
    "def simulate_monty(num_rounds):\n",
    "    winning = [0, 0]  # [stick, switch]\n",
    "    for i in range(num_rounds):\n",
    "        choice = monty_round()\n",
    "        winning[choice == 'switch'] += 1  \n",
    "    \n",
    "    return winning"
   ]
  },
  {
   "cell_type": "code",
   "execution_count": 126,
   "metadata": {},
   "outputs": [],
   "source": [
    "def plot_monty(results_list):\n",
    "    plt.pie(results_list, labels=['stick', 'switch'], autopct='%.2f')\n",
    "    plt.show()"
   ]
  },
  {
   "cell_type": "code",
   "execution_count": 128,
   "metadata": {
    "scrolled": true
   },
   "outputs": [
    {
     "data": {
      "image/png": "[encoded data removed]",
      "text/plain": [
       "<Figure size 432x288 with 1 Axes>"
      ]
     },
     "metadata": {},
     "output_type": "display_data"
    }
   ],
   "source": [
    "winners = simulate_monty(10000)\n",
    "plot_monty(winners)"
   ]
  }
 ],
 "metadata": {
  "kernelspec": {
   "display_name": "Python 3",
   "language": "python",
   "name": "python3"
  },
  "language_info": {
   "codemirror_mode": {
    "name": "ipython",
    "version": 3
   },
   "file_extension": ".py",
   "mimetype": "text/x-python",
   "name": "python",
   "nbconvert_exporter": "python",
   "pygments_lexer": "ipython3",
   "version": "3.7.1"
  }
 },
 "nbformat": 4,
 "nbformat_minor": 2
}
